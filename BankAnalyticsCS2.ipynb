{
  "nbformat": 4,
  "nbformat_minor": 0,
  "metadata": {
    "colab": {
      "name": "BankAnalyticsCS2.ipynb",
      "provenance": []
    },
    "kernelspec": {
      "name": "python3",
      "display_name": "Python 3"
    }
  },
  "cells": [
    {
      "cell_type": "markdown",
      "metadata": {
        "id": "chKXdcyRNp_E"
      },
      "source": [
        "**Problem Statement: ATM CASH PREDICTION**"
      ]
    },
    {
      "cell_type": "code",
      "metadata": {
        "id": "Dpb7BcOZM8Nk"
      },
      "source": [
        "#Importing Libraries\n",
        "import pandas as pd\n",
        "import numpy as np \n",
        "import matplotlib.pyplot as plt \n",
        "import seaborn as sns"
      ],
      "execution_count": null,
      "outputs": []
    },
    {
      "cell_type": "code",
      "metadata": {
        "id": "7qIKB-B-Co1T"
      },
      "source": [
        "#!pip3 uninstall statsmodels"
      ],
      "execution_count": null,
      "outputs": []
    },
    {
      "cell_type": "code",
      "metadata": {
        "id": "yKLg1In1C3y7",
        "colab": {
          "base_uri": "https://localhost:8080/",
          "height": 134
        },
        "outputId": "3cef7222-7dc8-4f0e-b426-06e2ef1440d8"
      },
      "source": [
        "!pip3 install numpy scipy patsy pandas\n"
      ],
      "execution_count": null,
      "outputs": [
        {
          "output_type": "stream",
          "text": [
            "Requirement already satisfied: numpy in /usr/local/lib/python3.6/dist-packages (1.18.5)\n",
            "Requirement already satisfied: scipy in /usr/local/lib/python3.6/dist-packages (1.4.1)\n",
            "Requirement already satisfied: patsy in /usr/local/lib/python3.6/dist-packages (0.5.1)\n",
            "Requirement already satisfied: pandas in /usr/local/lib/python3.6/dist-packages (1.0.5)\n",
            "Requirement already satisfied: six in /usr/local/lib/python3.6/dist-packages (from patsy) (1.15.0)\n",
            "Requirement already satisfied: python-dateutil>=2.6.1 in /usr/local/lib/python3.6/dist-packages (from pandas) (2.8.1)\n",
            "Requirement already satisfied: pytz>=2017.2 in /usr/local/lib/python3.6/dist-packages (from pandas) (2018.9)\n"
          ],
          "name": "stdout"
        }
      ]
    },
    {
      "cell_type": "code",
      "metadata": {
        "id": "K3z3Dh10C7o1",
        "colab": {
          "base_uri": "https://localhost:8080/",
          "height": 151
        },
        "outputId": "899f50f6-02ed-4738-fb04-75eec6284f6f"
      },
      "source": [
        "\n",
        "!pip3 install statsmodels"
      ],
      "execution_count": null,
      "outputs": [
        {
          "output_type": "stream",
          "text": [
            "Requirement already satisfied: statsmodels in /usr/local/lib/python3.6/dist-packages (0.11.1)\n",
            "Requirement already satisfied: numpy>=1.14 in /usr/local/lib/python3.6/dist-packages (from statsmodels) (1.18.5)\n",
            "Requirement already satisfied: pandas>=0.21 in /usr/local/lib/python3.6/dist-packages (from statsmodels) (1.0.5)\n",
            "Requirement already satisfied: scipy>=1.0 in /usr/local/lib/python3.6/dist-packages (from statsmodels) (1.4.1)\n",
            "Requirement already satisfied: patsy>=0.5 in /usr/local/lib/python3.6/dist-packages (from statsmodels) (0.5.1)\n",
            "Requirement already satisfied: pytz>=2017.2 in /usr/local/lib/python3.6/dist-packages (from pandas>=0.21->statsmodels) (2018.9)\n",
            "Requirement already satisfied: python-dateutil>=2.6.1 in /usr/local/lib/python3.6/dist-packages (from pandas>=0.21->statsmodels) (2.8.1)\n",
            "Requirement already satisfied: six in /usr/local/lib/python3.6/dist-packages (from patsy>=0.5->statsmodels) (1.15.0)\n"
          ],
          "name": "stdout"
        }
      ]
    },
    {
      "cell_type": "code",
      "metadata": {
        "id": "d5RksSL-DXgu"
      },
      "source": [
        "import statsmodels.api as sm"
      ],
      "execution_count": null,
      "outputs": []
    },
    {
      "cell_type": "code",
      "metadata": {
        "id": "NqT66wekOIt1",
        "colab": {
          "base_uri": "https://localhost:8080/",
          "height": 774
        },
        "outputId": "b9947b3e-3a31-4cb3-8434-895ce225564c"
      },
      "source": [
        "#Loading the dataset \n",
        "atm = pd.read_csv('atm bank dataset.csv')\n",
        "atm"
      ],
      "execution_count": null,
      "outputs": [
        {
          "output_type": "execute_result",
          "data": {
            "text/html": [
              "<div>\n",
              "<style scoped>\n",
              "    .dataframe tbody tr th:only-of-type {\n",
              "        vertical-align: middle;\n",
              "    }\n",
              "\n",
              "    .dataframe tbody tr th {\n",
              "        vertical-align: top;\n",
              "    }\n",
              "\n",
              "    .dataframe thead th {\n",
              "        text-align: right;\n",
              "    }\n",
              "</style>\n",
              "<table border=\"1\" class=\"dataframe\">\n",
              "  <thead>\n",
              "    <tr style=\"text-align: right;\">\n",
              "      <th></th>\n",
              "      <th>Unnamed: 0</th>\n",
              "      <th>atm_name</th>\n",
              "      <th>weekday</th>\n",
              "      <th>festival_religion</th>\n",
              "      <th>working_day</th>\n",
              "      <th>holiday_sequence</th>\n",
              "      <th>trans_date_set</th>\n",
              "      <th>trans_month</th>\n",
              "      <th>trans_year</th>\n",
              "      <th>prevweek_mean</th>\n",
              "      <th>total_amount_withdrawn</th>\n",
              "    </tr>\n",
              "  </thead>\n",
              "  <tbody>\n",
              "    <tr>\n",
              "      <th>0</th>\n",
              "      <td>11</td>\n",
              "      <td>Mount Road ATM</td>\n",
              "      <td>MONDAY</td>\n",
              "      <td>NH</td>\n",
              "      <td>W</td>\n",
              "      <td>WWW</td>\n",
              "      <td>1</td>\n",
              "      <td>1</td>\n",
              "      <td>2011</td>\n",
              "      <td>648600</td>\n",
              "      <td>897100</td>\n",
              "    </tr>\n",
              "    <tr>\n",
              "      <th>1</th>\n",
              "      <td>16</td>\n",
              "      <td>Mount Road ATM</td>\n",
              "      <td>TUESDAY</td>\n",
              "      <td>NH</td>\n",
              "      <td>W</td>\n",
              "      <td>WWW</td>\n",
              "      <td>1</td>\n",
              "      <td>1</td>\n",
              "      <td>2011</td>\n",
              "      <td>648600</td>\n",
              "      <td>826000</td>\n",
              "    </tr>\n",
              "    <tr>\n",
              "      <th>2</th>\n",
              "      <td>21</td>\n",
              "      <td>Mount Road ATM</td>\n",
              "      <td>WEDNESDAY</td>\n",
              "      <td>NH</td>\n",
              "      <td>W</td>\n",
              "      <td>WWW</td>\n",
              "      <td>1</td>\n",
              "      <td>1</td>\n",
              "      <td>2011</td>\n",
              "      <td>648600</td>\n",
              "      <td>754400</td>\n",
              "    </tr>\n",
              "    <tr>\n",
              "      <th>3</th>\n",
              "      <td>26</td>\n",
              "      <td>Mount Road ATM</td>\n",
              "      <td>THURSDAY</td>\n",
              "      <td>NH</td>\n",
              "      <td>W</td>\n",
              "      <td>WWW</td>\n",
              "      <td>2</td>\n",
              "      <td>1</td>\n",
              "      <td>2011</td>\n",
              "      <td>648600</td>\n",
              "      <td>834200</td>\n",
              "    </tr>\n",
              "    <tr>\n",
              "      <th>4</th>\n",
              "      <td>31</td>\n",
              "      <td>Mount Road ATM</td>\n",
              "      <td>FRIDAY</td>\n",
              "      <td>NH</td>\n",
              "      <td>W</td>\n",
              "      <td>WWW</td>\n",
              "      <td>2</td>\n",
              "      <td>1</td>\n",
              "      <td>2011</td>\n",
              "      <td>648600</td>\n",
              "      <td>575300</td>\n",
              "    </tr>\n",
              "    <tr>\n",
              "      <th>...</th>\n",
              "      <td>...</td>\n",
              "      <td>...</td>\n",
              "      <td>...</td>\n",
              "      <td>...</td>\n",
              "      <td>...</td>\n",
              "      <td>...</td>\n",
              "      <td>...</td>\n",
              "      <td>...</td>\n",
              "      <td>...</td>\n",
              "      <td>...</td>\n",
              "      <td>...</td>\n",
              "    </tr>\n",
              "    <tr>\n",
              "      <th>2239</th>\n",
              "      <td>11565</td>\n",
              "      <td>Mount Road ATM</td>\n",
              "      <td>MONDAY</td>\n",
              "      <td>NH</td>\n",
              "      <td>W</td>\n",
              "      <td>HWW</td>\n",
              "      <td>5</td>\n",
              "      <td>9</td>\n",
              "      <td>2017</td>\n",
              "      <td>276058</td>\n",
              "      <td>447400</td>\n",
              "    </tr>\n",
              "    <tr>\n",
              "      <th>2240</th>\n",
              "      <td>11570</td>\n",
              "      <td>Mount Road ATM</td>\n",
              "      <td>TUESDAY</td>\n",
              "      <td>NH</td>\n",
              "      <td>W</td>\n",
              "      <td>WWW</td>\n",
              "      <td>6</td>\n",
              "      <td>9</td>\n",
              "      <td>2017</td>\n",
              "      <td>276058</td>\n",
              "      <td>153800</td>\n",
              "    </tr>\n",
              "    <tr>\n",
              "      <th>2241</th>\n",
              "      <td>11575</td>\n",
              "      <td>Mount Road ATM</td>\n",
              "      <td>WEDNESDAY</td>\n",
              "      <td>NH</td>\n",
              "      <td>W</td>\n",
              "      <td>WWW</td>\n",
              "      <td>6</td>\n",
              "      <td>9</td>\n",
              "      <td>2017</td>\n",
              "      <td>276058</td>\n",
              "      <td>167100</td>\n",
              "    </tr>\n",
              "    <tr>\n",
              "      <th>2242</th>\n",
              "      <td>11580</td>\n",
              "      <td>Mount Road ATM</td>\n",
              "      <td>THURSDAY</td>\n",
              "      <td>NH</td>\n",
              "      <td>W</td>\n",
              "      <td>WWH</td>\n",
              "      <td>6</td>\n",
              "      <td>9</td>\n",
              "      <td>2017</td>\n",
              "      <td>276058</td>\n",
              "      <td>317400</td>\n",
              "    </tr>\n",
              "    <tr>\n",
              "      <th>2243</th>\n",
              "      <td>11585</td>\n",
              "      <td>Mount Road ATM</td>\n",
              "      <td>FRIDAY</td>\n",
              "      <td>H</td>\n",
              "      <td>H</td>\n",
              "      <td>WHH</td>\n",
              "      <td>6</td>\n",
              "      <td>9</td>\n",
              "      <td>2017</td>\n",
              "      <td>276058</td>\n",
              "      <td>305100</td>\n",
              "    </tr>\n",
              "  </tbody>\n",
              "</table>\n",
              "<p>2244 rows × 11 columns</p>\n",
              "</div>"
            ],
            "text/plain": [
              "      Unnamed: 0        atm_name  ... prevweek_mean total_amount_withdrawn\n",
              "0             11  Mount Road ATM  ...        648600                 897100\n",
              "1             16  Mount Road ATM  ...        648600                 826000\n",
              "2             21  Mount Road ATM  ...        648600                 754400\n",
              "3             26  Mount Road ATM  ...        648600                 834200\n",
              "4             31  Mount Road ATM  ...        648600                 575300\n",
              "...          ...             ...  ...           ...                    ...\n",
              "2239       11565  Mount Road ATM  ...        276058                 447400\n",
              "2240       11570  Mount Road ATM  ...        276058                 153800\n",
              "2241       11575  Mount Road ATM  ...        276058                 167100\n",
              "2242       11580  Mount Road ATM  ...        276058                 317400\n",
              "2243       11585  Mount Road ATM  ...        276058                 305100\n",
              "\n",
              "[2244 rows x 11 columns]"
            ]
          },
          "metadata": {
            "tags": []
          },
          "execution_count": 294
        }
      ]
    },
    {
      "cell_type": "code",
      "metadata": {
        "id": "OLW0rz7AOdFP",
        "colab": {
          "base_uri": "https://localhost:8080/",
          "height": 400
        },
        "outputId": "b07057cf-9eeb-40cb-b05a-d77f3b467b3e"
      },
      "source": [
        "#Knowing the dataset\n",
        "atm.head()"
      ],
      "execution_count": null,
      "outputs": [
        {
          "output_type": "execute_result",
          "data": {
            "text/html": [
              "<div>\n",
              "<style scoped>\n",
              "    .dataframe tbody tr th:only-of-type {\n",
              "        vertical-align: middle;\n",
              "    }\n",
              "\n",
              "    .dataframe tbody tr th {\n",
              "        vertical-align: top;\n",
              "    }\n",
              "\n",
              "    .dataframe thead th {\n",
              "        text-align: right;\n",
              "    }\n",
              "</style>\n",
              "<table border=\"1\" class=\"dataframe\">\n",
              "  <thead>\n",
              "    <tr style=\"text-align: right;\">\n",
              "      <th></th>\n",
              "      <th>Unnamed: 0</th>\n",
              "      <th>atm_name</th>\n",
              "      <th>weekday</th>\n",
              "      <th>festival_religion</th>\n",
              "      <th>working_day</th>\n",
              "      <th>holiday_sequence</th>\n",
              "      <th>trans_date_set</th>\n",
              "      <th>trans_month</th>\n",
              "      <th>trans_year</th>\n",
              "      <th>prevweek_mean</th>\n",
              "      <th>total_amount_withdrawn</th>\n",
              "    </tr>\n",
              "  </thead>\n",
              "  <tbody>\n",
              "    <tr>\n",
              "      <th>0</th>\n",
              "      <td>11</td>\n",
              "      <td>Mount Road ATM</td>\n",
              "      <td>MONDAY</td>\n",
              "      <td>NH</td>\n",
              "      <td>W</td>\n",
              "      <td>WWW</td>\n",
              "      <td>1</td>\n",
              "      <td>1</td>\n",
              "      <td>2011</td>\n",
              "      <td>648600</td>\n",
              "      <td>897100</td>\n",
              "    </tr>\n",
              "    <tr>\n",
              "      <th>1</th>\n",
              "      <td>16</td>\n",
              "      <td>Mount Road ATM</td>\n",
              "      <td>TUESDAY</td>\n",
              "      <td>NH</td>\n",
              "      <td>W</td>\n",
              "      <td>WWW</td>\n",
              "      <td>1</td>\n",
              "      <td>1</td>\n",
              "      <td>2011</td>\n",
              "      <td>648600</td>\n",
              "      <td>826000</td>\n",
              "    </tr>\n",
              "    <tr>\n",
              "      <th>2</th>\n",
              "      <td>21</td>\n",
              "      <td>Mount Road ATM</td>\n",
              "      <td>WEDNESDAY</td>\n",
              "      <td>NH</td>\n",
              "      <td>W</td>\n",
              "      <td>WWW</td>\n",
              "      <td>1</td>\n",
              "      <td>1</td>\n",
              "      <td>2011</td>\n",
              "      <td>648600</td>\n",
              "      <td>754400</td>\n",
              "    </tr>\n",
              "    <tr>\n",
              "      <th>3</th>\n",
              "      <td>26</td>\n",
              "      <td>Mount Road ATM</td>\n",
              "      <td>THURSDAY</td>\n",
              "      <td>NH</td>\n",
              "      <td>W</td>\n",
              "      <td>WWW</td>\n",
              "      <td>2</td>\n",
              "      <td>1</td>\n",
              "      <td>2011</td>\n",
              "      <td>648600</td>\n",
              "      <td>834200</td>\n",
              "    </tr>\n",
              "    <tr>\n",
              "      <th>4</th>\n",
              "      <td>31</td>\n",
              "      <td>Mount Road ATM</td>\n",
              "      <td>FRIDAY</td>\n",
              "      <td>NH</td>\n",
              "      <td>W</td>\n",
              "      <td>WWW</td>\n",
              "      <td>2</td>\n",
              "      <td>1</td>\n",
              "      <td>2011</td>\n",
              "      <td>648600</td>\n",
              "      <td>575300</td>\n",
              "    </tr>\n",
              "  </tbody>\n",
              "</table>\n",
              "</div>"
            ],
            "text/plain": [
              "   Unnamed: 0        atm_name  ... prevweek_mean total_amount_withdrawn\n",
              "0          11  Mount Road ATM  ...        648600                 897100\n",
              "1          16  Mount Road ATM  ...        648600                 826000\n",
              "2          21  Mount Road ATM  ...        648600                 754400\n",
              "3          26  Mount Road ATM  ...        648600                 834200\n",
              "4          31  Mount Road ATM  ...        648600                 575300\n",
              "\n",
              "[5 rows x 11 columns]"
            ]
          },
          "metadata": {
            "tags": []
          },
          "execution_count": 295
        }
      ]
    },
    {
      "cell_type": "code",
      "metadata": {
        "id": "7wiaucJjRVpa",
        "colab": {
          "base_uri": "https://localhost:8080/",
          "height": 400
        },
        "outputId": "2c6d81d0-2ee5-43e4-d46e-b63d09dee6ab"
      },
      "source": [
        "atm.tail()"
      ],
      "execution_count": null,
      "outputs": [
        {
          "output_type": "execute_result",
          "data": {
            "text/html": [
              "<div>\n",
              "<style scoped>\n",
              "    .dataframe tbody tr th:only-of-type {\n",
              "        vertical-align: middle;\n",
              "    }\n",
              "\n",
              "    .dataframe tbody tr th {\n",
              "        vertical-align: top;\n",
              "    }\n",
              "\n",
              "    .dataframe thead th {\n",
              "        text-align: right;\n",
              "    }\n",
              "</style>\n",
              "<table border=\"1\" class=\"dataframe\">\n",
              "  <thead>\n",
              "    <tr style=\"text-align: right;\">\n",
              "      <th></th>\n",
              "      <th>Unnamed: 0</th>\n",
              "      <th>atm_name</th>\n",
              "      <th>weekday</th>\n",
              "      <th>festival_religion</th>\n",
              "      <th>working_day</th>\n",
              "      <th>holiday_sequence</th>\n",
              "      <th>trans_date_set</th>\n",
              "      <th>trans_month</th>\n",
              "      <th>trans_year</th>\n",
              "      <th>prevweek_mean</th>\n",
              "      <th>total_amount_withdrawn</th>\n",
              "    </tr>\n",
              "  </thead>\n",
              "  <tbody>\n",
              "    <tr>\n",
              "      <th>2239</th>\n",
              "      <td>11565</td>\n",
              "      <td>Mount Road ATM</td>\n",
              "      <td>MONDAY</td>\n",
              "      <td>NH</td>\n",
              "      <td>W</td>\n",
              "      <td>HWW</td>\n",
              "      <td>5</td>\n",
              "      <td>9</td>\n",
              "      <td>2017</td>\n",
              "      <td>276058</td>\n",
              "      <td>447400</td>\n",
              "    </tr>\n",
              "    <tr>\n",
              "      <th>2240</th>\n",
              "      <td>11570</td>\n",
              "      <td>Mount Road ATM</td>\n",
              "      <td>TUESDAY</td>\n",
              "      <td>NH</td>\n",
              "      <td>W</td>\n",
              "      <td>WWW</td>\n",
              "      <td>6</td>\n",
              "      <td>9</td>\n",
              "      <td>2017</td>\n",
              "      <td>276058</td>\n",
              "      <td>153800</td>\n",
              "    </tr>\n",
              "    <tr>\n",
              "      <th>2241</th>\n",
              "      <td>11575</td>\n",
              "      <td>Mount Road ATM</td>\n",
              "      <td>WEDNESDAY</td>\n",
              "      <td>NH</td>\n",
              "      <td>W</td>\n",
              "      <td>WWW</td>\n",
              "      <td>6</td>\n",
              "      <td>9</td>\n",
              "      <td>2017</td>\n",
              "      <td>276058</td>\n",
              "      <td>167100</td>\n",
              "    </tr>\n",
              "    <tr>\n",
              "      <th>2242</th>\n",
              "      <td>11580</td>\n",
              "      <td>Mount Road ATM</td>\n",
              "      <td>THURSDAY</td>\n",
              "      <td>NH</td>\n",
              "      <td>W</td>\n",
              "      <td>WWH</td>\n",
              "      <td>6</td>\n",
              "      <td>9</td>\n",
              "      <td>2017</td>\n",
              "      <td>276058</td>\n",
              "      <td>317400</td>\n",
              "    </tr>\n",
              "    <tr>\n",
              "      <th>2243</th>\n",
              "      <td>11585</td>\n",
              "      <td>Mount Road ATM</td>\n",
              "      <td>FRIDAY</td>\n",
              "      <td>H</td>\n",
              "      <td>H</td>\n",
              "      <td>WHH</td>\n",
              "      <td>6</td>\n",
              "      <td>9</td>\n",
              "      <td>2017</td>\n",
              "      <td>276058</td>\n",
              "      <td>305100</td>\n",
              "    </tr>\n",
              "  </tbody>\n",
              "</table>\n",
              "</div>"
            ],
            "text/plain": [
              "      Unnamed: 0        atm_name  ... prevweek_mean total_amount_withdrawn\n",
              "2239       11565  Mount Road ATM  ...        276058                 447400\n",
              "2240       11570  Mount Road ATM  ...        276058                 153800\n",
              "2241       11575  Mount Road ATM  ...        276058                 167100\n",
              "2242       11580  Mount Road ATM  ...        276058                 317400\n",
              "2243       11585  Mount Road ATM  ...        276058                 305100\n",
              "\n",
              "[5 rows x 11 columns]"
            ]
          },
          "metadata": {
            "tags": []
          },
          "execution_count": 296
        }
      ]
    },
    {
      "cell_type": "code",
      "metadata": {
        "id": "JRBxwiPBRZe5",
        "colab": {
          "base_uri": "https://localhost:8080/",
          "height": 722
        },
        "outputId": "8091b78e-73ea-4506-b5b9-59817fa83e3f"
      },
      "source": [
        "print(atm.shape)\n",
        "print(atm.columns)\n",
        "print(atm.info)\n",
        "print(atm.describe().astype(int))\n",
        "print(atm.dtypes)"
      ],
      "execution_count": null,
      "outputs": [
        {
          "output_type": "stream",
          "text": [
            "(2244, 11)\n",
            "Index(['Unnamed: 0', 'atm_name', 'weekday', 'festival_religion', 'working_day',\n",
            "       'holiday_sequence', 'trans_date_set', 'trans_month', 'trans_year',\n",
            "       'prevweek_mean', 'total_amount_withdrawn'],\n",
            "      dtype='object')\n",
            "<bound method DataFrame.info of       Unnamed: 0        atm_name  ... prevweek_mean total_amount_withdrawn\n",
            "0             11  Mount Road ATM  ...        648600                 897100\n",
            "1             16  Mount Road ATM  ...        648600                 826000\n",
            "2             21  Mount Road ATM  ...        648600                 754400\n",
            "3             26  Mount Road ATM  ...        648600                 834200\n",
            "4             31  Mount Road ATM  ...        648600                 575300\n",
            "...          ...             ...  ...           ...                    ...\n",
            "2239       11565  Mount Road ATM  ...        276058                 447400\n",
            "2240       11570  Mount Road ATM  ...        276058                 153800\n",
            "2241       11575  Mount Road ATM  ...        276058                 167100\n",
            "2242       11580  Mount Road ATM  ...        276058                 317400\n",
            "2243       11585  Mount Road ATM  ...        276058                 305100\n",
            "\n",
            "[2244 rows x 11 columns]>\n",
            "       Unnamed: 0  trans_date_set  ...  prevweek_mean  total_amount_withdrawn\n",
            "count        2244            2244  ...           2244                    2244\n",
            "mean         5706               3  ...         515090                  515717\n",
            "std          3348               1  ...         193527                  255179\n",
            "min            11               1  ...           1800                     100\n",
            "25%          2816               2  ...         419729                  349475\n",
            "50%          5664               4  ...         540386                  514100\n",
            "75%          8447               5  ...         637800                  684925\n",
            "max         11585               7  ...        1006829                 1410700\n",
            "\n",
            "[8 rows x 6 columns]\n",
            "Unnamed: 0                 int64\n",
            "atm_name                  object\n",
            "weekday                   object\n",
            "festival_religion         object\n",
            "working_day               object\n",
            "holiday_sequence          object\n",
            "trans_date_set             int64\n",
            "trans_month                int64\n",
            "trans_year                 int64\n",
            "prevweek_mean              int64\n",
            "total_amount_withdrawn     int64\n",
            "dtype: object\n"
          ],
          "name": "stdout"
        }
      ]
    },
    {
      "cell_type": "code",
      "metadata": {
        "id": "lIbe2hoXv-z5",
        "colab": {
          "base_uri": "https://localhost:8080/",
          "height": 420
        },
        "outputId": "a46a9650-c917-4cef-cef4-562f78d8c922"
      },
      "source": [
        "#Making New Variables using holiday sequence\n",
        "previousday_holiday = atm['holiday_sequence'].apply(lambda x: 'W' if x == 'WWW' or x == 'WHW' or x == 'WWH' or x == 'WHH' else 'H') \n",
        "print(previousday_holiday)\n",
        "nextday_holiday = atm['holiday_sequence'].apply(lambda x: 'H' if x == 'HHH' or x == 'WHH' or x == 'WWH' or x == 'HWH' else 'W') \n",
        "print(nextday_holiday)"
      ],
      "execution_count": null,
      "outputs": [
        {
          "output_type": "stream",
          "text": [
            "0       W\n",
            "1       W\n",
            "2       W\n",
            "3       W\n",
            "4       W\n",
            "       ..\n",
            "2239    H\n",
            "2240    W\n",
            "2241    W\n",
            "2242    W\n",
            "2243    W\n",
            "Name: holiday_sequence, Length: 2244, dtype: object\n",
            "0       W\n",
            "1       W\n",
            "2       W\n",
            "3       W\n",
            "4       W\n",
            "       ..\n",
            "2239    W\n",
            "2240    W\n",
            "2241    W\n",
            "2242    H\n",
            "2243    H\n",
            "Name: holiday_sequence, Length: 2244, dtype: object\n"
          ],
          "name": "stdout"
        }
      ]
    },
    {
      "cell_type": "code",
      "metadata": {
        "id": "TTAmT2wdx1AA",
        "colab": {
          "base_uri": "https://localhost:8080/",
          "height": 402
        },
        "outputId": "a956268a-f03c-4b69-f821-6db2015338a2"
      },
      "source": [
        "holidays = pd.DataFrame({'previousday_holiday': previousday_holiday,'nextday_holiday': nextday_holiday})\n",
        "holidays"
      ],
      "execution_count": null,
      "outputs": [
        {
          "output_type": "execute_result",
          "data": {
            "text/html": [
              "<div>\n",
              "<style scoped>\n",
              "    .dataframe tbody tr th:only-of-type {\n",
              "        vertical-align: middle;\n",
              "    }\n",
              "\n",
              "    .dataframe tbody tr th {\n",
              "        vertical-align: top;\n",
              "    }\n",
              "\n",
              "    .dataframe thead th {\n",
              "        text-align: right;\n",
              "    }\n",
              "</style>\n",
              "<table border=\"1\" class=\"dataframe\">\n",
              "  <thead>\n",
              "    <tr style=\"text-align: right;\">\n",
              "      <th></th>\n",
              "      <th>previousday_holiday</th>\n",
              "      <th>nextday_holiday</th>\n",
              "    </tr>\n",
              "  </thead>\n",
              "  <tbody>\n",
              "    <tr>\n",
              "      <th>0</th>\n",
              "      <td>W</td>\n",
              "      <td>W</td>\n",
              "    </tr>\n",
              "    <tr>\n",
              "      <th>1</th>\n",
              "      <td>W</td>\n",
              "      <td>W</td>\n",
              "    </tr>\n",
              "    <tr>\n",
              "      <th>2</th>\n",
              "      <td>W</td>\n",
              "      <td>W</td>\n",
              "    </tr>\n",
              "    <tr>\n",
              "      <th>3</th>\n",
              "      <td>W</td>\n",
              "      <td>W</td>\n",
              "    </tr>\n",
              "    <tr>\n",
              "      <th>4</th>\n",
              "      <td>W</td>\n",
              "      <td>W</td>\n",
              "    </tr>\n",
              "    <tr>\n",
              "      <th>...</th>\n",
              "      <td>...</td>\n",
              "      <td>...</td>\n",
              "    </tr>\n",
              "    <tr>\n",
              "      <th>2239</th>\n",
              "      <td>H</td>\n",
              "      <td>W</td>\n",
              "    </tr>\n",
              "    <tr>\n",
              "      <th>2240</th>\n",
              "      <td>W</td>\n",
              "      <td>W</td>\n",
              "    </tr>\n",
              "    <tr>\n",
              "      <th>2241</th>\n",
              "      <td>W</td>\n",
              "      <td>W</td>\n",
              "    </tr>\n",
              "    <tr>\n",
              "      <th>2242</th>\n",
              "      <td>W</td>\n",
              "      <td>H</td>\n",
              "    </tr>\n",
              "    <tr>\n",
              "      <th>2243</th>\n",
              "      <td>W</td>\n",
              "      <td>H</td>\n",
              "    </tr>\n",
              "  </tbody>\n",
              "</table>\n",
              "<p>2244 rows × 2 columns</p>\n",
              "</div>"
            ],
            "text/plain": [
              "     previousday_holiday nextday_holiday\n",
              "0                      W               W\n",
              "1                      W               W\n",
              "2                      W               W\n",
              "3                      W               W\n",
              "4                      W               W\n",
              "...                  ...             ...\n",
              "2239                   H               W\n",
              "2240                   W               W\n",
              "2241                   W               W\n",
              "2242                   W               H\n",
              "2243                   W               H\n",
              "\n",
              "[2244 rows x 2 columns]"
            ]
          },
          "metadata": {
            "tags": []
          },
          "execution_count": 299
        }
      ]
    },
    {
      "cell_type": "code",
      "metadata": {
        "id": "ySJ4MK_R22rB",
        "colab": {
          "base_uri": "https://localhost:8080/",
          "height": 774
        },
        "outputId": "985af7db-9be9-42b0-f0fc-7641c46c500a"
      },
      "source": [
        "atm1 = pd.concat([atm,holidays],axis = 1)\n",
        "atm1"
      ],
      "execution_count": null,
      "outputs": [
        {
          "output_type": "execute_result",
          "data": {
            "text/html": [
              "<div>\n",
              "<style scoped>\n",
              "    .dataframe tbody tr th:only-of-type {\n",
              "        vertical-align: middle;\n",
              "    }\n",
              "\n",
              "    .dataframe tbody tr th {\n",
              "        vertical-align: top;\n",
              "    }\n",
              "\n",
              "    .dataframe thead th {\n",
              "        text-align: right;\n",
              "    }\n",
              "</style>\n",
              "<table border=\"1\" class=\"dataframe\">\n",
              "  <thead>\n",
              "    <tr style=\"text-align: right;\">\n",
              "      <th></th>\n",
              "      <th>Unnamed: 0</th>\n",
              "      <th>atm_name</th>\n",
              "      <th>weekday</th>\n",
              "      <th>festival_religion</th>\n",
              "      <th>working_day</th>\n",
              "      <th>holiday_sequence</th>\n",
              "      <th>trans_date_set</th>\n",
              "      <th>trans_month</th>\n",
              "      <th>trans_year</th>\n",
              "      <th>prevweek_mean</th>\n",
              "      <th>total_amount_withdrawn</th>\n",
              "      <th>previousday_holiday</th>\n",
              "      <th>nextday_holiday</th>\n",
              "    </tr>\n",
              "  </thead>\n",
              "  <tbody>\n",
              "    <tr>\n",
              "      <th>0</th>\n",
              "      <td>11</td>\n",
              "      <td>Mount Road ATM</td>\n",
              "      <td>MONDAY</td>\n",
              "      <td>NH</td>\n",
              "      <td>W</td>\n",
              "      <td>WWW</td>\n",
              "      <td>1</td>\n",
              "      <td>1</td>\n",
              "      <td>2011</td>\n",
              "      <td>648600</td>\n",
              "      <td>897100</td>\n",
              "      <td>W</td>\n",
              "      <td>W</td>\n",
              "    </tr>\n",
              "    <tr>\n",
              "      <th>1</th>\n",
              "      <td>16</td>\n",
              "      <td>Mount Road ATM</td>\n",
              "      <td>TUESDAY</td>\n",
              "      <td>NH</td>\n",
              "      <td>W</td>\n",
              "      <td>WWW</td>\n",
              "      <td>1</td>\n",
              "      <td>1</td>\n",
              "      <td>2011</td>\n",
              "      <td>648600</td>\n",
              "      <td>826000</td>\n",
              "      <td>W</td>\n",
              "      <td>W</td>\n",
              "    </tr>\n",
              "    <tr>\n",
              "      <th>2</th>\n",
              "      <td>21</td>\n",
              "      <td>Mount Road ATM</td>\n",
              "      <td>WEDNESDAY</td>\n",
              "      <td>NH</td>\n",
              "      <td>W</td>\n",
              "      <td>WWW</td>\n",
              "      <td>1</td>\n",
              "      <td>1</td>\n",
              "      <td>2011</td>\n",
              "      <td>648600</td>\n",
              "      <td>754400</td>\n",
              "      <td>W</td>\n",
              "      <td>W</td>\n",
              "    </tr>\n",
              "    <tr>\n",
              "      <th>3</th>\n",
              "      <td>26</td>\n",
              "      <td>Mount Road ATM</td>\n",
              "      <td>THURSDAY</td>\n",
              "      <td>NH</td>\n",
              "      <td>W</td>\n",
              "      <td>WWW</td>\n",
              "      <td>2</td>\n",
              "      <td>1</td>\n",
              "      <td>2011</td>\n",
              "      <td>648600</td>\n",
              "      <td>834200</td>\n",
              "      <td>W</td>\n",
              "      <td>W</td>\n",
              "    </tr>\n",
              "    <tr>\n",
              "      <th>4</th>\n",
              "      <td>31</td>\n",
              "      <td>Mount Road ATM</td>\n",
              "      <td>FRIDAY</td>\n",
              "      <td>NH</td>\n",
              "      <td>W</td>\n",
              "      <td>WWW</td>\n",
              "      <td>2</td>\n",
              "      <td>1</td>\n",
              "      <td>2011</td>\n",
              "      <td>648600</td>\n",
              "      <td>575300</td>\n",
              "      <td>W</td>\n",
              "      <td>W</td>\n",
              "    </tr>\n",
              "    <tr>\n",
              "      <th>...</th>\n",
              "      <td>...</td>\n",
              "      <td>...</td>\n",
              "      <td>...</td>\n",
              "      <td>...</td>\n",
              "      <td>...</td>\n",
              "      <td>...</td>\n",
              "      <td>...</td>\n",
              "      <td>...</td>\n",
              "      <td>...</td>\n",
              "      <td>...</td>\n",
              "      <td>...</td>\n",
              "      <td>...</td>\n",
              "      <td>...</td>\n",
              "    </tr>\n",
              "    <tr>\n",
              "      <th>2239</th>\n",
              "      <td>11565</td>\n",
              "      <td>Mount Road ATM</td>\n",
              "      <td>MONDAY</td>\n",
              "      <td>NH</td>\n",
              "      <td>W</td>\n",
              "      <td>HWW</td>\n",
              "      <td>5</td>\n",
              "      <td>9</td>\n",
              "      <td>2017</td>\n",
              "      <td>276058</td>\n",
              "      <td>447400</td>\n",
              "      <td>H</td>\n",
              "      <td>W</td>\n",
              "    </tr>\n",
              "    <tr>\n",
              "      <th>2240</th>\n",
              "      <td>11570</td>\n",
              "      <td>Mount Road ATM</td>\n",
              "      <td>TUESDAY</td>\n",
              "      <td>NH</td>\n",
              "      <td>W</td>\n",
              "      <td>WWW</td>\n",
              "      <td>6</td>\n",
              "      <td>9</td>\n",
              "      <td>2017</td>\n",
              "      <td>276058</td>\n",
              "      <td>153800</td>\n",
              "      <td>W</td>\n",
              "      <td>W</td>\n",
              "    </tr>\n",
              "    <tr>\n",
              "      <th>2241</th>\n",
              "      <td>11575</td>\n",
              "      <td>Mount Road ATM</td>\n",
              "      <td>WEDNESDAY</td>\n",
              "      <td>NH</td>\n",
              "      <td>W</td>\n",
              "      <td>WWW</td>\n",
              "      <td>6</td>\n",
              "      <td>9</td>\n",
              "      <td>2017</td>\n",
              "      <td>276058</td>\n",
              "      <td>167100</td>\n",
              "      <td>W</td>\n",
              "      <td>W</td>\n",
              "    </tr>\n",
              "    <tr>\n",
              "      <th>2242</th>\n",
              "      <td>11580</td>\n",
              "      <td>Mount Road ATM</td>\n",
              "      <td>THURSDAY</td>\n",
              "      <td>NH</td>\n",
              "      <td>W</td>\n",
              "      <td>WWH</td>\n",
              "      <td>6</td>\n",
              "      <td>9</td>\n",
              "      <td>2017</td>\n",
              "      <td>276058</td>\n",
              "      <td>317400</td>\n",
              "      <td>W</td>\n",
              "      <td>H</td>\n",
              "    </tr>\n",
              "    <tr>\n",
              "      <th>2243</th>\n",
              "      <td>11585</td>\n",
              "      <td>Mount Road ATM</td>\n",
              "      <td>FRIDAY</td>\n",
              "      <td>H</td>\n",
              "      <td>H</td>\n",
              "      <td>WHH</td>\n",
              "      <td>6</td>\n",
              "      <td>9</td>\n",
              "      <td>2017</td>\n",
              "      <td>276058</td>\n",
              "      <td>305100</td>\n",
              "      <td>W</td>\n",
              "      <td>H</td>\n",
              "    </tr>\n",
              "  </tbody>\n",
              "</table>\n",
              "<p>2244 rows × 13 columns</p>\n",
              "</div>"
            ],
            "text/plain": [
              "      Unnamed: 0        atm_name  ... previousday_holiday nextday_holiday\n",
              "0             11  Mount Road ATM  ...                   W               W\n",
              "1             16  Mount Road ATM  ...                   W               W\n",
              "2             21  Mount Road ATM  ...                   W               W\n",
              "3             26  Mount Road ATM  ...                   W               W\n",
              "4             31  Mount Road ATM  ...                   W               W\n",
              "...          ...             ...  ...                 ...             ...\n",
              "2239       11565  Mount Road ATM  ...                   H               W\n",
              "2240       11570  Mount Road ATM  ...                   W               W\n",
              "2241       11575  Mount Road ATM  ...                   W               W\n",
              "2242       11580  Mount Road ATM  ...                   W               H\n",
              "2243       11585  Mount Road ATM  ...                   W               H\n",
              "\n",
              "[2244 rows x 13 columns]"
            ]
          },
          "metadata": {
            "tags": []
          },
          "execution_count": 300
        }
      ]
    },
    {
      "cell_type": "code",
      "metadata": {
        "id": "2dI64hmoU6ks",
        "colab": {
          "base_uri": "https://localhost:8080/",
          "height": 422
        },
        "outputId": "ef3255da-1715-4813-f284-a78c63fe7013"
      },
      "source": [
        "#Dropping the insignifcant columns\n",
        "atm1 = atm1.drop(atm1.columns[[0,1,5]],axis=1)\n",
        "atm1"
      ],
      "execution_count": null,
      "outputs": [
        {
          "output_type": "execute_result",
          "data": {
            "text/html": [
              "<div>\n",
              "<style scoped>\n",
              "    .dataframe tbody tr th:only-of-type {\n",
              "        vertical-align: middle;\n",
              "    }\n",
              "\n",
              "    .dataframe tbody tr th {\n",
              "        vertical-align: top;\n",
              "    }\n",
              "\n",
              "    .dataframe thead th {\n",
              "        text-align: right;\n",
              "    }\n",
              "</style>\n",
              "<table border=\"1\" class=\"dataframe\">\n",
              "  <thead>\n",
              "    <tr style=\"text-align: right;\">\n",
              "      <th></th>\n",
              "      <th>weekday</th>\n",
              "      <th>festival_religion</th>\n",
              "      <th>working_day</th>\n",
              "      <th>trans_date_set</th>\n",
              "      <th>trans_month</th>\n",
              "      <th>trans_year</th>\n",
              "      <th>prevweek_mean</th>\n",
              "      <th>total_amount_withdrawn</th>\n",
              "      <th>previousday_holiday</th>\n",
              "      <th>nextday_holiday</th>\n",
              "    </tr>\n",
              "  </thead>\n",
              "  <tbody>\n",
              "    <tr>\n",
              "      <th>0</th>\n",
              "      <td>MONDAY</td>\n",
              "      <td>NH</td>\n",
              "      <td>W</td>\n",
              "      <td>1</td>\n",
              "      <td>1</td>\n",
              "      <td>2011</td>\n",
              "      <td>648600</td>\n",
              "      <td>897100</td>\n",
              "      <td>W</td>\n",
              "      <td>W</td>\n",
              "    </tr>\n",
              "    <tr>\n",
              "      <th>1</th>\n",
              "      <td>TUESDAY</td>\n",
              "      <td>NH</td>\n",
              "      <td>W</td>\n",
              "      <td>1</td>\n",
              "      <td>1</td>\n",
              "      <td>2011</td>\n",
              "      <td>648600</td>\n",
              "      <td>826000</td>\n",
              "      <td>W</td>\n",
              "      <td>W</td>\n",
              "    </tr>\n",
              "    <tr>\n",
              "      <th>2</th>\n",
              "      <td>WEDNESDAY</td>\n",
              "      <td>NH</td>\n",
              "      <td>W</td>\n",
              "      <td>1</td>\n",
              "      <td>1</td>\n",
              "      <td>2011</td>\n",
              "      <td>648600</td>\n",
              "      <td>754400</td>\n",
              "      <td>W</td>\n",
              "      <td>W</td>\n",
              "    </tr>\n",
              "    <tr>\n",
              "      <th>3</th>\n",
              "      <td>THURSDAY</td>\n",
              "      <td>NH</td>\n",
              "      <td>W</td>\n",
              "      <td>2</td>\n",
              "      <td>1</td>\n",
              "      <td>2011</td>\n",
              "      <td>648600</td>\n",
              "      <td>834200</td>\n",
              "      <td>W</td>\n",
              "      <td>W</td>\n",
              "    </tr>\n",
              "    <tr>\n",
              "      <th>4</th>\n",
              "      <td>FRIDAY</td>\n",
              "      <td>NH</td>\n",
              "      <td>W</td>\n",
              "      <td>2</td>\n",
              "      <td>1</td>\n",
              "      <td>2011</td>\n",
              "      <td>648600</td>\n",
              "      <td>575300</td>\n",
              "      <td>W</td>\n",
              "      <td>W</td>\n",
              "    </tr>\n",
              "    <tr>\n",
              "      <th>...</th>\n",
              "      <td>...</td>\n",
              "      <td>...</td>\n",
              "      <td>...</td>\n",
              "      <td>...</td>\n",
              "      <td>...</td>\n",
              "      <td>...</td>\n",
              "      <td>...</td>\n",
              "      <td>...</td>\n",
              "      <td>...</td>\n",
              "      <td>...</td>\n",
              "    </tr>\n",
              "    <tr>\n",
              "      <th>2239</th>\n",
              "      <td>MONDAY</td>\n",
              "      <td>NH</td>\n",
              "      <td>W</td>\n",
              "      <td>5</td>\n",
              "      <td>9</td>\n",
              "      <td>2017</td>\n",
              "      <td>276058</td>\n",
              "      <td>447400</td>\n",
              "      <td>H</td>\n",
              "      <td>W</td>\n",
              "    </tr>\n",
              "    <tr>\n",
              "      <th>2240</th>\n",
              "      <td>TUESDAY</td>\n",
              "      <td>NH</td>\n",
              "      <td>W</td>\n",
              "      <td>6</td>\n",
              "      <td>9</td>\n",
              "      <td>2017</td>\n",
              "      <td>276058</td>\n",
              "      <td>153800</td>\n",
              "      <td>W</td>\n",
              "      <td>W</td>\n",
              "    </tr>\n",
              "    <tr>\n",
              "      <th>2241</th>\n",
              "      <td>WEDNESDAY</td>\n",
              "      <td>NH</td>\n",
              "      <td>W</td>\n",
              "      <td>6</td>\n",
              "      <td>9</td>\n",
              "      <td>2017</td>\n",
              "      <td>276058</td>\n",
              "      <td>167100</td>\n",
              "      <td>W</td>\n",
              "      <td>W</td>\n",
              "    </tr>\n",
              "    <tr>\n",
              "      <th>2242</th>\n",
              "      <td>THURSDAY</td>\n",
              "      <td>NH</td>\n",
              "      <td>W</td>\n",
              "      <td>6</td>\n",
              "      <td>9</td>\n",
              "      <td>2017</td>\n",
              "      <td>276058</td>\n",
              "      <td>317400</td>\n",
              "      <td>W</td>\n",
              "      <td>H</td>\n",
              "    </tr>\n",
              "    <tr>\n",
              "      <th>2243</th>\n",
              "      <td>FRIDAY</td>\n",
              "      <td>H</td>\n",
              "      <td>H</td>\n",
              "      <td>6</td>\n",
              "      <td>9</td>\n",
              "      <td>2017</td>\n",
              "      <td>276058</td>\n",
              "      <td>305100</td>\n",
              "      <td>W</td>\n",
              "      <td>H</td>\n",
              "    </tr>\n",
              "  </tbody>\n",
              "</table>\n",
              "<p>2244 rows × 10 columns</p>\n",
              "</div>"
            ],
            "text/plain": [
              "        weekday festival_religion  ... previousday_holiday  nextday_holiday\n",
              "0        MONDAY                NH  ...                   W                W\n",
              "1       TUESDAY                NH  ...                   W                W\n",
              "2     WEDNESDAY                NH  ...                   W                W\n",
              "3      THURSDAY                NH  ...                   W                W\n",
              "4        FRIDAY                NH  ...                   W                W\n",
              "...         ...               ...  ...                 ...              ...\n",
              "2239     MONDAY                NH  ...                   H                W\n",
              "2240    TUESDAY                NH  ...                   W                W\n",
              "2241  WEDNESDAY                NH  ...                   W                W\n",
              "2242   THURSDAY                NH  ...                   W                H\n",
              "2243     FRIDAY                 H  ...                   W                H\n",
              "\n",
              "[2244 rows x 10 columns]"
            ]
          },
          "metadata": {
            "tags": []
          },
          "execution_count": 301
        }
      ]
    },
    {
      "cell_type": "code",
      "metadata": {
        "id": "SkTsnFb2LHHs",
        "colab": {
          "base_uri": "https://localhost:8080/",
          "height": 432
        },
        "outputId": "d780f734-799d-4879-8dbb-fba63254c56b"
      },
      "source": [
        "pd.crosstab(atm1['trans_month'],atm1['trans_year'])\n",
        "#This shows us that we do not per day data i.e daily data in a month "
      ],
      "execution_count": null,
      "outputs": [
        {
          "output_type": "execute_result",
          "data": {
            "text/html": [
              "<div>\n",
              "<style scoped>\n",
              "    .dataframe tbody tr th:only-of-type {\n",
              "        vertical-align: middle;\n",
              "    }\n",
              "\n",
              "    .dataframe tbody tr th {\n",
              "        vertical-align: top;\n",
              "    }\n",
              "\n",
              "    .dataframe thead th {\n",
              "        text-align: right;\n",
              "    }\n",
              "</style>\n",
              "<table border=\"1\" class=\"dataframe\">\n",
              "  <thead>\n",
              "    <tr style=\"text-align: right;\">\n",
              "      <th>trans_year</th>\n",
              "      <th>2011</th>\n",
              "      <th>2012</th>\n",
              "      <th>2013</th>\n",
              "      <th>2014</th>\n",
              "      <th>2015</th>\n",
              "      <th>2016</th>\n",
              "      <th>2017</th>\n",
              "    </tr>\n",
              "    <tr>\n",
              "      <th>trans_month</th>\n",
              "      <th></th>\n",
              "      <th></th>\n",
              "      <th></th>\n",
              "      <th></th>\n",
              "      <th></th>\n",
              "      <th></th>\n",
              "      <th></th>\n",
              "    </tr>\n",
              "  </thead>\n",
              "  <tbody>\n",
              "    <tr>\n",
              "      <th>1</th>\n",
              "      <td>29</td>\n",
              "      <td>31</td>\n",
              "      <td>30</td>\n",
              "      <td>31</td>\n",
              "      <td>31</td>\n",
              "      <td>6</td>\n",
              "      <td>7</td>\n",
              "    </tr>\n",
              "    <tr>\n",
              "      <th>2</th>\n",
              "      <td>28</td>\n",
              "      <td>29</td>\n",
              "      <td>28</td>\n",
              "      <td>28</td>\n",
              "      <td>28</td>\n",
              "      <td>24</td>\n",
              "      <td>23</td>\n",
              "    </tr>\n",
              "    <tr>\n",
              "      <th>3</th>\n",
              "      <td>31</td>\n",
              "      <td>31</td>\n",
              "      <td>30</td>\n",
              "      <td>31</td>\n",
              "      <td>31</td>\n",
              "      <td>23</td>\n",
              "      <td>26</td>\n",
              "    </tr>\n",
              "    <tr>\n",
              "      <th>4</th>\n",
              "      <td>30</td>\n",
              "      <td>30</td>\n",
              "      <td>29</td>\n",
              "      <td>29</td>\n",
              "      <td>30</td>\n",
              "      <td>23</td>\n",
              "      <td>29</td>\n",
              "    </tr>\n",
              "    <tr>\n",
              "      <th>5</th>\n",
              "      <td>31</td>\n",
              "      <td>31</td>\n",
              "      <td>31</td>\n",
              "      <td>31</td>\n",
              "      <td>31</td>\n",
              "      <td>18</td>\n",
              "      <td>31</td>\n",
              "    </tr>\n",
              "    <tr>\n",
              "      <th>6</th>\n",
              "      <td>30</td>\n",
              "      <td>29</td>\n",
              "      <td>30</td>\n",
              "      <td>30</td>\n",
              "      <td>30</td>\n",
              "      <td>16</td>\n",
              "      <td>30</td>\n",
              "    </tr>\n",
              "    <tr>\n",
              "      <th>7</th>\n",
              "      <td>31</td>\n",
              "      <td>31</td>\n",
              "      <td>31</td>\n",
              "      <td>31</td>\n",
              "      <td>30</td>\n",
              "      <td>23</td>\n",
              "      <td>31</td>\n",
              "    </tr>\n",
              "    <tr>\n",
              "      <th>8</th>\n",
              "      <td>31</td>\n",
              "      <td>30</td>\n",
              "      <td>31</td>\n",
              "      <td>31</td>\n",
              "      <td>31</td>\n",
              "      <td>30</td>\n",
              "      <td>27</td>\n",
              "    </tr>\n",
              "    <tr>\n",
              "      <th>9</th>\n",
              "      <td>30</td>\n",
              "      <td>30</td>\n",
              "      <td>30</td>\n",
              "      <td>30</td>\n",
              "      <td>30</td>\n",
              "      <td>28</td>\n",
              "      <td>29</td>\n",
              "    </tr>\n",
              "    <tr>\n",
              "      <th>10</th>\n",
              "      <td>31</td>\n",
              "      <td>31</td>\n",
              "      <td>31</td>\n",
              "      <td>31</td>\n",
              "      <td>31</td>\n",
              "      <td>29</td>\n",
              "      <td>0</td>\n",
              "    </tr>\n",
              "    <tr>\n",
              "      <th>11</th>\n",
              "      <td>30</td>\n",
              "      <td>30</td>\n",
              "      <td>30</td>\n",
              "      <td>30</td>\n",
              "      <td>30</td>\n",
              "      <td>18</td>\n",
              "      <td>0</td>\n",
              "    </tr>\n",
              "    <tr>\n",
              "      <th>12</th>\n",
              "      <td>31</td>\n",
              "      <td>31</td>\n",
              "      <td>14</td>\n",
              "      <td>31</td>\n",
              "      <td>3</td>\n",
              "      <td>1</td>\n",
              "      <td>0</td>\n",
              "    </tr>\n",
              "  </tbody>\n",
              "</table>\n",
              "</div>"
            ],
            "text/plain": [
              "trans_year   2011  2012  2013  2014  2015  2016  2017\n",
              "trans_month                                          \n",
              "1              29    31    30    31    31     6     7\n",
              "2              28    29    28    28    28    24    23\n",
              "3              31    31    30    31    31    23    26\n",
              "4              30    30    29    29    30    23    29\n",
              "5              31    31    31    31    31    18    31\n",
              "6              30    29    30    30    30    16    30\n",
              "7              31    31    31    31    30    23    31\n",
              "8              31    30    31    31    31    30    27\n",
              "9              30    30    30    30    30    28    29\n",
              "10             31    31    31    31    31    29     0\n",
              "11             30    30    30    30    30    18     0\n",
              "12             31    31    14    31     3     1     0"
            ]
          },
          "metadata": {
            "tags": []
          },
          "execution_count": 302
        }
      ]
    },
    {
      "cell_type": "code",
      "metadata": {
        "id": "6yGuVyWeSKUN",
        "colab": {
          "base_uri": "https://localhost:8080/",
          "height": 202
        },
        "outputId": "c8c931a0-a317-447c-8de2-cd89bdfd5452"
      },
      "source": [
        "#Checking for missing values\n",
        "print(atm1.isnull().sum())"
      ],
      "execution_count": null,
      "outputs": [
        {
          "output_type": "stream",
          "text": [
            "weekday                   0\n",
            "festival_religion         0\n",
            "working_day               0\n",
            "trans_date_set            0\n",
            "trans_month               0\n",
            "trans_year                0\n",
            "prevweek_mean             0\n",
            "total_amount_withdrawn    0\n",
            "previousday_holiday       0\n",
            "nextday_holiday           0\n",
            "dtype: int64\n"
          ],
          "name": "stdout"
        }
      ]
    },
    {
      "cell_type": "markdown",
      "metadata": {
        "id": "ENDejdMDvP6X"
      },
      "source": [
        "*Exploratory Data Analysis*"
      ]
    },
    {
      "cell_type": "code",
      "metadata": {
        "id": "fePQzqRDu1tZ",
        "colab": {
          "base_uri": "https://localhost:8080/",
          "height": 312
        },
        "outputId": "8b149313-0d88-4b18-ca3a-738ba4860b0d"
      },
      "source": [
        "sns.barplot(atm1['festival_religion'].value_counts().index,atm1['festival_religion'].value_counts())\n",
        "plt.xlabel('Festival Religion')\n",
        "plt.ylabel('Count')\n",
        "plt.title('Count of Categories of Festival Religion ')"
      ],
      "execution_count": null,
      "outputs": [
        {
          "output_type": "execute_result",
          "data": {
            "text/plain": [
              "Text(0.5, 1.0, 'Count of Categories of Festival Religion ')"
            ]
          },
          "metadata": {
            "tags": []
          },
          "execution_count": 304
        },
        {
          "output_type": "display_data",
          "data": {
            "image/png": "[encoded data removed]",
            "text/plain": [
              "<Figure size 432x288 with 1 Axes>"
            ]
          },
          "metadata": {
            "tags": [],
            "needs_background": "light"
          }
        }
      ]
    },
    {
      "cell_type": "code",
      "metadata": {
        "id": "Cf0y65d6urWL",
        "colab": {
          "base_uri": "https://localhost:8080/",
          "height": 312
        },
        "outputId": "1e9b71e6-89db-444b-f8e7-a3a981e56ee0"
      },
      "source": [
        "sns.barplot(atm1['working_day'].value_counts().index,atm1['working_day'].value_counts())\n",
        "plt.xlabel('Working Day')\n",
        "plt.ylabel('Count')\n",
        "plt.title('Count of Working day and Holiday ')"
      ],
      "execution_count": null,
      "outputs": [
        {
          "output_type": "execute_result",
          "data": {
            "text/plain": [
              "Text(0.5, 1.0, 'Count of Working day and Holiday ')"
            ]
          },
          "metadata": {
            "tags": []
          },
          "execution_count": 305
        },
        {
          "output_type": "display_data",
          "data": {
            "image/png": "[encoded data removed]",
            "text/plain": [
              "<Figure size 432x288 with 1 Axes>"
            ]
          },
          "metadata": {
            "tags": [],
            "needs_background": "light"
          }
        }
      ]
    },
    {
      "cell_type": "code",
      "metadata": {
        "id": "PciypUz34XDC",
        "colab": {
          "base_uri": "https://localhost:8080/",
          "height": 312
        },
        "outputId": "fd35f265-3a2b-43e4-9eb5-63bc64032a67"
      },
      "source": [
        "sns.barplot(atm1['previousday_holiday'].value_counts().index,atm1['previousday_holiday'].value_counts())\n",
        "plt.xlabel('Previous Day')\n",
        "plt.ylabel('Count')\n",
        "plt.title('Count of Previous Working day or Holiday ')"
      ],
      "execution_count": null,
      "outputs": [
        {
          "output_type": "execute_result",
          "data": {
            "text/plain": [
              "Text(0.5, 1.0, 'Count of Previous Working day or Holiday ')"
            ]
          },
          "metadata": {
            "tags": []
          },
          "execution_count": 306
        },
        {
          "output_type": "display_data",
          "data": {
            "image/png": "[encoded data removed]",
            "text/plain": [
              "<Figure size 432x288 with 1 Axes>"
            ]
          },
          "metadata": {
            "tags": [],
            "needs_background": "light"
          }
        }
      ]
    },
    {
      "cell_type": "code",
      "metadata": {
        "id": "y2Xl3lzd5Ad2",
        "colab": {
          "base_uri": "https://localhost:8080/",
          "height": 312
        },
        "outputId": "91f5db7c-f141-4ca9-e361-856ba1917042"
      },
      "source": [
        "sns.barplot(atm1['nextday_holiday'].value_counts().index,atm1['nextday_holiday'].value_counts())\n",
        "plt.xlabel('Next Day')\n",
        "plt.ylabel('Count')\n",
        "plt.title('Count of Next Working day or Holiday ')"
      ],
      "execution_count": null,
      "outputs": [
        {
          "output_type": "execute_result",
          "data": {
            "text/plain": [
              "Text(0.5, 1.0, 'Count of Next Working day or Holiday ')"
            ]
          },
          "metadata": {
            "tags": []
          },
          "execution_count": 307
        },
        {
          "output_type": "display_data",
          "data": {
            "image/png": "[encoded data removed]",
            "text/plain": [
              "<Figure size 432x288 with 1 Axes>"
            ]
          },
          "metadata": {
            "tags": [],
            "needs_background": "light"
          }
        }
      ]
    },
    {
      "cell_type": "code",
      "metadata": {
        "id": "-FAqurWU-KGA",
        "colab": {
          "base_uri": "https://localhost:8080/",
          "height": 312
        },
        "outputId": "92cb5289-257a-404a-9598-3942c50a1c2c"
      },
      "source": [
        "sns.scatterplot(atm1['prevweek_mean'],atm1['total_amount_withdrawn'],color = 'Red')\n",
        "plt.xlabel('Previous Week Mean')\n",
        "plt.ylabel('Total Amount Withdrawn')\n",
        "plt.title('Total Amount Withdrawn vs Previous Week Mean')\n",
        "#Here we can see a positive relation Total money withdrawn and Previous week mean "
      ],
      "execution_count": null,
      "outputs": [
        {
          "output_type": "execute_result",
          "data": {
            "text/plain": [
              "Text(0.5, 1.0, 'Total Amount Withdrawn vs Previous Week Mean')"
            ]
          },
          "metadata": {
            "tags": []
          },
          "execution_count": 308
        },
        {
          "output_type": "display_data",
          "data": {
            "image/png": "[encoded data removed]",
            "text/plain": [
              "<Figure size 432x288 with 1 Axes>"
            ]
          },
          "metadata": {
            "tags": [],
            "needs_background": "light"
          }
        }
      ]
    },
    {
      "cell_type": "code",
      "metadata": {
        "id": "TuEM7IlbKbfp",
        "colab": {
          "base_uri": "https://localhost:8080/",
          "height": 195
        },
        "outputId": "f7747474-9e4f-476c-b2e5-4d07c9daf0cf"
      },
      "source": [
        "atm1.corr()\n",
        "#None of the variables show strong correlation "
      ],
      "execution_count": null,
      "outputs": [
        {
          "output_type": "execute_result",
          "data": {
            "text/html": [
              "<div>\n",
              "<style scoped>\n",
              "    .dataframe tbody tr th:only-of-type {\n",
              "        vertical-align: middle;\n",
              "    }\n",
              "\n",
              "    .dataframe tbody tr th {\n",
              "        vertical-align: top;\n",
              "    }\n",
              "\n",
              "    .dataframe thead th {\n",
              "        text-align: right;\n",
              "    }\n",
              "</style>\n",
              "<table border=\"1\" class=\"dataframe\">\n",
              "  <thead>\n",
              "    <tr style=\"text-align: right;\">\n",
              "      <th></th>\n",
              "      <th>trans_date_set</th>\n",
              "      <th>trans_month</th>\n",
              "      <th>trans_year</th>\n",
              "      <th>prevweek_mean</th>\n",
              "      <th>total_amount_withdrawn</th>\n",
              "    </tr>\n",
              "  </thead>\n",
              "  <tbody>\n",
              "    <tr>\n",
              "      <th>trans_date_set</th>\n",
              "      <td>1.000000</td>\n",
              "      <td>-0.021240</td>\n",
              "      <td>0.012409</td>\n",
              "      <td>-0.139400</td>\n",
              "      <td>-0.273464</td>\n",
              "    </tr>\n",
              "    <tr>\n",
              "      <th>trans_month</th>\n",
              "      <td>-0.021240</td>\n",
              "      <td>1.000000</td>\n",
              "      <td>-0.069692</td>\n",
              "      <td>0.058217</td>\n",
              "      <td>0.038138</td>\n",
              "    </tr>\n",
              "    <tr>\n",
              "      <th>trans_year</th>\n",
              "      <td>0.012409</td>\n",
              "      <td>-0.069692</td>\n",
              "      <td>1.000000</td>\n",
              "      <td>-0.419636</td>\n",
              "      <td>-0.311817</td>\n",
              "    </tr>\n",
              "    <tr>\n",
              "      <th>prevweek_mean</th>\n",
              "      <td>-0.139400</td>\n",
              "      <td>0.058217</td>\n",
              "      <td>-0.419636</td>\n",
              "      <td>1.000000</td>\n",
              "      <td>0.502479</td>\n",
              "    </tr>\n",
              "    <tr>\n",
              "      <th>total_amount_withdrawn</th>\n",
              "      <td>-0.273464</td>\n",
              "      <td>0.038138</td>\n",
              "      <td>-0.311817</td>\n",
              "      <td>0.502479</td>\n",
              "      <td>1.000000</td>\n",
              "    </tr>\n",
              "  </tbody>\n",
              "</table>\n",
              "</div>"
            ],
            "text/plain": [
              "                        trans_date_set  ...  total_amount_withdrawn\n",
              "trans_date_set                1.000000  ...               -0.273464\n",
              "trans_month                  -0.021240  ...                0.038138\n",
              "trans_year                    0.012409  ...               -0.311817\n",
              "prevweek_mean                -0.139400  ...                0.502479\n",
              "total_amount_withdrawn       -0.273464  ...                1.000000\n",
              "\n",
              "[5 rows x 5 columns]"
            ]
          },
          "metadata": {
            "tags": []
          },
          "execution_count": 309
        }
      ]
    },
    {
      "cell_type": "code",
      "metadata": {
        "id": "fJMfPUdvUHvS",
        "colab": {
          "base_uri": "https://localhost:8080/",
          "height": 298
        },
        "outputId": "898aa5ab-66bc-4a50-cbd2-d3ce22698f10"
      },
      "source": [
        "#creating x data \n",
        "xdata = range(0,atm1.shape[0])\n",
        "\n",
        "fig, ax = plt.subplots()\n",
        "ax.plot(xdata,atm1['prevweek_mean'],label = 'Previous week Mean',color = 'green')\n",
        "\n",
        "ax.set_title('Line plot for Previous Week Mean')\n",
        "ax.legend()"
      ],
      "execution_count": null,
      "outputs": [
        {
          "output_type": "execute_result",
          "data": {
            "text/plain": [
              "<matplotlib.legend.Legend at 0x7f4c4cf00400>"
            ]
          },
          "metadata": {
            "tags": []
          },
          "execution_count": 310
        },
        {
          "output_type": "display_data",
          "data": {
            "image/png": "[encoded data removed]",
            "text/plain": [
              "<Figure size 432x288 with 1 Axes>"
            ]
          },
          "metadata": {
            "tags": [],
            "needs_background": "light"
          }
        }
      ]
    },
    {
      "cell_type": "code",
      "metadata": {
        "id": "9pMbCxYnZN5v",
        "colab": {
          "base_uri": "https://localhost:8080/",
          "height": 298
        },
        "outputId": "d2b1c51d-fa45-4e91-ee11-b821e6b76639"
      },
      "source": [
        "#creating x data \n",
        "xdata = range(0,atm1.shape[0])\n",
        "\n",
        "fig, ax = plt.subplots()\n",
        "ax.plot(xdata,atm1['total_amount_withdrawn'],label = 'Total Amount Withdrawn',color = 'orange')\n",
        "\n",
        "ax.set_title('Line plot for Total Amount Withdrawn')\n",
        "ax.legend()"
      ],
      "execution_count": null,
      "outputs": [
        {
          "output_type": "execute_result",
          "data": {
            "text/plain": [
              "<matplotlib.legend.Legend at 0x7f4c4ce5ec50>"
            ]
          },
          "metadata": {
            "tags": []
          },
          "execution_count": 311
        },
        {
          "output_type": "display_data",
          "data": {
            "image/png": "[encoded data removed]",
            "text/plain": [
              "<Figure size 432x288 with 1 Axes>"
            ]
          },
          "metadata": {
            "tags": [],
            "needs_background": "light"
          }
        }
      ]
    },
    {
      "cell_type": "code",
      "metadata": {
        "id": "DaQ0oOAQRK9A",
        "colab": {
          "base_uri": "https://localhost:8080/",
          "height": 299
        },
        "outputId": "a7ed456d-0aed-4ea8-ec18-0650d9ff4c6b"
      },
      "source": [
        "sns.boxplot(data = atm1)\n",
        "plt.title('Boxplot')\n",
        "#The boxplot shows presence of outliers "
      ],
      "execution_count": null,
      "outputs": [
        {
          "output_type": "execute_result",
          "data": {
            "text/plain": [
              "Text(0.5, 1.0, 'Boxplot')"
            ]
          },
          "metadata": {
            "tags": []
          },
          "execution_count": 312
        },
        {
          "output_type": "display_data",
          "data": {
            "image/png": "[encoded data removed]",
            "text/plain": [
              "<Figure size 432x288 with 1 Axes>"
            ]
          },
          "metadata": {
            "tags": [],
            "needs_background": "light"
          }
        }
      ]
    },
    {
      "cell_type": "code",
      "metadata": {
        "id": "lIYouZbfm77v",
        "colab": {
          "base_uri": "https://localhost:8080/",
          "height": 470
        },
        "outputId": "55fbc3c5-605d-4b1a-8b05-5cbdb8e23fbc"
      },
      "source": [
        "#Finding Outliers \n",
        "from scipy import stats \n",
        "\n",
        "z = np.abs(stats.zscore(atm1.select_dtypes(include = ['number'])))\n",
        "print(z)\n",
        "\n",
        "threshold = 3\n",
        "print(np.where(z>3))\n",
        "\n",
        "atm2 = atm1[(z<3).all(axis = 1)]\n",
        "print(atm2)\n",
        "print(atm2.shape) #we can see 3 rows have been omitted \n",
        "print(atm2.columns)"
      ],
      "execution_count": null,
      "outputs": [
        {
          "output_type": "stream",
          "text": [
            "[[1.45311408 1.63153695 1.41212142 0.69003026 1.49490144]\n",
            " [1.45311408 1.63153695 1.41212142 0.69003026 1.21621145]\n",
            " [1.45311408 1.63153695 1.41212142 0.69003026 0.93556162]\n",
            " ...\n",
            " [1.38729358 0.82500514 1.71344209 1.23540964 1.36647254]\n",
            " [1.38729358 0.82500514 1.71344209 1.23540964 0.77734307]\n",
            " [1.38729358 0.82500514 1.71344209 1.23540964 0.82555527]]\n",
            "(array([ 670, 1251, 1712]), array([4, 4, 4]))\n",
            "        weekday festival_religion  ... previousday_holiday  nextday_holiday\n",
            "0        MONDAY                NH  ...                   W                W\n",
            "1       TUESDAY                NH  ...                   W                W\n",
            "2     WEDNESDAY                NH  ...                   W                W\n",
            "3      THURSDAY                NH  ...                   W                W\n",
            "4        FRIDAY                NH  ...                   W                W\n",
            "...         ...               ...  ...                 ...              ...\n",
            "2239     MONDAY                NH  ...                   H                W\n",
            "2240    TUESDAY                NH  ...                   W                W\n",
            "2241  WEDNESDAY                NH  ...                   W                W\n",
            "2242   THURSDAY                NH  ...                   W                H\n",
            "2243     FRIDAY                 H  ...                   W                H\n",
            "\n",
            "[2241 rows x 10 columns]\n",
            "(2241, 10)\n",
            "Index(['weekday', 'festival_religion', 'working_day', 'trans_date_set',\n",
            "       'trans_month', 'trans_year', 'prevweek_mean', 'total_amount_withdrawn',\n",
            "       'previousday_holiday', 'nextday_holiday'],\n",
            "      dtype='object')\n"
          ],
          "name": "stdout"
        }
      ]
    },
    {
      "cell_type": "markdown",
      "metadata": {
        "id": "I3StvtuaaVRv"
      },
      "source": [
        "*Creating Dummy Variables*"
      ]
    },
    {
      "cell_type": "code",
      "metadata": {
        "id": "_H2rPABtKuPc",
        "colab": {
          "base_uri": "https://localhost:8080/",
          "height": 422
        },
        "outputId": "af63f2ff-92ec-473f-ccba-57dad2f0adab"
      },
      "source": [
        "dummy = pd.get_dummies(atm2.select_dtypes(exclude= ['number']),drop_first= True)\n",
        "dummy "
      ],
      "execution_count": null,
      "outputs": [
        {
          "output_type": "execute_result",
          "data": {
            "text/html": [
              "<div>\n",
              "<style scoped>\n",
              "    .dataframe tbody tr th:only-of-type {\n",
              "        vertical-align: middle;\n",
              "    }\n",
              "\n",
              "    .dataframe tbody tr th {\n",
              "        vertical-align: top;\n",
              "    }\n",
              "\n",
              "    .dataframe thead th {\n",
              "        text-align: right;\n",
              "    }\n",
              "</style>\n",
              "<table border=\"1\" class=\"dataframe\">\n",
              "  <thead>\n",
              "    <tr style=\"text-align: right;\">\n",
              "      <th></th>\n",
              "      <th>weekday_MONDAY</th>\n",
              "      <th>weekday_SATURDAY</th>\n",
              "      <th>weekday_SUNDAY</th>\n",
              "      <th>weekday_THURSDAY</th>\n",
              "      <th>weekday_TUESDAY</th>\n",
              "      <th>weekday_WEDNESDAY</th>\n",
              "      <th>festival_religion_H</th>\n",
              "      <th>festival_religion_M</th>\n",
              "      <th>festival_religion_N</th>\n",
              "      <th>festival_religion_NH</th>\n",
              "      <th>working_day_W</th>\n",
              "      <th>previousday_holiday_W</th>\n",
              "      <th>nextday_holiday_W</th>\n",
              "    </tr>\n",
              "  </thead>\n",
              "  <tbody>\n",
              "    <tr>\n",
              "      <th>0</th>\n",
              "      <td>1</td>\n",
              "      <td>0</td>\n",
              "      <td>0</td>\n",
              "      <td>0</td>\n",
              "      <td>0</td>\n",
              "      <td>0</td>\n",
              "      <td>0</td>\n",
              "      <td>0</td>\n",
              "      <td>0</td>\n",
              "      <td>1</td>\n",
              "      <td>1</td>\n",
              "      <td>1</td>\n",
              "      <td>1</td>\n",
              "    </tr>\n",
              "    <tr>\n",
              "      <th>1</th>\n",
              "      <td>0</td>\n",
              "      <td>0</td>\n",
              "      <td>0</td>\n",
              "      <td>0</td>\n",
              "      <td>1</td>\n",
              "      <td>0</td>\n",
              "      <td>0</td>\n",
              "      <td>0</td>\n",
              "      <td>0</td>\n",
              "      <td>1</td>\n",
              "      <td>1</td>\n",
              "      <td>1</td>\n",
              "      <td>1</td>\n",
              "    </tr>\n",
              "    <tr>\n",
              "      <th>2</th>\n",
              "      <td>0</td>\n",
              "      <td>0</td>\n",
              "      <td>0</td>\n",
              "      <td>0</td>\n",
              "      <td>0</td>\n",
              "      <td>1</td>\n",
              "      <td>0</td>\n",
              "      <td>0</td>\n",
              "      <td>0</td>\n",
              "      <td>1</td>\n",
              "      <td>1</td>\n",
              "      <td>1</td>\n",
              "      <td>1</td>\n",
              "    </tr>\n",
              "    <tr>\n",
              "      <th>3</th>\n",
              "      <td>0</td>\n",
              "      <td>0</td>\n",
              "      <td>0</td>\n",
              "      <td>1</td>\n",
              "      <td>0</td>\n",
              "      <td>0</td>\n",
              "      <td>0</td>\n",
              "      <td>0</td>\n",
              "      <td>0</td>\n",
              "      <td>1</td>\n",
              "      <td>1</td>\n",
              "      <td>1</td>\n",
              "      <td>1</td>\n",
              "    </tr>\n",
              "    <tr>\n",
              "      <th>4</th>\n",
              "      <td>0</td>\n",
              "      <td>0</td>\n",
              "      <td>0</td>\n",
              "      <td>0</td>\n",
              "      <td>0</td>\n",
              "      <td>0</td>\n",
              "      <td>0</td>\n",
              "      <td>0</td>\n",
              "      <td>0</td>\n",
              "      <td>1</td>\n",
              "      <td>1</td>\n",
              "      <td>1</td>\n",
              "      <td>1</td>\n",
              "    </tr>\n",
              "    <tr>\n",
              "      <th>...</th>\n",
              "      <td>...</td>\n",
              "      <td>...</td>\n",
              "      <td>...</td>\n",
              "      <td>...</td>\n",
              "      <td>...</td>\n",
              "      <td>...</td>\n",
              "      <td>...</td>\n",
              "      <td>...</td>\n",
              "      <td>...</td>\n",
              "      <td>...</td>\n",
              "      <td>...</td>\n",
              "      <td>...</td>\n",
              "      <td>...</td>\n",
              "    </tr>\n",
              "    <tr>\n",
              "      <th>2239</th>\n",
              "      <td>1</td>\n",
              "      <td>0</td>\n",
              "      <td>0</td>\n",
              "      <td>0</td>\n",
              "      <td>0</td>\n",
              "      <td>0</td>\n",
              "      <td>0</td>\n",
              "      <td>0</td>\n",
              "      <td>0</td>\n",
              "      <td>1</td>\n",
              "      <td>1</td>\n",
              "      <td>0</td>\n",
              "      <td>1</td>\n",
              "    </tr>\n",
              "    <tr>\n",
              "      <th>2240</th>\n",
              "      <td>0</td>\n",
              "      <td>0</td>\n",
              "      <td>0</td>\n",
              "      <td>0</td>\n",
              "      <td>1</td>\n",
              "      <td>0</td>\n",
              "      <td>0</td>\n",
              "      <td>0</td>\n",
              "      <td>0</td>\n",
              "      <td>1</td>\n",
              "      <td>1</td>\n",
              "      <td>1</td>\n",
              "      <td>1</td>\n",
              "    </tr>\n",
              "    <tr>\n",
              "      <th>2241</th>\n",
              "      <td>0</td>\n",
              "      <td>0</td>\n",
              "      <td>0</td>\n",
              "      <td>0</td>\n",
              "      <td>0</td>\n",
              "      <td>1</td>\n",
              "      <td>0</td>\n",
              "      <td>0</td>\n",
              "      <td>0</td>\n",
              "      <td>1</td>\n",
              "      <td>1</td>\n",
              "      <td>1</td>\n",
              "      <td>1</td>\n",
              "    </tr>\n",
              "    <tr>\n",
              "      <th>2242</th>\n",
              "      <td>0</td>\n",
              "      <td>0</td>\n",
              "      <td>0</td>\n",
              "      <td>1</td>\n",
              "      <td>0</td>\n",
              "      <td>0</td>\n",
              "      <td>0</td>\n",
              "      <td>0</td>\n",
              "      <td>0</td>\n",
              "      <td>1</td>\n",
              "      <td>1</td>\n",
              "      <td>1</td>\n",
              "      <td>0</td>\n",
              "    </tr>\n",
              "    <tr>\n",
              "      <th>2243</th>\n",
              "      <td>0</td>\n",
              "      <td>0</td>\n",
              "      <td>0</td>\n",
              "      <td>0</td>\n",
              "      <td>0</td>\n",
              "      <td>0</td>\n",
              "      <td>1</td>\n",
              "      <td>0</td>\n",
              "      <td>0</td>\n",
              "      <td>0</td>\n",
              "      <td>0</td>\n",
              "      <td>1</td>\n",
              "      <td>0</td>\n",
              "    </tr>\n",
              "  </tbody>\n",
              "</table>\n",
              "<p>2241 rows × 13 columns</p>\n",
              "</div>"
            ],
            "text/plain": [
              "      weekday_MONDAY  ...  nextday_holiday_W\n",
              "0                  1  ...                  1\n",
              "1                  0  ...                  1\n",
              "2                  0  ...                  1\n",
              "3                  0  ...                  1\n",
              "4                  0  ...                  1\n",
              "...              ...  ...                ...\n",
              "2239               1  ...                  1\n",
              "2240               0  ...                  1\n",
              "2241               0  ...                  1\n",
              "2242               0  ...                  0\n",
              "2243               0  ...                  0\n",
              "\n",
              "[2241 rows x 13 columns]"
            ]
          },
          "metadata": {
            "tags": []
          },
          "execution_count": 314
        }
      ]
    },
    {
      "cell_type": "code",
      "metadata": {
        "id": "vJHaf6bYQAmM",
        "colab": {
          "base_uri": "https://localhost:8080/",
          "height": 402
        },
        "outputId": "869a2e21-0efc-4d57-9e85-93be7ba07a18"
      },
      "source": [
        "atm3 = atm2.drop(atm2.columns[[0,1,2,8,9]],axis=1)\n",
        "atm3"
      ],
      "execution_count": null,
      "outputs": [
        {
          "output_type": "execute_result",
          "data": {
            "text/html": [
              "<div>\n",
              "<style scoped>\n",
              "    .dataframe tbody tr th:only-of-type {\n",
              "        vertical-align: middle;\n",
              "    }\n",
              "\n",
              "    .dataframe tbody tr th {\n",
              "        vertical-align: top;\n",
              "    }\n",
              "\n",
              "    .dataframe thead th {\n",
              "        text-align: right;\n",
              "    }\n",
              "</style>\n",
              "<table border=\"1\" class=\"dataframe\">\n",
              "  <thead>\n",
              "    <tr style=\"text-align: right;\">\n",
              "      <th></th>\n",
              "      <th>trans_date_set</th>\n",
              "      <th>trans_month</th>\n",
              "      <th>trans_year</th>\n",
              "      <th>prevweek_mean</th>\n",
              "      <th>total_amount_withdrawn</th>\n",
              "    </tr>\n",
              "  </thead>\n",
              "  <tbody>\n",
              "    <tr>\n",
              "      <th>0</th>\n",
              "      <td>1</td>\n",
              "      <td>1</td>\n",
              "      <td>2011</td>\n",
              "      <td>648600</td>\n",
              "      <td>897100</td>\n",
              "    </tr>\n",
              "    <tr>\n",
              "      <th>1</th>\n",
              "      <td>1</td>\n",
              "      <td>1</td>\n",
              "      <td>2011</td>\n",
              "      <td>648600</td>\n",
              "      <td>826000</td>\n",
              "    </tr>\n",
              "    <tr>\n",
              "      <th>2</th>\n",
              "      <td>1</td>\n",
              "      <td>1</td>\n",
              "      <td>2011</td>\n",
              "      <td>648600</td>\n",
              "      <td>754400</td>\n",
              "    </tr>\n",
              "    <tr>\n",
              "      <th>3</th>\n",
              "      <td>2</td>\n",
              "      <td>1</td>\n",
              "      <td>2011</td>\n",
              "      <td>648600</td>\n",
              "      <td>834200</td>\n",
              "    </tr>\n",
              "    <tr>\n",
              "      <th>4</th>\n",
              "      <td>2</td>\n",
              "      <td>1</td>\n",
              "      <td>2011</td>\n",
              "      <td>648600</td>\n",
              "      <td>575300</td>\n",
              "    </tr>\n",
              "    <tr>\n",
              "      <th>...</th>\n",
              "      <td>...</td>\n",
              "      <td>...</td>\n",
              "      <td>...</td>\n",
              "      <td>...</td>\n",
              "      <td>...</td>\n",
              "    </tr>\n",
              "    <tr>\n",
              "      <th>2239</th>\n",
              "      <td>5</td>\n",
              "      <td>9</td>\n",
              "      <td>2017</td>\n",
              "      <td>276058</td>\n",
              "      <td>447400</td>\n",
              "    </tr>\n",
              "    <tr>\n",
              "      <th>2240</th>\n",
              "      <td>6</td>\n",
              "      <td>9</td>\n",
              "      <td>2017</td>\n",
              "      <td>276058</td>\n",
              "      <td>153800</td>\n",
              "    </tr>\n",
              "    <tr>\n",
              "      <th>2241</th>\n",
              "      <td>6</td>\n",
              "      <td>9</td>\n",
              "      <td>2017</td>\n",
              "      <td>276058</td>\n",
              "      <td>167100</td>\n",
              "    </tr>\n",
              "    <tr>\n",
              "      <th>2242</th>\n",
              "      <td>6</td>\n",
              "      <td>9</td>\n",
              "      <td>2017</td>\n",
              "      <td>276058</td>\n",
              "      <td>317400</td>\n",
              "    </tr>\n",
              "    <tr>\n",
              "      <th>2243</th>\n",
              "      <td>6</td>\n",
              "      <td>9</td>\n",
              "      <td>2017</td>\n",
              "      <td>276058</td>\n",
              "      <td>305100</td>\n",
              "    </tr>\n",
              "  </tbody>\n",
              "</table>\n",
              "<p>2241 rows × 5 columns</p>\n",
              "</div>"
            ],
            "text/plain": [
              "      trans_date_set  trans_month  ...  prevweek_mean  total_amount_withdrawn\n",
              "0                  1            1  ...         648600                  897100\n",
              "1                  1            1  ...         648600                  826000\n",
              "2                  1            1  ...         648600                  754400\n",
              "3                  2            1  ...         648600                  834200\n",
              "4                  2            1  ...         648600                  575300\n",
              "...              ...          ...  ...            ...                     ...\n",
              "2239               5            9  ...         276058                  447400\n",
              "2240               6            9  ...         276058                  153800\n",
              "2241               6            9  ...         276058                  167100\n",
              "2242               6            9  ...         276058                  317400\n",
              "2243               6            9  ...         276058                  305100\n",
              "\n",
              "[2241 rows x 5 columns]"
            ]
          },
          "metadata": {
            "tags": []
          },
          "execution_count": 315
        }
      ]
    },
    {
      "cell_type": "code",
      "metadata": {
        "id": "g9c-9uMPSh43",
        "colab": {
          "base_uri": "https://localhost:8080/",
          "height": 422
        },
        "outputId": "cebd4e67-7a2a-4fb6-e1c3-3f9db0c57d64"
      },
      "source": [
        "atm3 = pd.concat([atm3,dummy],axis = 1)\n",
        "atm3"
      ],
      "execution_count": null,
      "outputs": [
        {
          "output_type": "execute_result",
          "data": {
            "text/html": [
              "<div>\n",
              "<style scoped>\n",
              "    .dataframe tbody tr th:only-of-type {\n",
              "        vertical-align: middle;\n",
              "    }\n",
              "\n",
              "    .dataframe tbody tr th {\n",
              "        vertical-align: top;\n",
              "    }\n",
              "\n",
              "    .dataframe thead th {\n",
              "        text-align: right;\n",
              "    }\n",
              "</style>\n",
              "<table border=\"1\" class=\"dataframe\">\n",
              "  <thead>\n",
              "    <tr style=\"text-align: right;\">\n",
              "      <th></th>\n",
              "      <th>trans_date_set</th>\n",
              "      <th>trans_month</th>\n",
              "      <th>trans_year</th>\n",
              "      <th>prevweek_mean</th>\n",
              "      <th>total_amount_withdrawn</th>\n",
              "      <th>weekday_MONDAY</th>\n",
              "      <th>weekday_SATURDAY</th>\n",
              "      <th>weekday_SUNDAY</th>\n",
              "      <th>weekday_THURSDAY</th>\n",
              "      <th>weekday_TUESDAY</th>\n",
              "      <th>weekday_WEDNESDAY</th>\n",
              "      <th>festival_religion_H</th>\n",
              "      <th>festival_religion_M</th>\n",
              "      <th>festival_religion_N</th>\n",
              "      <th>festival_religion_NH</th>\n",
              "      <th>working_day_W</th>\n",
              "      <th>previousday_holiday_W</th>\n",
              "      <th>nextday_holiday_W</th>\n",
              "    </tr>\n",
              "  </thead>\n",
              "  <tbody>\n",
              "    <tr>\n",
              "      <th>0</th>\n",
              "      <td>1</td>\n",
              "      <td>1</td>\n",
              "      <td>2011</td>\n",
              "      <td>648600</td>\n",
              "      <td>897100</td>\n",
              "      <td>1</td>\n",
              "      <td>0</td>\n",
              "      <td>0</td>\n",
              "      <td>0</td>\n",
              "      <td>0</td>\n",
              "      <td>0</td>\n",
              "      <td>0</td>\n",
              "      <td>0</td>\n",
              "      <td>0</td>\n",
              "      <td>1</td>\n",
              "      <td>1</td>\n",
              "      <td>1</td>\n",
              "      <td>1</td>\n",
              "    </tr>\n",
              "    <tr>\n",
              "      <th>1</th>\n",
              "      <td>1</td>\n",
              "      <td>1</td>\n",
              "      <td>2011</td>\n",
              "      <td>648600</td>\n",
              "      <td>826000</td>\n",
              "      <td>0</td>\n",
              "      <td>0</td>\n",
              "      <td>0</td>\n",
              "      <td>0</td>\n",
              "      <td>1</td>\n",
              "      <td>0</td>\n",
              "      <td>0</td>\n",
              "      <td>0</td>\n",
              "      <td>0</td>\n",
              "      <td>1</td>\n",
              "      <td>1</td>\n",
              "      <td>1</td>\n",
              "      <td>1</td>\n",
              "    </tr>\n",
              "    <tr>\n",
              "      <th>2</th>\n",
              "      <td>1</td>\n",
              "      <td>1</td>\n",
              "      <td>2011</td>\n",
              "      <td>648600</td>\n",
              "      <td>754400</td>\n",
              "      <td>0</td>\n",
              "      <td>0</td>\n",
              "      <td>0</td>\n",
              "      <td>0</td>\n",
              "      <td>0</td>\n",
              "      <td>1</td>\n",
              "      <td>0</td>\n",
              "      <td>0</td>\n",
              "      <td>0</td>\n",
              "      <td>1</td>\n",
              "      <td>1</td>\n",
              "      <td>1</td>\n",
              "      <td>1</td>\n",
              "    </tr>\n",
              "    <tr>\n",
              "      <th>3</th>\n",
              "      <td>2</td>\n",
              "      <td>1</td>\n",
              "      <td>2011</td>\n",
              "      <td>648600</td>\n",
              "      <td>834200</td>\n",
              "      <td>0</td>\n",
              "      <td>0</td>\n",
              "      <td>0</td>\n",
              "      <td>1</td>\n",
              "      <td>0</td>\n",
              "      <td>0</td>\n",
              "      <td>0</td>\n",
              "      <td>0</td>\n",
              "      <td>0</td>\n",
              "      <td>1</td>\n",
              "      <td>1</td>\n",
              "      <td>1</td>\n",
              "      <td>1</td>\n",
              "    </tr>\n",
              "    <tr>\n",
              "      <th>4</th>\n",
              "      <td>2</td>\n",
              "      <td>1</td>\n",
              "      <td>2011</td>\n",
              "      <td>648600</td>\n",
              "      <td>575300</td>\n",
              "      <td>0</td>\n",
              "      <td>0</td>\n",
              "      <td>0</td>\n",
              "      <td>0</td>\n",
              "      <td>0</td>\n",
              "      <td>0</td>\n",
              "      <td>0</td>\n",
              "      <td>0</td>\n",
              "      <td>0</td>\n",
              "      <td>1</td>\n",
              "      <td>1</td>\n",
              "      <td>1</td>\n",
              "      <td>1</td>\n",
              "    </tr>\n",
              "    <tr>\n",
              "      <th>...</th>\n",
              "      <td>...</td>\n",
              "      <td>...</td>\n",
              "      <td>...</td>\n",
              "      <td>...</td>\n",
              "      <td>...</td>\n",
              "      <td>...</td>\n",
              "      <td>...</td>\n",
              "      <td>...</td>\n",
              "      <td>...</td>\n",
              "      <td>...</td>\n",
              "      <td>...</td>\n",
              "      <td>...</td>\n",
              "      <td>...</td>\n",
              "      <td>...</td>\n",
              "      <td>...</td>\n",
              "      <td>...</td>\n",
              "      <td>...</td>\n",
              "      <td>...</td>\n",
              "    </tr>\n",
              "    <tr>\n",
              "      <th>2239</th>\n",
              "      <td>5</td>\n",
              "      <td>9</td>\n",
              "      <td>2017</td>\n",
              "      <td>276058</td>\n",
              "      <td>447400</td>\n",
              "      <td>1</td>\n",
              "      <td>0</td>\n",
              "      <td>0</td>\n",
              "      <td>0</td>\n",
              "      <td>0</td>\n",
              "      <td>0</td>\n",
              "      <td>0</td>\n",
              "      <td>0</td>\n",
              "      <td>0</td>\n",
              "      <td>1</td>\n",
              "      <td>1</td>\n",
              "      <td>0</td>\n",
              "      <td>1</td>\n",
              "    </tr>\n",
              "    <tr>\n",
              "      <th>2240</th>\n",
              "      <td>6</td>\n",
              "      <td>9</td>\n",
              "      <td>2017</td>\n",
              "      <td>276058</td>\n",
              "      <td>153800</td>\n",
              "      <td>0</td>\n",
              "      <td>0</td>\n",
              "      <td>0</td>\n",
              "      <td>0</td>\n",
              "      <td>1</td>\n",
              "      <td>0</td>\n",
              "      <td>0</td>\n",
              "      <td>0</td>\n",
              "      <td>0</td>\n",
              "      <td>1</td>\n",
              "      <td>1</td>\n",
              "      <td>1</td>\n",
              "      <td>1</td>\n",
              "    </tr>\n",
              "    <tr>\n",
              "      <th>2241</th>\n",
              "      <td>6</td>\n",
              "      <td>9</td>\n",
              "      <td>2017</td>\n",
              "      <td>276058</td>\n",
              "      <td>167100</td>\n",
              "      <td>0</td>\n",
              "      <td>0</td>\n",
              "      <td>0</td>\n",
              "      <td>0</td>\n",
              "      <td>0</td>\n",
              "      <td>1</td>\n",
              "      <td>0</td>\n",
              "      <td>0</td>\n",
              "      <td>0</td>\n",
              "      <td>1</td>\n",
              "      <td>1</td>\n",
              "      <td>1</td>\n",
              "      <td>1</td>\n",
              "    </tr>\n",
              "    <tr>\n",
              "      <th>2242</th>\n",
              "      <td>6</td>\n",
              "      <td>9</td>\n",
              "      <td>2017</td>\n",
              "      <td>276058</td>\n",
              "      <td>317400</td>\n",
              "      <td>0</td>\n",
              "      <td>0</td>\n",
              "      <td>0</td>\n",
              "      <td>1</td>\n",
              "      <td>0</td>\n",
              "      <td>0</td>\n",
              "      <td>0</td>\n",
              "      <td>0</td>\n",
              "      <td>0</td>\n",
              "      <td>1</td>\n",
              "      <td>1</td>\n",
              "      <td>1</td>\n",
              "      <td>0</td>\n",
              "    </tr>\n",
              "    <tr>\n",
              "      <th>2243</th>\n",
              "      <td>6</td>\n",
              "      <td>9</td>\n",
              "      <td>2017</td>\n",
              "      <td>276058</td>\n",
              "      <td>305100</td>\n",
              "      <td>0</td>\n",
              "      <td>0</td>\n",
              "      <td>0</td>\n",
              "      <td>0</td>\n",
              "      <td>0</td>\n",
              "      <td>0</td>\n",
              "      <td>1</td>\n",
              "      <td>0</td>\n",
              "      <td>0</td>\n",
              "      <td>0</td>\n",
              "      <td>0</td>\n",
              "      <td>1</td>\n",
              "      <td>0</td>\n",
              "    </tr>\n",
              "  </tbody>\n",
              "</table>\n",
              "<p>2241 rows × 18 columns</p>\n",
              "</div>"
            ],
            "text/plain": [
              "      trans_date_set  trans_month  ...  previousday_holiday_W  nextday_holiday_W\n",
              "0                  1            1  ...                      1                  1\n",
              "1                  1            1  ...                      1                  1\n",
              "2                  1            1  ...                      1                  1\n",
              "3                  2            1  ...                      1                  1\n",
              "4                  2            1  ...                      1                  1\n",
              "...              ...          ...  ...                    ...                ...\n",
              "2239               5            9  ...                      0                  1\n",
              "2240               6            9  ...                      1                  1\n",
              "2241               6            9  ...                      1                  1\n",
              "2242               6            9  ...                      1                  0\n",
              "2243               6            9  ...                      1                  0\n",
              "\n",
              "[2241 rows x 18 columns]"
            ]
          },
          "metadata": {
            "tags": []
          },
          "execution_count": 316
        }
      ]
    },
    {
      "cell_type": "code",
      "metadata": {
        "id": "b5Su0PIHpDJr",
        "colab": {
          "base_uri": "https://localhost:8080/",
          "height": 835
        },
        "outputId": "1c0408cc-e78d-468f-adcc-9d7ca198b246"
      },
      "source": [
        "corr = atm3.corr()\n",
        "\n",
        "size = plt.figure(figsize= (12,12))\n",
        "sns.heatmap(corr,annot= True)\n",
        "\n",
        "#There isn't strong correlation beytween any of the variables indicating that there is no multicollinearity."
      ],
      "execution_count": null,
      "outputs": [
        {
          "output_type": "execute_result",
          "data": {
            "text/plain": [
              "<matplotlib.axes._subplots.AxesSubplot at 0x7f4c4cd73a58>"
            ]
          },
          "metadata": {
            "tags": []
          },
          "execution_count": 317
        },
        {
          "output_type": "display_data",
          "data": {
            "image/png": "[encoded data removed]",
            "text/plain": [
              "<Figure size 864x864 with 2 Axes>"
            ]
          },
          "metadata": {
            "tags": [],
            "needs_background": "light"
          }
        }
      ]
    },
    {
      "cell_type": "markdown",
      "metadata": {
        "id": "EKxVu9omKHDJ"
      },
      "source": [
        "*Feature Selection*"
      ]
    },
    {
      "cell_type": "code",
      "metadata": {
        "id": "8r4wbcTgVJM1"
      },
      "source": [
        "#Splitting the independent and dependent variables \n",
        "x = atm3.drop(columns='total_amount_withdrawn')\n",
        "y = atm3['total_amount_withdrawn']"
      ],
      "execution_count": null,
      "outputs": []
    },
    {
      "cell_type": "code",
      "metadata": {
        "id": "pOEiHRryATd0",
        "colab": {
          "base_uri": "https://localhost:8080/",
          "height": 776
        },
        "outputId": "6af7c0de-ca26-41e1-e694-8dae15da8295"
      },
      "source": [
        "import statsmodels.api as sm \n",
        "\n",
        "selc = sm.OLS(y,x).fit()\n",
        "selc.summary()"
      ],
      "execution_count": null,
      "outputs": [
        {
          "output_type": "execute_result",
          "data": {
            "text/html": [
              "<table class=\"simpletable\">\n",
              "<caption>OLS Regression Results</caption>\n",
              "<tr>\n",
              "  <th>Dep. Variable:</th>    <td>total_amount_withdrawn</td> <th>  R-squared (uncentered):</th>      <td>   0.874</td> \n",
              "</tr>\n",
              "<tr>\n",
              "  <th>Model:</th>                      <td>OLS</td>          <th>  Adj. R-squared (uncentered):</th> <td>   0.873</td> \n",
              "</tr>\n",
              "<tr>\n",
              "  <th>Method:</th>                <td>Least Squares</td>     <th>  F-statistic:       </th>          <td>   907.5</td> \n",
              "</tr>\n",
              "<tr>\n",
              "  <th>Date:</th>                <td>Wed, 23 Sep 2020</td>    <th>  Prob (F-statistic):</th>           <td>  0.00</td>  \n",
              "</tr>\n",
              "<tr>\n",
              "  <th>Time:</th>                    <td>16:53:22</td>        <th>  Log-Likelihood:    </th>          <td> -30574.</td> \n",
              "</tr>\n",
              "<tr>\n",
              "  <th>No. Observations:</th>         <td>  2241</td>         <th>  AIC:               </th>          <td>6.118e+04</td>\n",
              "</tr>\n",
              "<tr>\n",
              "  <th>Df Residuals:</th>             <td>  2224</td>         <th>  BIC:               </th>          <td>6.128e+04</td>\n",
              "</tr>\n",
              "<tr>\n",
              "  <th>Df Model:</th>                 <td>    17</td>         <th>                     </th>              <td> </td>    \n",
              "</tr>\n",
              "<tr>\n",
              "  <th>Covariance Type:</th>         <td>nonrobust</td>       <th>                     </th>              <td> </td>    \n",
              "</tr>\n",
              "</table>\n",
              "<table class=\"simpletable\">\n",
              "<tr>\n",
              "            <td></td>               <th>coef</th>     <th>std err</th>      <th>t</th>      <th>P>|t|</th>  <th>[0.025</th>    <th>0.975]</th>  \n",
              "</tr>\n",
              "<tr>\n",
              "  <th>trans_date_set</th>        <td>-2.956e+04</td> <td> 2489.143</td> <td>  -11.877</td> <td> 0.000</td> <td>-3.44e+04</td> <td>-2.47e+04</td>\n",
              "</tr>\n",
              "<tr>\n",
              "  <th>trans_month</th>           <td>  167.6896</td> <td> 1334.403</td> <td>    0.126</td> <td> 0.900</td> <td>-2449.117</td> <td> 2784.497</td>\n",
              "</tr>\n",
              "<tr>\n",
              "  <th>trans_year</th>            <td>   79.2058</td> <td>   26.965</td> <td>    2.937</td> <td> 0.003</td> <td>   26.326</td> <td>  132.085</td>\n",
              "</tr>\n",
              "<tr>\n",
              "  <th>prevweek_mean</th>         <td>    0.6457</td> <td>    0.023</td> <td>   28.441</td> <td> 0.000</td> <td>    0.601</td> <td>    0.690</td>\n",
              "</tr>\n",
              "<tr>\n",
              "  <th>weekday_MONDAY</th>        <td> 5.444e+04</td> <td> 3.36e+04</td> <td>    1.621</td> <td> 0.105</td> <td>-1.14e+04</td> <td>  1.2e+05</td>\n",
              "</tr>\n",
              "<tr>\n",
              "  <th>weekday_SATURDAY</th>      <td> 1.809e+05</td> <td> 3.75e+04</td> <td>    4.823</td> <td> 0.000</td> <td> 1.07e+05</td> <td> 2.55e+05</td>\n",
              "</tr>\n",
              "<tr>\n",
              "  <th>weekday_SUNDAY</th>        <td> 2.274e+04</td> <td> 4.58e+04</td> <td>    0.497</td> <td> 0.620</td> <td>-6.71e+04</td> <td> 1.13e+05</td>\n",
              "</tr>\n",
              "<tr>\n",
              "  <th>weekday_THURSDAY</th>      <td> 1.974e+04</td> <td> 2.71e+04</td> <td>    0.730</td> <td> 0.466</td> <td>-3.33e+04</td> <td> 7.28e+04</td>\n",
              "</tr>\n",
              "<tr>\n",
              "  <th>weekday_TUESDAY</th>       <td> 1.427e+04</td> <td> 2.72e+04</td> <td>    0.525</td> <td> 0.600</td> <td>-3.91e+04</td> <td> 6.76e+04</td>\n",
              "</tr>\n",
              "<tr>\n",
              "  <th>weekday_WEDNESDAY</th>     <td> 2.825e+04</td> <td> 2.69e+04</td> <td>    1.049</td> <td> 0.294</td> <td>-2.46e+04</td> <td> 8.11e+04</td>\n",
              "</tr>\n",
              "<tr>\n",
              "  <th>festival_religion_H</th>   <td>-1.026e+05</td> <td> 5.25e+04</td> <td>   -1.953</td> <td> 0.051</td> <td>-2.06e+05</td> <td>  408.475</td>\n",
              "</tr>\n",
              "<tr>\n",
              "  <th>festival_religion_M</th>   <td> 3.268e+04</td> <td> 5.75e+04</td> <td>    0.569</td> <td> 0.570</td> <td>   -8e+04</td> <td> 1.45e+05</td>\n",
              "</tr>\n",
              "<tr>\n",
              "  <th>festival_religion_N</th>   <td> 1.966e+04</td> <td> 5.66e+04</td> <td>    0.347</td> <td> 0.729</td> <td>-9.14e+04</td> <td> 1.31e+05</td>\n",
              "</tr>\n",
              "<tr>\n",
              "  <th>festival_religion_NH</th>  <td> 9390.1024</td> <td> 5.15e+04</td> <td>    0.182</td> <td> 0.855</td> <td>-9.15e+04</td> <td>  1.1e+05</td>\n",
              "</tr>\n",
              "<tr>\n",
              "  <th>working_day_W</th>         <td>  7.96e+04</td> <td>  3.5e+04</td> <td>    2.275</td> <td> 0.023</td> <td>  1.1e+04</td> <td> 1.48e+05</td>\n",
              "</tr>\n",
              "<tr>\n",
              "  <th>previousday_holiday_W</th> <td> 2.638e+04</td> <td> 2.21e+04</td> <td>    1.195</td> <td> 0.232</td> <td>-1.69e+04</td> <td> 6.97e+04</td>\n",
              "</tr>\n",
              "<tr>\n",
              "  <th>nextday_holiday_W</th>     <td> 1.951e+04</td> <td> 2.24e+04</td> <td>    0.871</td> <td> 0.384</td> <td>-2.44e+04</td> <td> 6.34e+04</td>\n",
              "</tr>\n",
              "</table>\n",
              "<table class=\"simpletable\">\n",
              "<tr>\n",
              "  <th>Omnibus:</th>       <td>40.470</td> <th>  Durbin-Watson:     </th> <td>   1.265</td>\n",
              "</tr>\n",
              "<tr>\n",
              "  <th>Prob(Omnibus):</th> <td> 0.000</td> <th>  Jarque-Bera (JB):  </th> <td>  48.998</td>\n",
              "</tr>\n",
              "<tr>\n",
              "  <th>Skew:</th>          <td> 0.256</td> <th>  Prob(JB):          </th> <td>2.29e-11</td>\n",
              "</tr>\n",
              "<tr>\n",
              "  <th>Kurtosis:</th>      <td> 3.513</td> <th>  Cond. No.          </th> <td>1.23e+07</td>\n",
              "</tr>\n",
              "</table><br/><br/>Notes:<br/>[1] R² is computed without centering (uncentered) since the model does not contain a constant.<br/>[2] Standard Errors assume that the covariance matrix of the errors is correctly specified.<br/>[3] The condition number is large, 1.23e+07. This might indicate that there are<br/>strong multicollinearity or other numerical problems."
            ],
            "text/plain": [
              "<class 'statsmodels.iolib.summary.Summary'>\n",
              "\"\"\"\n",
              "                                   OLS Regression Results                                  \n",
              "===========================================================================================\n",
              "Dep. Variable:     total_amount_withdrawn   R-squared (uncentered):                   0.874\n",
              "Model:                                OLS   Adj. R-squared (uncentered):              0.873\n",
              "Method:                     Least Squares   F-statistic:                              907.5\n",
              "Date:                    Wed, 23 Sep 2020   Prob (F-statistic):                        0.00\n",
              "Time:                            16:53:22   Log-Likelihood:                         -30574.\n",
              "No. Observations:                    2241   AIC:                                  6.118e+04\n",
              "Df Residuals:                        2224   BIC:                                  6.128e+04\n",
              "Df Model:                              17                                                  \n",
              "Covariance Type:                nonrobust                                                  \n",
              "=========================================================================================\n",
              "                            coef    std err          t      P>|t|      [0.025      0.975]\n",
              "-----------------------------------------------------------------------------------------\n",
              "trans_date_set        -2.956e+04   2489.143    -11.877      0.000   -3.44e+04   -2.47e+04\n",
              "trans_month             167.6896   1334.403      0.126      0.900   -2449.117    2784.497\n",
              "trans_year               79.2058     26.965      2.937      0.003      26.326     132.085\n",
              "prevweek_mean             0.6457      0.023     28.441      0.000       0.601       0.690\n",
              "weekday_MONDAY         5.444e+04   3.36e+04      1.621      0.105   -1.14e+04     1.2e+05\n",
              "weekday_SATURDAY       1.809e+05   3.75e+04      4.823      0.000    1.07e+05    2.55e+05\n",
              "weekday_SUNDAY         2.274e+04   4.58e+04      0.497      0.620   -6.71e+04    1.13e+05\n",
              "weekday_THURSDAY       1.974e+04   2.71e+04      0.730      0.466   -3.33e+04    7.28e+04\n",
              "weekday_TUESDAY        1.427e+04   2.72e+04      0.525      0.600   -3.91e+04    6.76e+04\n",
              "weekday_WEDNESDAY      2.825e+04   2.69e+04      1.049      0.294   -2.46e+04    8.11e+04\n",
              "festival_religion_H   -1.026e+05   5.25e+04     -1.953      0.051   -2.06e+05     408.475\n",
              "festival_religion_M    3.268e+04   5.75e+04      0.569      0.570      -8e+04    1.45e+05\n",
              "festival_religion_N    1.966e+04   5.66e+04      0.347      0.729   -9.14e+04    1.31e+05\n",
              "festival_religion_NH   9390.1024   5.15e+04      0.182      0.855   -9.15e+04     1.1e+05\n",
              "working_day_W           7.96e+04    3.5e+04      2.275      0.023     1.1e+04    1.48e+05\n",
              "previousday_holiday_W  2.638e+04   2.21e+04      1.195      0.232   -1.69e+04    6.97e+04\n",
              "nextday_holiday_W      1.951e+04   2.24e+04      0.871      0.384   -2.44e+04    6.34e+04\n",
              "==============================================================================\n",
              "Omnibus:                       40.470   Durbin-Watson:                   1.265\n",
              "Prob(Omnibus):                  0.000   Jarque-Bera (JB):               48.998\n",
              "Skew:                           0.256   Prob(JB):                     2.29e-11\n",
              "Kurtosis:                       3.513   Cond. No.                     1.23e+07\n",
              "==============================================================================\n",
              "\n",
              "Notes:\n",
              "[1] R² is computed without centering (uncentered) since the model does not contain a constant.\n",
              "[2] Standard Errors assume that the covariance matrix of the errors is correctly specified.\n",
              "[3] The condition number is large, 1.23e+07. This might indicate that there are\n",
              "strong multicollinearity or other numerical problems.\n",
              "\"\"\""
            ]
          },
          "metadata": {
            "tags": []
          },
          "execution_count": 319
        }
      ]
    },
    {
      "cell_type": "code",
      "metadata": {
        "id": "hFC28IywbvSO"
      },
      "source": [
        "x = x.drop(columns= 'trans_month')"
      ],
      "execution_count": null,
      "outputs": []
    },
    {
      "cell_type": "code",
      "metadata": {
        "id": "_4e5LFy0b4vN",
        "colab": {
          "base_uri": "https://localhost:8080/",
          "height": 756
        },
        "outputId": "9c86c576-d9f8-4c8c-8f05-229ff4e194bc"
      },
      "source": [
        "selc = sm.OLS(y,x).fit()\n",
        "selc.summary()"
      ],
      "execution_count": null,
      "outputs": [
        {
          "output_type": "execute_result",
          "data": {
            "text/html": [
              "<table class=\"simpletable\">\n",
              "<caption>OLS Regression Results</caption>\n",
              "<tr>\n",
              "  <th>Dep. Variable:</th>    <td>total_amount_withdrawn</td> <th>  R-squared (uncentered):</th>      <td>   0.874</td> \n",
              "</tr>\n",
              "<tr>\n",
              "  <th>Model:</th>                      <td>OLS</td>          <th>  Adj. R-squared (uncentered):</th> <td>   0.873</td> \n",
              "</tr>\n",
              "<tr>\n",
              "  <th>Method:</th>                <td>Least Squares</td>     <th>  F-statistic:       </th>          <td>   964.7</td> \n",
              "</tr>\n",
              "<tr>\n",
              "  <th>Date:</th>                <td>Wed, 23 Sep 2020</td>    <th>  Prob (F-statistic):</th>           <td>  0.00</td>  \n",
              "</tr>\n",
              "<tr>\n",
              "  <th>Time:</th>                    <td>16:53:22</td>        <th>  Log-Likelihood:    </th>          <td> -30574.</td> \n",
              "</tr>\n",
              "<tr>\n",
              "  <th>No. Observations:</th>         <td>  2241</td>         <th>  AIC:               </th>          <td>6.118e+04</td>\n",
              "</tr>\n",
              "<tr>\n",
              "  <th>Df Residuals:</th>             <td>  2225</td>         <th>  BIC:               </th>          <td>6.127e+04</td>\n",
              "</tr>\n",
              "<tr>\n",
              "  <th>Df Model:</th>                 <td>    16</td>         <th>                     </th>              <td> </td>    \n",
              "</tr>\n",
              "<tr>\n",
              "  <th>Covariance Type:</th>         <td>nonrobust</td>       <th>                     </th>              <td> </td>    \n",
              "</tr>\n",
              "</table>\n",
              "<table class=\"simpletable\">\n",
              "<tr>\n",
              "            <td></td>               <th>coef</th>     <th>std err</th>      <th>t</th>      <th>P>|t|</th>  <th>[0.025</th>    <th>0.975]</th>  \n",
              "</tr>\n",
              "<tr>\n",
              "  <th>trans_date_set</th>        <td>-2.957e+04</td> <td> 2488.225</td> <td>  -11.884</td> <td> 0.000</td> <td>-3.44e+04</td> <td>-2.47e+04</td>\n",
              "</tr>\n",
              "<tr>\n",
              "  <th>trans_year</th>            <td>   79.5918</td> <td>   26.784</td> <td>    2.972</td> <td> 0.003</td> <td>   27.068</td> <td>  132.115</td>\n",
              "</tr>\n",
              "<tr>\n",
              "  <th>prevweek_mean</th>         <td>    0.6458</td> <td>    0.023</td> <td>   28.502</td> <td> 0.000</td> <td>    0.601</td> <td>    0.690</td>\n",
              "</tr>\n",
              "<tr>\n",
              "  <th>weekday_MONDAY</th>        <td> 5.453e+04</td> <td> 3.36e+04</td> <td>    1.625</td> <td> 0.104</td> <td>-1.13e+04</td> <td>  1.2e+05</td>\n",
              "</tr>\n",
              "<tr>\n",
              "  <th>weekday_SATURDAY</th>      <td> 1.807e+05</td> <td> 3.75e+04</td> <td>    4.824</td> <td> 0.000</td> <td> 1.07e+05</td> <td> 2.54e+05</td>\n",
              "</tr>\n",
              "<tr>\n",
              "  <th>weekday_SUNDAY</th>        <td>  2.26e+04</td> <td> 4.58e+04</td> <td>    0.494</td> <td> 0.621</td> <td>-6.71e+04</td> <td> 1.12e+05</td>\n",
              "</tr>\n",
              "<tr>\n",
              "  <th>weekday_THURSDAY</th>      <td> 1.977e+04</td> <td> 2.71e+04</td> <td>    0.731</td> <td> 0.465</td> <td>-3.33e+04</td> <td> 7.28e+04</td>\n",
              "</tr>\n",
              "<tr>\n",
              "  <th>weekday_TUESDAY</th>       <td> 1.433e+04</td> <td> 2.72e+04</td> <td>    0.527</td> <td> 0.598</td> <td> -3.9e+04</td> <td> 6.76e+04</td>\n",
              "</tr>\n",
              "<tr>\n",
              "  <th>weekday_WEDNESDAY</th>     <td>  2.83e+04</td> <td> 2.69e+04</td> <td>    1.051</td> <td> 0.294</td> <td>-2.45e+04</td> <td> 8.11e+04</td>\n",
              "</tr>\n",
              "<tr>\n",
              "  <th>festival_religion_H</th>   <td>-1.024e+05</td> <td> 5.25e+04</td> <td>   -1.952</td> <td> 0.051</td> <td>-2.05e+05</td> <td>  494.812</td>\n",
              "</tr>\n",
              "<tr>\n",
              "  <th>festival_religion_M</th>   <td> 3.315e+04</td> <td> 5.73e+04</td> <td>    0.578</td> <td> 0.563</td> <td>-7.92e+04</td> <td> 1.46e+05</td>\n",
              "</tr>\n",
              "<tr>\n",
              "  <th>festival_religion_N</th>   <td> 1.978e+04</td> <td> 5.66e+04</td> <td>    0.349</td> <td> 0.727</td> <td>-9.13e+04</td> <td> 1.31e+05</td>\n",
              "</tr>\n",
              "<tr>\n",
              "  <th>festival_religion_NH</th>  <td> 9787.6720</td> <td> 5.14e+04</td> <td>    0.191</td> <td> 0.849</td> <td>-9.09e+04</td> <td> 1.11e+05</td>\n",
              "</tr>\n",
              "<tr>\n",
              "  <th>working_day_W</th>         <td> 7.934e+04</td> <td> 3.49e+04</td> <td>    2.272</td> <td> 0.023</td> <td> 1.09e+04</td> <td> 1.48e+05</td>\n",
              "</tr>\n",
              "<tr>\n",
              "  <th>previousday_holiday_W</th> <td> 2.645e+04</td> <td> 2.21e+04</td> <td>    1.198</td> <td> 0.231</td> <td>-1.68e+04</td> <td> 6.97e+04</td>\n",
              "</tr>\n",
              "<tr>\n",
              "  <th>nextday_holiday_W</th>     <td> 1.948e+04</td> <td> 2.24e+04</td> <td>    0.870</td> <td> 0.385</td> <td>-2.44e+04</td> <td> 6.34e+04</td>\n",
              "</tr>\n",
              "</table>\n",
              "<table class=\"simpletable\">\n",
              "<tr>\n",
              "  <th>Omnibus:</th>       <td>40.566</td> <th>  Durbin-Watson:     </th> <td>   1.265</td>\n",
              "</tr>\n",
              "<tr>\n",
              "  <th>Prob(Omnibus):</th> <td> 0.000</td> <th>  Jarque-Bera (JB):  </th> <td>  49.087</td>\n",
              "</tr>\n",
              "<tr>\n",
              "  <th>Skew:</th>          <td> 0.256</td> <th>  Prob(JB):          </th> <td>2.19e-11</td>\n",
              "</tr>\n",
              "<tr>\n",
              "  <th>Kurtosis:</th>      <td> 3.512</td> <th>  Cond. No.          </th> <td>1.23e+07</td>\n",
              "</tr>\n",
              "</table><br/><br/>Notes:<br/>[1] R² is computed without centering (uncentered) since the model does not contain a constant.<br/>[2] Standard Errors assume that the covariance matrix of the errors is correctly specified.<br/>[3] The condition number is large, 1.23e+07. This might indicate that there are<br/>strong multicollinearity or other numerical problems."
            ],
            "text/plain": [
              "<class 'statsmodels.iolib.summary.Summary'>\n",
              "\"\"\"\n",
              "                                   OLS Regression Results                                  \n",
              "===========================================================================================\n",
              "Dep. Variable:     total_amount_withdrawn   R-squared (uncentered):                   0.874\n",
              "Model:                                OLS   Adj. R-squared (uncentered):              0.873\n",
              "Method:                     Least Squares   F-statistic:                              964.7\n",
              "Date:                    Wed, 23 Sep 2020   Prob (F-statistic):                        0.00\n",
              "Time:                            16:53:22   Log-Likelihood:                         -30574.\n",
              "No. Observations:                    2241   AIC:                                  6.118e+04\n",
              "Df Residuals:                        2225   BIC:                                  6.127e+04\n",
              "Df Model:                              16                                                  \n",
              "Covariance Type:                nonrobust                                                  \n",
              "=========================================================================================\n",
              "                            coef    std err          t      P>|t|      [0.025      0.975]\n",
              "-----------------------------------------------------------------------------------------\n",
              "trans_date_set        -2.957e+04   2488.225    -11.884      0.000   -3.44e+04   -2.47e+04\n",
              "trans_year               79.5918     26.784      2.972      0.003      27.068     132.115\n",
              "prevweek_mean             0.6458      0.023     28.502      0.000       0.601       0.690\n",
              "weekday_MONDAY         5.453e+04   3.36e+04      1.625      0.104   -1.13e+04     1.2e+05\n",
              "weekday_SATURDAY       1.807e+05   3.75e+04      4.824      0.000    1.07e+05    2.54e+05\n",
              "weekday_SUNDAY          2.26e+04   4.58e+04      0.494      0.621   -6.71e+04    1.12e+05\n",
              "weekday_THURSDAY       1.977e+04   2.71e+04      0.731      0.465   -3.33e+04    7.28e+04\n",
              "weekday_TUESDAY        1.433e+04   2.72e+04      0.527      0.598    -3.9e+04    6.76e+04\n",
              "weekday_WEDNESDAY       2.83e+04   2.69e+04      1.051      0.294   -2.45e+04    8.11e+04\n",
              "festival_religion_H   -1.024e+05   5.25e+04     -1.952      0.051   -2.05e+05     494.812\n",
              "festival_religion_M    3.315e+04   5.73e+04      0.578      0.563   -7.92e+04    1.46e+05\n",
              "festival_religion_N    1.978e+04   5.66e+04      0.349      0.727   -9.13e+04    1.31e+05\n",
              "festival_religion_NH   9787.6720   5.14e+04      0.191      0.849   -9.09e+04    1.11e+05\n",
              "working_day_W          7.934e+04   3.49e+04      2.272      0.023    1.09e+04    1.48e+05\n",
              "previousday_holiday_W  2.645e+04   2.21e+04      1.198      0.231   -1.68e+04    6.97e+04\n",
              "nextday_holiday_W      1.948e+04   2.24e+04      0.870      0.385   -2.44e+04    6.34e+04\n",
              "==============================================================================\n",
              "Omnibus:                       40.566   Durbin-Watson:                   1.265\n",
              "Prob(Omnibus):                  0.000   Jarque-Bera (JB):               49.087\n",
              "Skew:                           0.256   Prob(JB):                     2.19e-11\n",
              "Kurtosis:                       3.512   Cond. No.                     1.23e+07\n",
              "==============================================================================\n",
              "\n",
              "Notes:\n",
              "[1] R² is computed without centering (uncentered) since the model does not contain a constant.\n",
              "[2] Standard Errors assume that the covariance matrix of the errors is correctly specified.\n",
              "[3] The condition number is large, 1.23e+07. This might indicate that there are\n",
              "strong multicollinearity or other numerical problems.\n",
              "\"\"\""
            ]
          },
          "metadata": {
            "tags": []
          },
          "execution_count": 321
        }
      ]
    },
    {
      "cell_type": "code",
      "metadata": {
        "id": "PU_NgrCzb93P"
      },
      "source": [
        "x = x.drop(columns= 'festival_religion_NH')"
      ],
      "execution_count": null,
      "outputs": []
    },
    {
      "cell_type": "code",
      "metadata": {
        "id": "jOXD44pYcJHv",
        "colab": {
          "base_uri": "https://localhost:8080/",
          "height": 736
        },
        "outputId": "5089bd12-131e-445b-db54-c3920c0a713b"
      },
      "source": [
        "selc = sm.OLS(y,x).fit()\n",
        "selc.summary()"
      ],
      "execution_count": null,
      "outputs": [
        {
          "output_type": "execute_result",
          "data": {
            "text/html": [
              "<table class=\"simpletable\">\n",
              "<caption>OLS Regression Results</caption>\n",
              "<tr>\n",
              "  <th>Dep. Variable:</th>    <td>total_amount_withdrawn</td> <th>  R-squared (uncentered):</th>      <td>   0.874</td> \n",
              "</tr>\n",
              "<tr>\n",
              "  <th>Model:</th>                      <td>OLS</td>          <th>  Adj. R-squared (uncentered):</th> <td>   0.873</td> \n",
              "</tr>\n",
              "<tr>\n",
              "  <th>Method:</th>                <td>Least Squares</td>     <th>  F-statistic:       </th>          <td>   1029.</td> \n",
              "</tr>\n",
              "<tr>\n",
              "  <th>Date:</th>                <td>Wed, 23 Sep 2020</td>    <th>  Prob (F-statistic):</th>           <td>  0.00</td>  \n",
              "</tr>\n",
              "<tr>\n",
              "  <th>Time:</th>                    <td>16:53:22</td>        <th>  Log-Likelihood:    </th>          <td> -30574.</td> \n",
              "</tr>\n",
              "<tr>\n",
              "  <th>No. Observations:</th>         <td>  2241</td>         <th>  AIC:               </th>          <td>6.118e+04</td>\n",
              "</tr>\n",
              "<tr>\n",
              "  <th>Df Residuals:</th>             <td>  2226</td>         <th>  BIC:               </th>          <td>6.126e+04</td>\n",
              "</tr>\n",
              "<tr>\n",
              "  <th>Df Model:</th>                 <td>    15</td>         <th>                     </th>              <td> </td>    \n",
              "</tr>\n",
              "<tr>\n",
              "  <th>Covariance Type:</th>         <td>nonrobust</td>       <th>                     </th>              <td> </td>    \n",
              "</tr>\n",
              "</table>\n",
              "<table class=\"simpletable\">\n",
              "<tr>\n",
              "            <td></td>               <th>coef</th>     <th>std err</th>      <th>t</th>      <th>P>|t|</th>  <th>[0.025</th>    <th>0.975]</th>  \n",
              "</tr>\n",
              "<tr>\n",
              "  <th>trans_date_set</th>        <td>-2.955e+04</td> <td> 2484.882</td> <td>  -11.891</td> <td> 0.000</td> <td>-3.44e+04</td> <td>-2.47e+04</td>\n",
              "</tr>\n",
              "<tr>\n",
              "  <th>trans_year</th>            <td>   82.9008</td> <td>   20.389</td> <td>    4.066</td> <td> 0.000</td> <td>   42.917</td> <td>  122.885</td>\n",
              "</tr>\n",
              "<tr>\n",
              "  <th>prevweek_mean</th>         <td>    0.6458</td> <td>    0.023</td> <td>   28.509</td> <td> 0.000</td> <td>    0.601</td> <td>    0.690</td>\n",
              "</tr>\n",
              "<tr>\n",
              "  <th>weekday_MONDAY</th>        <td>  5.48e+04</td> <td> 3.35e+04</td> <td>    1.635</td> <td> 0.102</td> <td>-1.09e+04</td> <td> 1.21e+05</td>\n",
              "</tr>\n",
              "<tr>\n",
              "  <th>weekday_SATURDAY</th>      <td> 1.836e+05</td> <td> 3.41e+04</td> <td>    5.386</td> <td> 0.000</td> <td> 1.17e+05</td> <td> 2.51e+05</td>\n",
              "</tr>\n",
              "<tr>\n",
              "  <th>weekday_SUNDAY</th>        <td> 2.547e+04</td> <td> 4.32e+04</td> <td>    0.589</td> <td> 0.556</td> <td>-5.93e+04</td> <td>  1.1e+05</td>\n",
              "</tr>\n",
              "<tr>\n",
              "  <th>weekday_THURSDAY</th>      <td> 1.992e+04</td> <td>  2.7e+04</td> <td>    0.737</td> <td> 0.461</td> <td>-3.31e+04</td> <td> 7.29e+04</td>\n",
              "</tr>\n",
              "<tr>\n",
              "  <th>weekday_TUESDAY</th>       <td> 1.444e+04</td> <td> 2.72e+04</td> <td>    0.531</td> <td> 0.595</td> <td>-3.88e+04</td> <td> 6.77e+04</td>\n",
              "</tr>\n",
              "<tr>\n",
              "  <th>weekday_WEDNESDAY</th>     <td> 2.848e+04</td> <td> 2.69e+04</td> <td>    1.059</td> <td> 0.290</td> <td>-2.43e+04</td> <td> 8.12e+04</td>\n",
              "</tr>\n",
              "<tr>\n",
              "  <th>festival_religion_H</th>   <td>-1.099e+05</td> <td> 3.47e+04</td> <td>   -3.169</td> <td> 0.002</td> <td>-1.78e+05</td> <td>-4.19e+04</td>\n",
              "</tr>\n",
              "<tr>\n",
              "  <th>festival_religion_M</th>   <td>   2.5e+04</td> <td> 3.81e+04</td> <td>    0.656</td> <td> 0.512</td> <td>-4.98e+04</td> <td> 9.98e+04</td>\n",
              "</tr>\n",
              "<tr>\n",
              "  <th>festival_religion_N</th>   <td> 1.245e+04</td> <td> 4.16e+04</td> <td>    0.299</td> <td> 0.765</td> <td>-6.91e+04</td> <td>  9.4e+04</td>\n",
              "</tr>\n",
              "<tr>\n",
              "  <th>working_day_W</th>         <td> 8.227e+04</td> <td> 3.13e+04</td> <td>    2.625</td> <td> 0.009</td> <td> 2.08e+04</td> <td> 1.44e+05</td>\n",
              "</tr>\n",
              "<tr>\n",
              "  <th>previousday_holiday_W</th> <td> 2.646e+04</td> <td> 2.21e+04</td> <td>    1.199</td> <td> 0.231</td> <td>-1.68e+04</td> <td> 6.97e+04</td>\n",
              "</tr>\n",
              "<tr>\n",
              "  <th>nextday_holiday_W</th>     <td> 1.941e+04</td> <td> 2.24e+04</td> <td>    0.867</td> <td> 0.386</td> <td>-2.45e+04</td> <td> 6.33e+04</td>\n",
              "</tr>\n",
              "</table>\n",
              "<table class=\"simpletable\">\n",
              "<tr>\n",
              "  <th>Omnibus:</th>       <td>40.731</td> <th>  Durbin-Watson:     </th> <td>   1.266</td>\n",
              "</tr>\n",
              "<tr>\n",
              "  <th>Prob(Omnibus):</th> <td> 0.000</td> <th>  Jarque-Bera (JB):  </th> <td>  49.305</td>\n",
              "</tr>\n",
              "<tr>\n",
              "  <th>Skew:</th>          <td> 0.257</td> <th>  Prob(JB):          </th> <td>1.97e-11</td>\n",
              "</tr>\n",
              "<tr>\n",
              "  <th>Kurtosis:</th>      <td> 3.514</td> <th>  Cond. No.          </th> <td>9.16e+06</td>\n",
              "</tr>\n",
              "</table><br/><br/>Notes:<br/>[1] R² is computed without centering (uncentered) since the model does not contain a constant.<br/>[2] Standard Errors assume that the covariance matrix of the errors is correctly specified.<br/>[3] The condition number is large, 9.16e+06. This might indicate that there are<br/>strong multicollinearity or other numerical problems."
            ],
            "text/plain": [
              "<class 'statsmodels.iolib.summary.Summary'>\n",
              "\"\"\"\n",
              "                                   OLS Regression Results                                  \n",
              "===========================================================================================\n",
              "Dep. Variable:     total_amount_withdrawn   R-squared (uncentered):                   0.874\n",
              "Model:                                OLS   Adj. R-squared (uncentered):              0.873\n",
              "Method:                     Least Squares   F-statistic:                              1029.\n",
              "Date:                    Wed, 23 Sep 2020   Prob (F-statistic):                        0.00\n",
              "Time:                            16:53:22   Log-Likelihood:                         -30574.\n",
              "No. Observations:                    2241   AIC:                                  6.118e+04\n",
              "Df Residuals:                        2226   BIC:                                  6.126e+04\n",
              "Df Model:                              15                                                  \n",
              "Covariance Type:                nonrobust                                                  \n",
              "=========================================================================================\n",
              "                            coef    std err          t      P>|t|      [0.025      0.975]\n",
              "-----------------------------------------------------------------------------------------\n",
              "trans_date_set        -2.955e+04   2484.882    -11.891      0.000   -3.44e+04   -2.47e+04\n",
              "trans_year               82.9008     20.389      4.066      0.000      42.917     122.885\n",
              "prevweek_mean             0.6458      0.023     28.509      0.000       0.601       0.690\n",
              "weekday_MONDAY          5.48e+04   3.35e+04      1.635      0.102   -1.09e+04    1.21e+05\n",
              "weekday_SATURDAY       1.836e+05   3.41e+04      5.386      0.000    1.17e+05    2.51e+05\n",
              "weekday_SUNDAY         2.547e+04   4.32e+04      0.589      0.556   -5.93e+04     1.1e+05\n",
              "weekday_THURSDAY       1.992e+04    2.7e+04      0.737      0.461   -3.31e+04    7.29e+04\n",
              "weekday_TUESDAY        1.444e+04   2.72e+04      0.531      0.595   -3.88e+04    6.77e+04\n",
              "weekday_WEDNESDAY      2.848e+04   2.69e+04      1.059      0.290   -2.43e+04    8.12e+04\n",
              "festival_religion_H   -1.099e+05   3.47e+04     -3.169      0.002   -1.78e+05   -4.19e+04\n",
              "festival_religion_M      2.5e+04   3.81e+04      0.656      0.512   -4.98e+04    9.98e+04\n",
              "festival_religion_N    1.245e+04   4.16e+04      0.299      0.765   -6.91e+04     9.4e+04\n",
              "working_day_W          8.227e+04   3.13e+04      2.625      0.009    2.08e+04    1.44e+05\n",
              "previousday_holiday_W  2.646e+04   2.21e+04      1.199      0.231   -1.68e+04    6.97e+04\n",
              "nextday_holiday_W      1.941e+04   2.24e+04      0.867      0.386   -2.45e+04    6.33e+04\n",
              "==============================================================================\n",
              "Omnibus:                       40.731   Durbin-Watson:                   1.266\n",
              "Prob(Omnibus):                  0.000   Jarque-Bera (JB):               49.305\n",
              "Skew:                           0.257   Prob(JB):                     1.97e-11\n",
              "Kurtosis:                       3.514   Cond. No.                     9.16e+06\n",
              "==============================================================================\n",
              "\n",
              "Notes:\n",
              "[1] R² is computed without centering (uncentered) since the model does not contain a constant.\n",
              "[2] Standard Errors assume that the covariance matrix of the errors is correctly specified.\n",
              "[3] The condition number is large, 9.16e+06. This might indicate that there are\n",
              "strong multicollinearity or other numerical problems.\n",
              "\"\"\""
            ]
          },
          "metadata": {
            "tags": []
          },
          "execution_count": 323
        }
      ]
    },
    {
      "cell_type": "code",
      "metadata": {
        "id": "JMDphXGycRFP"
      },
      "source": [
        "x = x.drop(columns= 'festival_religion_N')"
      ],
      "execution_count": null,
      "outputs": []
    },
    {
      "cell_type": "code",
      "metadata": {
        "id": "bs93QDFlcTJv",
        "colab": {
          "base_uri": "https://localhost:8080/",
          "height": 716
        },
        "outputId": "4848af58-3aea-4b83-b3b9-16dd3dd9be9b"
      },
      "source": [
        "selc = sm.OLS(y,x).fit()\n",
        "selc.summary()"
      ],
      "execution_count": null,
      "outputs": [
        {
          "output_type": "execute_result",
          "data": {
            "text/html": [
              "<table class=\"simpletable\">\n",
              "<caption>OLS Regression Results</caption>\n",
              "<tr>\n",
              "  <th>Dep. Variable:</th>    <td>total_amount_withdrawn</td> <th>  R-squared (uncentered):</th>      <td>   0.874</td> \n",
              "</tr>\n",
              "<tr>\n",
              "  <th>Model:</th>                      <td>OLS</td>          <th>  Adj. R-squared (uncentered):</th> <td>   0.873</td> \n",
              "</tr>\n",
              "<tr>\n",
              "  <th>Method:</th>                <td>Least Squares</td>     <th>  F-statistic:       </th>          <td>   1103.</td> \n",
              "</tr>\n",
              "<tr>\n",
              "  <th>Date:</th>                <td>Wed, 23 Sep 2020</td>    <th>  Prob (F-statistic):</th>           <td>  0.00</td>  \n",
              "</tr>\n",
              "<tr>\n",
              "  <th>Time:</th>                    <td>16:53:22</td>        <th>  Log-Likelihood:    </th>          <td> -30574.</td> \n",
              "</tr>\n",
              "<tr>\n",
              "  <th>No. Observations:</th>         <td>  2241</td>         <th>  AIC:               </th>          <td>6.118e+04</td>\n",
              "</tr>\n",
              "<tr>\n",
              "  <th>Df Residuals:</th>             <td>  2227</td>         <th>  BIC:               </th>          <td>6.126e+04</td>\n",
              "</tr>\n",
              "<tr>\n",
              "  <th>Df Model:</th>                 <td>    14</td>         <th>                     </th>              <td> </td>    \n",
              "</tr>\n",
              "<tr>\n",
              "  <th>Covariance Type:</th>         <td>nonrobust</td>       <th>                     </th>              <td> </td>    \n",
              "</tr>\n",
              "</table>\n",
              "<table class=\"simpletable\">\n",
              "<tr>\n",
              "            <td></td>               <th>coef</th>     <th>std err</th>      <th>t</th>      <th>P>|t|</th>  <th>[0.025</th>    <th>0.975]</th>  \n",
              "</tr>\n",
              "<tr>\n",
              "  <th>trans_date_set</th>        <td> -2.96e+04</td> <td> 2478.112</td> <td>  -11.944</td> <td> 0.000</td> <td>-3.45e+04</td> <td>-2.47e+04</td>\n",
              "</tr>\n",
              "<tr>\n",
              "  <th>trans_year</th>            <td>   85.7849</td> <td>   17.968</td> <td>    4.774</td> <td> 0.000</td> <td>   50.549</td> <td>  121.021</td>\n",
              "</tr>\n",
              "<tr>\n",
              "  <th>prevweek_mean</th>         <td>    0.6456</td> <td>    0.023</td> <td>   28.521</td> <td> 0.000</td> <td>    0.601</td> <td>    0.690</td>\n",
              "</tr>\n",
              "<tr>\n",
              "  <th>weekday_MONDAY</th>        <td>  5.48e+04</td> <td> 3.35e+04</td> <td>    1.635</td> <td> 0.102</td> <td>-1.09e+04</td> <td> 1.21e+05</td>\n",
              "</tr>\n",
              "<tr>\n",
              "  <th>weekday_SATURDAY</th>      <td> 1.782e+05</td> <td> 2.88e+04</td> <td>    6.178</td> <td> 0.000</td> <td> 1.22e+05</td> <td> 2.35e+05</td>\n",
              "</tr>\n",
              "<tr>\n",
              "  <th>weekday_SUNDAY</th>        <td> 2.018e+04</td> <td> 3.94e+04</td> <td>    0.512</td> <td> 0.609</td> <td>-5.71e+04</td> <td> 9.75e+04</td>\n",
              "</tr>\n",
              "<tr>\n",
              "  <th>weekday_THURSDAY</th>      <td> 1.996e+04</td> <td>  2.7e+04</td> <td>    0.739</td> <td> 0.460</td> <td> -3.3e+04</td> <td>  7.3e+04</td>\n",
              "</tr>\n",
              "<tr>\n",
              "  <th>weekday_TUESDAY</th>       <td> 1.438e+04</td> <td> 2.72e+04</td> <td>    0.529</td> <td> 0.597</td> <td>-3.89e+04</td> <td> 6.77e+04</td>\n",
              "</tr>\n",
              "<tr>\n",
              "  <th>weekday_WEDNESDAY</th>     <td> 2.853e+04</td> <td> 2.69e+04</td> <td>    1.061</td> <td> 0.289</td> <td>-2.42e+04</td> <td> 8.13e+04</td>\n",
              "</tr>\n",
              "<tr>\n",
              "  <th>festival_religion_H</th>   <td>-1.143e+05</td> <td> 3.15e+04</td> <td>   -3.630</td> <td> 0.000</td> <td>-1.76e+05</td> <td>-5.25e+04</td>\n",
              "</tr>\n",
              "<tr>\n",
              "  <th>festival_religion_M</th>   <td> 2.191e+04</td> <td> 3.67e+04</td> <td>    0.597</td> <td> 0.550</td> <td>   -5e+04</td> <td> 9.39e+04</td>\n",
              "</tr>\n",
              "<tr>\n",
              "  <th>working_day_W</th>         <td> 7.661e+04</td> <td>  2.5e+04</td> <td>    3.065</td> <td> 0.002</td> <td> 2.76e+04</td> <td> 1.26e+05</td>\n",
              "</tr>\n",
              "<tr>\n",
              "  <th>previousday_holiday_W</th> <td>  2.66e+04</td> <td> 2.21e+04</td> <td>    1.206</td> <td> 0.228</td> <td>-1.67e+04</td> <td> 6.99e+04</td>\n",
              "</tr>\n",
              "<tr>\n",
              "  <th>nextday_holiday_W</th>     <td> 1.948e+04</td> <td> 2.24e+04</td> <td>    0.870</td> <td> 0.384</td> <td>-2.44e+04</td> <td> 6.34e+04</td>\n",
              "</tr>\n",
              "</table>\n",
              "<table class=\"simpletable\">\n",
              "<tr>\n",
              "  <th>Omnibus:</th>       <td>40.661</td> <th>  Durbin-Watson:     </th> <td>   1.266</td>\n",
              "</tr>\n",
              "<tr>\n",
              "  <th>Prob(Omnibus):</th> <td> 0.000</td> <th>  Jarque-Bera (JB):  </th> <td>  49.158</td>\n",
              "</tr>\n",
              "<tr>\n",
              "  <th>Skew:</th>          <td> 0.257</td> <th>  Prob(JB):          </th> <td>2.12e-11</td>\n",
              "</tr>\n",
              "<tr>\n",
              "  <th>Kurtosis:</th>      <td> 3.512</td> <th>  Cond. No.          </th> <td>8.14e+06</td>\n",
              "</tr>\n",
              "</table><br/><br/>Notes:<br/>[1] R² is computed without centering (uncentered) since the model does not contain a constant.<br/>[2] Standard Errors assume that the covariance matrix of the errors is correctly specified.<br/>[3] The condition number is large, 8.14e+06. This might indicate that there are<br/>strong multicollinearity or other numerical problems."
            ],
            "text/plain": [
              "<class 'statsmodels.iolib.summary.Summary'>\n",
              "\"\"\"\n",
              "                                   OLS Regression Results                                  \n",
              "===========================================================================================\n",
              "Dep. Variable:     total_amount_withdrawn   R-squared (uncentered):                   0.874\n",
              "Model:                                OLS   Adj. R-squared (uncentered):              0.873\n",
              "Method:                     Least Squares   F-statistic:                              1103.\n",
              "Date:                    Wed, 23 Sep 2020   Prob (F-statistic):                        0.00\n",
              "Time:                            16:53:22   Log-Likelihood:                         -30574.\n",
              "No. Observations:                    2241   AIC:                                  6.118e+04\n",
              "Df Residuals:                        2227   BIC:                                  6.126e+04\n",
              "Df Model:                              14                                                  \n",
              "Covariance Type:                nonrobust                                                  \n",
              "=========================================================================================\n",
              "                            coef    std err          t      P>|t|      [0.025      0.975]\n",
              "-----------------------------------------------------------------------------------------\n",
              "trans_date_set         -2.96e+04   2478.112    -11.944      0.000   -3.45e+04   -2.47e+04\n",
              "trans_year               85.7849     17.968      4.774      0.000      50.549     121.021\n",
              "prevweek_mean             0.6456      0.023     28.521      0.000       0.601       0.690\n",
              "weekday_MONDAY          5.48e+04   3.35e+04      1.635      0.102   -1.09e+04    1.21e+05\n",
              "weekday_SATURDAY       1.782e+05   2.88e+04      6.178      0.000    1.22e+05    2.35e+05\n",
              "weekday_SUNDAY         2.018e+04   3.94e+04      0.512      0.609   -5.71e+04    9.75e+04\n",
              "weekday_THURSDAY       1.996e+04    2.7e+04      0.739      0.460    -3.3e+04     7.3e+04\n",
              "weekday_TUESDAY        1.438e+04   2.72e+04      0.529      0.597   -3.89e+04    6.77e+04\n",
              "weekday_WEDNESDAY      2.853e+04   2.69e+04      1.061      0.289   -2.42e+04    8.13e+04\n",
              "festival_religion_H   -1.143e+05   3.15e+04     -3.630      0.000   -1.76e+05   -5.25e+04\n",
              "festival_religion_M    2.191e+04   3.67e+04      0.597      0.550      -5e+04    9.39e+04\n",
              "working_day_W          7.661e+04    2.5e+04      3.065      0.002    2.76e+04    1.26e+05\n",
              "previousday_holiday_W   2.66e+04   2.21e+04      1.206      0.228   -1.67e+04    6.99e+04\n",
              "nextday_holiday_W      1.948e+04   2.24e+04      0.870      0.384   -2.44e+04    6.34e+04\n",
              "==============================================================================\n",
              "Omnibus:                       40.661   Durbin-Watson:                   1.266\n",
              "Prob(Omnibus):                  0.000   Jarque-Bera (JB):               49.158\n",
              "Skew:                           0.257   Prob(JB):                     2.12e-11\n",
              "Kurtosis:                       3.512   Cond. No.                     8.14e+06\n",
              "==============================================================================\n",
              "\n",
              "Notes:\n",
              "[1] R² is computed without centering (uncentered) since the model does not contain a constant.\n",
              "[2] Standard Errors assume that the covariance matrix of the errors is correctly specified.\n",
              "[3] The condition number is large, 8.14e+06. This might indicate that there are\n",
              "strong multicollinearity or other numerical problems.\n",
              "\"\"\""
            ]
          },
          "metadata": {
            "tags": []
          },
          "execution_count": 325
        }
      ]
    },
    {
      "cell_type": "code",
      "metadata": {
        "id": "EreJgpm9ciNc"
      },
      "source": [
        "x = x.drop(columns= 'weekday_SUNDAY')"
      ],
      "execution_count": null,
      "outputs": []
    },
    {
      "cell_type": "code",
      "metadata": {
        "id": "1mth16PfchAf",
        "colab": {
          "base_uri": "https://localhost:8080/",
          "height": 696
        },
        "outputId": "4e1d1bc4-3a1e-4e78-a486-005f71957bb6"
      },
      "source": [
        "selc = sm.OLS(y,x).fit()\n",
        "selc.summary()"
      ],
      "execution_count": null,
      "outputs": [
        {
          "output_type": "execute_result",
          "data": {
            "text/html": [
              "<table class=\"simpletable\">\n",
              "<caption>OLS Regression Results</caption>\n",
              "<tr>\n",
              "  <th>Dep. Variable:</th>    <td>total_amount_withdrawn</td> <th>  R-squared (uncentered):</th>      <td>   0.874</td> \n",
              "</tr>\n",
              "<tr>\n",
              "  <th>Model:</th>                      <td>OLS</td>          <th>  Adj. R-squared (uncentered):</th> <td>   0.873</td> \n",
              "</tr>\n",
              "<tr>\n",
              "  <th>Method:</th>                <td>Least Squares</td>     <th>  F-statistic:       </th>          <td>   1189.</td> \n",
              "</tr>\n",
              "<tr>\n",
              "  <th>Date:</th>                <td>Wed, 23 Sep 2020</td>    <th>  Prob (F-statistic):</th>           <td>  0.00</td>  \n",
              "</tr>\n",
              "<tr>\n",
              "  <th>Time:</th>                    <td>16:53:22</td>        <th>  Log-Likelihood:    </th>          <td> -30574.</td> \n",
              "</tr>\n",
              "<tr>\n",
              "  <th>No. Observations:</th>         <td>  2241</td>         <th>  AIC:               </th>          <td>6.117e+04</td>\n",
              "</tr>\n",
              "<tr>\n",
              "  <th>Df Residuals:</th>             <td>  2228</td>         <th>  BIC:               </th>          <td>6.125e+04</td>\n",
              "</tr>\n",
              "<tr>\n",
              "  <th>Df Model:</th>                 <td>    13</td>         <th>                     </th>              <td> </td>    \n",
              "</tr>\n",
              "<tr>\n",
              "  <th>Covariance Type:</th>         <td>nonrobust</td>       <th>                     </th>              <td> </td>    \n",
              "</tr>\n",
              "</table>\n",
              "<table class=\"simpletable\">\n",
              "<tr>\n",
              "            <td></td>               <th>coef</th>     <th>std err</th>      <th>t</th>      <th>P>|t|</th>  <th>[0.025</th>    <th>0.975]</th>  \n",
              "</tr>\n",
              "<tr>\n",
              "  <th>trans_date_set</th>        <td>-2.958e+04</td> <td> 2477.295</td> <td>  -11.939</td> <td> 0.000</td> <td>-3.44e+04</td> <td>-2.47e+04</td>\n",
              "</tr>\n",
              "<tr>\n",
              "  <th>trans_year</th>            <td>   92.3859</td> <td>   12.509</td> <td>    7.386</td> <td> 0.000</td> <td>   67.856</td> <td>  116.916</td>\n",
              "</tr>\n",
              "<tr>\n",
              "  <th>prevweek_mean</th>         <td>    0.6459</td> <td>    0.023</td> <td>   28.547</td> <td> 0.000</td> <td>    0.602</td> <td>    0.690</td>\n",
              "</tr>\n",
              "<tr>\n",
              "  <th>weekday_MONDAY</th>        <td> 4.237e+04</td> <td> 2.31e+04</td> <td>    1.834</td> <td> 0.067</td> <td>-2931.808</td> <td> 8.77e+04</td>\n",
              "</tr>\n",
              "<tr>\n",
              "  <th>weekday_SATURDAY</th>      <td> 1.697e+05</td> <td> 2.36e+04</td> <td>    7.201</td> <td> 0.000</td> <td> 1.23e+05</td> <td> 2.16e+05</td>\n",
              "</tr>\n",
              "<tr>\n",
              "  <th>weekday_THURSDAY</th>      <td> 1.254e+04</td> <td> 2.28e+04</td> <td>    0.550</td> <td> 0.582</td> <td>-3.22e+04</td> <td> 5.73e+04</td>\n",
              "</tr>\n",
              "<tr>\n",
              "  <th>weekday_TUESDAY</th>       <td> 6680.9845</td> <td> 2.26e+04</td> <td>    0.295</td> <td> 0.768</td> <td>-3.77e+04</td> <td>  5.1e+04</td>\n",
              "</tr>\n",
              "<tr>\n",
              "  <th>weekday_WEDNESDAY</th>     <td> 2.104e+04</td> <td> 2.26e+04</td> <td>    0.932</td> <td> 0.351</td> <td>-2.32e+04</td> <td> 6.53e+04</td>\n",
              "</tr>\n",
              "<tr>\n",
              "  <th>festival_religion_H</th>   <td>-1.194e+05</td> <td> 2.99e+04</td> <td>   -4.000</td> <td> 0.000</td> <td>-1.78e+05</td> <td>-6.09e+04</td>\n",
              "</tr>\n",
              "<tr>\n",
              "  <th>festival_religion_M</th>   <td> 1.835e+04</td> <td>  3.6e+04</td> <td>    0.510</td> <td> 0.610</td> <td>-5.23e+04</td> <td>  8.9e+04</td>\n",
              "</tr>\n",
              "<tr>\n",
              "  <th>working_day_W</th>         <td>  6.95e+04</td> <td> 2.08e+04</td> <td>    3.346</td> <td> 0.001</td> <td> 2.88e+04</td> <td>  1.1e+05</td>\n",
              "</tr>\n",
              "<tr>\n",
              "  <th>previousday_holiday_W</th> <td> 2.137e+04</td> <td> 1.95e+04</td> <td>    1.093</td> <td> 0.274</td> <td> -1.7e+04</td> <td> 5.97e+04</td>\n",
              "</tr>\n",
              "<tr>\n",
              "  <th>nextday_holiday_W</th>     <td> 2.549e+04</td> <td> 1.91e+04</td> <td>    1.338</td> <td> 0.181</td> <td>-1.19e+04</td> <td> 6.28e+04</td>\n",
              "</tr>\n",
              "</table>\n",
              "<table class=\"simpletable\">\n",
              "<tr>\n",
              "  <th>Omnibus:</th>       <td>40.683</td> <th>  Durbin-Watson:     </th> <td>   1.267</td>\n",
              "</tr>\n",
              "<tr>\n",
              "  <th>Prob(Omnibus):</th> <td> 0.000</td> <th>  Jarque-Bera (JB):  </th> <td>  49.178</td>\n",
              "</tr>\n",
              "<tr>\n",
              "  <th>Skew:</th>          <td> 0.257</td> <th>  Prob(JB):          </th> <td>2.10e-11</td>\n",
              "</tr>\n",
              "<tr>\n",
              "  <th>Kurtosis:</th>      <td> 3.512</td> <th>  Cond. No.          </th> <td>6.28e+06</td>\n",
              "</tr>\n",
              "</table><br/><br/>Notes:<br/>[1] R² is computed without centering (uncentered) since the model does not contain a constant.<br/>[2] Standard Errors assume that the covariance matrix of the errors is correctly specified.<br/>[3] The condition number is large, 6.28e+06. This might indicate that there are<br/>strong multicollinearity or other numerical problems."
            ],
            "text/plain": [
              "<class 'statsmodels.iolib.summary.Summary'>\n",
              "\"\"\"\n",
              "                                   OLS Regression Results                                  \n",
              "===========================================================================================\n",
              "Dep. Variable:     total_amount_withdrawn   R-squared (uncentered):                   0.874\n",
              "Model:                                OLS   Adj. R-squared (uncentered):              0.873\n",
              "Method:                     Least Squares   F-statistic:                              1189.\n",
              "Date:                    Wed, 23 Sep 2020   Prob (F-statistic):                        0.00\n",
              "Time:                            16:53:22   Log-Likelihood:                         -30574.\n",
              "No. Observations:                    2241   AIC:                                  6.117e+04\n",
              "Df Residuals:                        2228   BIC:                                  6.125e+04\n",
              "Df Model:                              13                                                  \n",
              "Covariance Type:                nonrobust                                                  \n",
              "=========================================================================================\n",
              "                            coef    std err          t      P>|t|      [0.025      0.975]\n",
              "-----------------------------------------------------------------------------------------\n",
              "trans_date_set        -2.958e+04   2477.295    -11.939      0.000   -3.44e+04   -2.47e+04\n",
              "trans_year               92.3859     12.509      7.386      0.000      67.856     116.916\n",
              "prevweek_mean             0.6459      0.023     28.547      0.000       0.602       0.690\n",
              "weekday_MONDAY         4.237e+04   2.31e+04      1.834      0.067   -2931.808    8.77e+04\n",
              "weekday_SATURDAY       1.697e+05   2.36e+04      7.201      0.000    1.23e+05    2.16e+05\n",
              "weekday_THURSDAY       1.254e+04   2.28e+04      0.550      0.582   -3.22e+04    5.73e+04\n",
              "weekday_TUESDAY        6680.9845   2.26e+04      0.295      0.768   -3.77e+04     5.1e+04\n",
              "weekday_WEDNESDAY      2.104e+04   2.26e+04      0.932      0.351   -2.32e+04    6.53e+04\n",
              "festival_religion_H   -1.194e+05   2.99e+04     -4.000      0.000   -1.78e+05   -6.09e+04\n",
              "festival_religion_M    1.835e+04    3.6e+04      0.510      0.610   -5.23e+04     8.9e+04\n",
              "working_day_W           6.95e+04   2.08e+04      3.346      0.001    2.88e+04     1.1e+05\n",
              "previousday_holiday_W  2.137e+04   1.95e+04      1.093      0.274    -1.7e+04    5.97e+04\n",
              "nextday_holiday_W      2.549e+04   1.91e+04      1.338      0.181   -1.19e+04    6.28e+04\n",
              "==============================================================================\n",
              "Omnibus:                       40.683   Durbin-Watson:                   1.267\n",
              "Prob(Omnibus):                  0.000   Jarque-Bera (JB):               49.178\n",
              "Skew:                           0.257   Prob(JB):                     2.10e-11\n",
              "Kurtosis:                       3.512   Cond. No.                     6.28e+06\n",
              "==============================================================================\n",
              "\n",
              "Notes:\n",
              "[1] R² is computed without centering (uncentered) since the model does not contain a constant.\n",
              "[2] Standard Errors assume that the covariance matrix of the errors is correctly specified.\n",
              "[3] The condition number is large, 6.28e+06. This might indicate that there are\n",
              "strong multicollinearity or other numerical problems.\n",
              "\"\"\""
            ]
          },
          "metadata": {
            "tags": []
          },
          "execution_count": 327
        }
      ]
    },
    {
      "cell_type": "code",
      "metadata": {
        "id": "T5zDiChUcxvF"
      },
      "source": [
        "x = x.drop(columns= 'weekday_TUESDAY')"
      ],
      "execution_count": null,
      "outputs": []
    },
    {
      "cell_type": "code",
      "metadata": {
        "id": "F69tU6jzc52o",
        "colab": {
          "base_uri": "https://localhost:8080/",
          "height": 676
        },
        "outputId": "92749cca-a952-4b5f-a7c6-9b3cceaa3884"
      },
      "source": [
        "selc = sm.OLS(y,x).fit()\n",
        "selc.summary()"
      ],
      "execution_count": null,
      "outputs": [
        {
          "output_type": "execute_result",
          "data": {
            "text/html": [
              "<table class=\"simpletable\">\n",
              "<caption>OLS Regression Results</caption>\n",
              "<tr>\n",
              "  <th>Dep. Variable:</th>    <td>total_amount_withdrawn</td> <th>  R-squared (uncentered):</th>      <td>   0.874</td> \n",
              "</tr>\n",
              "<tr>\n",
              "  <th>Model:</th>                      <td>OLS</td>          <th>  Adj. R-squared (uncentered):</th> <td>   0.873</td> \n",
              "</tr>\n",
              "<tr>\n",
              "  <th>Method:</th>                <td>Least Squares</td>     <th>  F-statistic:       </th>          <td>   1288.</td> \n",
              "</tr>\n",
              "<tr>\n",
              "  <th>Date:</th>                <td>Wed, 23 Sep 2020</td>    <th>  Prob (F-statistic):</th>           <td>  0.00</td>  \n",
              "</tr>\n",
              "<tr>\n",
              "  <th>Time:</th>                    <td>16:53:22</td>        <th>  Log-Likelihood:    </th>          <td> -30574.</td> \n",
              "</tr>\n",
              "<tr>\n",
              "  <th>No. Observations:</th>         <td>  2241</td>         <th>  AIC:               </th>          <td>6.117e+04</td>\n",
              "</tr>\n",
              "<tr>\n",
              "  <th>Df Residuals:</th>             <td>  2229</td>         <th>  BIC:               </th>          <td>6.124e+04</td>\n",
              "</tr>\n",
              "<tr>\n",
              "  <th>Df Model:</th>                 <td>    12</td>         <th>                     </th>              <td> </td>    \n",
              "</tr>\n",
              "<tr>\n",
              "  <th>Covariance Type:</th>         <td>nonrobust</td>       <th>                     </th>              <td> </td>    \n",
              "</tr>\n",
              "</table>\n",
              "<table class=\"simpletable\">\n",
              "<tr>\n",
              "            <td></td>               <th>coef</th>     <th>std err</th>      <th>t</th>      <th>P>|t|</th>  <th>[0.025</th>    <th>0.975]</th>  \n",
              "</tr>\n",
              "<tr>\n",
              "  <th>trans_date_set</th>        <td>-2.958e+04</td> <td> 2476.787</td> <td>  -11.942</td> <td> 0.000</td> <td>-3.44e+04</td> <td>-2.47e+04</td>\n",
              "</tr>\n",
              "<tr>\n",
              "  <th>trans_year</th>            <td>   90.7224</td> <td>   11.166</td> <td>    8.125</td> <td> 0.000</td> <td>   68.825</td> <td>  112.620</td>\n",
              "</tr>\n",
              "<tr>\n",
              "  <th>prevweek_mean</th>         <td>    0.6458</td> <td>    0.023</td> <td>   28.551</td> <td> 0.000</td> <td>    0.601</td> <td>    0.690</td>\n",
              "</tr>\n",
              "<tr>\n",
              "  <th>weekday_MONDAY</th>        <td> 3.969e+04</td> <td> 2.12e+04</td> <td>    1.869</td> <td> 0.062</td> <td>-1953.747</td> <td> 8.13e+04</td>\n",
              "</tr>\n",
              "<tr>\n",
              "  <th>weekday_SATURDAY</th>      <td> 1.708e+05</td> <td> 2.32e+04</td> <td>    7.353</td> <td> 0.000</td> <td> 1.25e+05</td> <td> 2.16e+05</td>\n",
              "</tr>\n",
              "<tr>\n",
              "  <th>weekday_THURSDAY</th>      <td> 7743.0333</td> <td>  1.6e+04</td> <td>    0.484</td> <td> 0.628</td> <td>-2.36e+04</td> <td> 3.91e+04</td>\n",
              "</tr>\n",
              "<tr>\n",
              "  <th>weekday_WEDNESDAY</th>     <td> 1.626e+04</td> <td> 1.57e+04</td> <td>    1.034</td> <td> 0.301</td> <td>-1.46e+04</td> <td> 4.71e+04</td>\n",
              "</tr>\n",
              "<tr>\n",
              "  <th>festival_religion_H</th>   <td> -1.16e+05</td> <td> 2.75e+04</td> <td>   -4.211</td> <td> 0.000</td> <td> -1.7e+05</td> <td> -6.2e+04</td>\n",
              "</tr>\n",
              "<tr>\n",
              "  <th>festival_religion_M</th>   <td> 1.975e+04</td> <td> 3.57e+04</td> <td>    0.553</td> <td> 0.580</td> <td>-5.03e+04</td> <td> 8.98e+04</td>\n",
              "</tr>\n",
              "<tr>\n",
              "  <th>working_day_W</th>         <td>   7.2e+04</td> <td>  1.9e+04</td> <td>    3.798</td> <td> 0.000</td> <td> 3.48e+04</td> <td> 1.09e+05</td>\n",
              "</tr>\n",
              "<tr>\n",
              "  <th>previousday_holiday_W</th> <td> 2.367e+04</td> <td> 1.79e+04</td> <td>    1.319</td> <td> 0.187</td> <td>-1.15e+04</td> <td> 5.88e+04</td>\n",
              "</tr>\n",
              "<tr>\n",
              "  <th>nextday_holiday_W</th>     <td> 2.931e+04</td> <td>  1.4e+04</td> <td>    2.097</td> <td> 0.036</td> <td> 1903.726</td> <td> 5.67e+04</td>\n",
              "</tr>\n",
              "</table>\n",
              "<table class=\"simpletable\">\n",
              "<tr>\n",
              "  <th>Omnibus:</th>       <td>40.762</td> <th>  Durbin-Watson:     </th> <td>   1.267</td>\n",
              "</tr>\n",
              "<tr>\n",
              "  <th>Prob(Omnibus):</th> <td> 0.000</td> <th>  Jarque-Bera (JB):  </th> <td>  49.326</td>\n",
              "</tr>\n",
              "<tr>\n",
              "  <th>Skew:</th>          <td> 0.257</td> <th>  Prob(JB):          </th> <td>1.95e-11</td>\n",
              "</tr>\n",
              "<tr>\n",
              "  <th>Kurtosis:</th>      <td> 3.513</td> <th>  Cond. No.          </th> <td>5.27e+06</td>\n",
              "</tr>\n",
              "</table><br/><br/>Notes:<br/>[1] R² is computed without centering (uncentered) since the model does not contain a constant.<br/>[2] Standard Errors assume that the covariance matrix of the errors is correctly specified.<br/>[3] The condition number is large, 5.27e+06. This might indicate that there are<br/>strong multicollinearity or other numerical problems."
            ],
            "text/plain": [
              "<class 'statsmodels.iolib.summary.Summary'>\n",
              "\"\"\"\n",
              "                                   OLS Regression Results                                  \n",
              "===========================================================================================\n",
              "Dep. Variable:     total_amount_withdrawn   R-squared (uncentered):                   0.874\n",
              "Model:                                OLS   Adj. R-squared (uncentered):              0.873\n",
              "Method:                     Least Squares   F-statistic:                              1288.\n",
              "Date:                    Wed, 23 Sep 2020   Prob (F-statistic):                        0.00\n",
              "Time:                            16:53:22   Log-Likelihood:                         -30574.\n",
              "No. Observations:                    2241   AIC:                                  6.117e+04\n",
              "Df Residuals:                        2229   BIC:                                  6.124e+04\n",
              "Df Model:                              12                                                  \n",
              "Covariance Type:                nonrobust                                                  \n",
              "=========================================================================================\n",
              "                            coef    std err          t      P>|t|      [0.025      0.975]\n",
              "-----------------------------------------------------------------------------------------\n",
              "trans_date_set        -2.958e+04   2476.787    -11.942      0.000   -3.44e+04   -2.47e+04\n",
              "trans_year               90.7224     11.166      8.125      0.000      68.825     112.620\n",
              "prevweek_mean             0.6458      0.023     28.551      0.000       0.601       0.690\n",
              "weekday_MONDAY         3.969e+04   2.12e+04      1.869      0.062   -1953.747    8.13e+04\n",
              "weekday_SATURDAY       1.708e+05   2.32e+04      7.353      0.000    1.25e+05    2.16e+05\n",
              "weekday_THURSDAY       7743.0333    1.6e+04      0.484      0.628   -2.36e+04    3.91e+04\n",
              "weekday_WEDNESDAY      1.626e+04   1.57e+04      1.034      0.301   -1.46e+04    4.71e+04\n",
              "festival_religion_H    -1.16e+05   2.75e+04     -4.211      0.000    -1.7e+05    -6.2e+04\n",
              "festival_religion_M    1.975e+04   3.57e+04      0.553      0.580   -5.03e+04    8.98e+04\n",
              "working_day_W            7.2e+04    1.9e+04      3.798      0.000    3.48e+04    1.09e+05\n",
              "previousday_holiday_W  2.367e+04   1.79e+04      1.319      0.187   -1.15e+04    5.88e+04\n",
              "nextday_holiday_W      2.931e+04    1.4e+04      2.097      0.036    1903.726    5.67e+04\n",
              "==============================================================================\n",
              "Omnibus:                       40.762   Durbin-Watson:                   1.267\n",
              "Prob(Omnibus):                  0.000   Jarque-Bera (JB):               49.326\n",
              "Skew:                           0.257   Prob(JB):                     1.95e-11\n",
              "Kurtosis:                       3.513   Cond. No.                     5.27e+06\n",
              "==============================================================================\n",
              "\n",
              "Notes:\n",
              "[1] R² is computed without centering (uncentered) since the model does not contain a constant.\n",
              "[2] Standard Errors assume that the covariance matrix of the errors is correctly specified.\n",
              "[3] The condition number is large, 5.27e+06. This might indicate that there are\n",
              "strong multicollinearity or other numerical problems.\n",
              "\"\"\""
            ]
          },
          "metadata": {
            "tags": []
          },
          "execution_count": 329
        }
      ]
    },
    {
      "cell_type": "code",
      "metadata": {
        "id": "fxvoEDsldB2o"
      },
      "source": [
        "x = x.drop(columns= 'weekday_THURSDAY')"
      ],
      "execution_count": null,
      "outputs": []
    },
    {
      "cell_type": "code",
      "metadata": {
        "id": "Nsyjeh5XdAg8",
        "colab": {
          "base_uri": "https://localhost:8080/",
          "height": 656
        },
        "outputId": "f292c7ce-b5ad-414c-c703-c6f17e55667a"
      },
      "source": [
        "selc = sm.OLS(y,x).fit()\n",
        "selc.summary()"
      ],
      "execution_count": null,
      "outputs": [
        {
          "output_type": "execute_result",
          "data": {
            "text/html": [
              "<table class=\"simpletable\">\n",
              "<caption>OLS Regression Results</caption>\n",
              "<tr>\n",
              "  <th>Dep. Variable:</th>    <td>total_amount_withdrawn</td> <th>  R-squared (uncentered):</th>      <td>   0.874</td> \n",
              "</tr>\n",
              "<tr>\n",
              "  <th>Model:</th>                      <td>OLS</td>          <th>  Adj. R-squared (uncentered):</th> <td>   0.873</td> \n",
              "</tr>\n",
              "<tr>\n",
              "  <th>Method:</th>                <td>Least Squares</td>     <th>  F-statistic:       </th>          <td>   1406.</td> \n",
              "</tr>\n",
              "<tr>\n",
              "  <th>Date:</th>                <td>Wed, 23 Sep 2020</td>    <th>  Prob (F-statistic):</th>           <td>  0.00</td>  \n",
              "</tr>\n",
              "<tr>\n",
              "  <th>Time:</th>                    <td>16:53:22</td>        <th>  Log-Likelihood:    </th>          <td> -30574.</td> \n",
              "</tr>\n",
              "<tr>\n",
              "  <th>No. Observations:</th>         <td>  2241</td>         <th>  AIC:               </th>          <td>6.117e+04</td>\n",
              "</tr>\n",
              "<tr>\n",
              "  <th>Df Residuals:</th>             <td>  2230</td>         <th>  BIC:               </th>          <td>6.123e+04</td>\n",
              "</tr>\n",
              "<tr>\n",
              "  <th>Df Model:</th>                 <td>    11</td>         <th>                     </th>              <td> </td>    \n",
              "</tr>\n",
              "<tr>\n",
              "  <th>Covariance Type:</th>         <td>nonrobust</td>       <th>                     </th>              <td> </td>    \n",
              "</tr>\n",
              "</table>\n",
              "<table class=\"simpletable\">\n",
              "<tr>\n",
              "            <td></td>               <th>coef</th>     <th>std err</th>      <th>t</th>      <th>P>|t|</th>  <th>[0.025</th>    <th>0.975]</th>  \n",
              "</tr>\n",
              "<tr>\n",
              "  <th>trans_date_set</th>        <td>-2.956e+04</td> <td> 2476.047</td> <td>  -11.937</td> <td> 0.000</td> <td>-3.44e+04</td> <td>-2.47e+04</td>\n",
              "</tr>\n",
              "<tr>\n",
              "  <th>trans_year</th>            <td>   89.6343</td> <td>   10.936</td> <td>    8.196</td> <td> 0.000</td> <td>   68.189</td> <td>  111.080</td>\n",
              "</tr>\n",
              "<tr>\n",
              "  <th>prevweek_mean</th>         <td>    0.6457</td> <td>    0.023</td> <td>   28.553</td> <td> 0.000</td> <td>    0.601</td> <td>    0.690</td>\n",
              "</tr>\n",
              "<tr>\n",
              "  <th>weekday_MONDAY</th>        <td> 3.776e+04</td> <td> 2.09e+04</td> <td>    1.811</td> <td> 0.070</td> <td>-3135.043</td> <td> 7.87e+04</td>\n",
              "</tr>\n",
              "<tr>\n",
              "  <th>weekday_SATURDAY</th>      <td> 1.718e+05</td> <td> 2.32e+04</td> <td>    7.417</td> <td> 0.000</td> <td> 1.26e+05</td> <td> 2.17e+05</td>\n",
              "</tr>\n",
              "<tr>\n",
              "  <th>weekday_WEDNESDAY</th>     <td> 1.316e+04</td> <td> 1.44e+04</td> <td>    0.916</td> <td> 0.360</td> <td> -1.5e+04</td> <td> 4.13e+04</td>\n",
              "</tr>\n",
              "<tr>\n",
              "  <th>festival_religion_H</th>   <td> -1.14e+05</td> <td> 2.72e+04</td> <td>   -4.187</td> <td> 0.000</td> <td>-1.67e+05</td> <td>-6.06e+04</td>\n",
              "</tr>\n",
              "<tr>\n",
              "  <th>festival_religion_M</th>   <td>  2.04e+04</td> <td> 3.57e+04</td> <td>    0.572</td> <td> 0.567</td> <td>-4.96e+04</td> <td> 9.04e+04</td>\n",
              "</tr>\n",
              "<tr>\n",
              "  <th>working_day_W</th>         <td> 7.387e+04</td> <td> 1.86e+04</td> <td>    3.980</td> <td> 0.000</td> <td> 3.75e+04</td> <td>  1.1e+05</td>\n",
              "</tr>\n",
              "<tr>\n",
              "  <th>previousday_holiday_W</th> <td> 2.496e+04</td> <td> 1.77e+04</td> <td>    1.407</td> <td> 0.160</td> <td>-9826.674</td> <td> 5.97e+04</td>\n",
              "</tr>\n",
              "<tr>\n",
              "  <th>nextday_holiday_W</th>     <td> 3.173e+04</td> <td>  1.3e+04</td> <td>    2.433</td> <td> 0.015</td> <td> 6152.491</td> <td> 5.73e+04</td>\n",
              "</tr>\n",
              "</table>\n",
              "<table class=\"simpletable\">\n",
              "<tr>\n",
              "  <th>Omnibus:</th>       <td>40.931</td> <th>  Durbin-Watson:     </th> <td>   1.266</td>\n",
              "</tr>\n",
              "<tr>\n",
              "  <th>Prob(Omnibus):</th> <td> 0.000</td> <th>  Jarque-Bera (JB):  </th> <td>  49.474</td>\n",
              "</tr>\n",
              "<tr>\n",
              "  <th>Skew:</th>          <td> 0.258</td> <th>  Prob(JB):          </th> <td>1.81e-11</td>\n",
              "</tr>\n",
              "<tr>\n",
              "  <th>Kurtosis:</th>      <td> 3.513</td> <th>  Cond. No.          </th> <td>5.20e+06</td>\n",
              "</tr>\n",
              "</table><br/><br/>Notes:<br/>[1] R² is computed without centering (uncentered) since the model does not contain a constant.<br/>[2] Standard Errors assume that the covariance matrix of the errors is correctly specified.<br/>[3] The condition number is large, 5.2e+06. This might indicate that there are<br/>strong multicollinearity or other numerical problems."
            ],
            "text/plain": [
              "<class 'statsmodels.iolib.summary.Summary'>\n",
              "\"\"\"\n",
              "                                   OLS Regression Results                                  \n",
              "===========================================================================================\n",
              "Dep. Variable:     total_amount_withdrawn   R-squared (uncentered):                   0.874\n",
              "Model:                                OLS   Adj. R-squared (uncentered):              0.873\n",
              "Method:                     Least Squares   F-statistic:                              1406.\n",
              "Date:                    Wed, 23 Sep 2020   Prob (F-statistic):                        0.00\n",
              "Time:                            16:53:22   Log-Likelihood:                         -30574.\n",
              "No. Observations:                    2241   AIC:                                  6.117e+04\n",
              "Df Residuals:                        2230   BIC:                                  6.123e+04\n",
              "Df Model:                              11                                                  \n",
              "Covariance Type:                nonrobust                                                  \n",
              "=========================================================================================\n",
              "                            coef    std err          t      P>|t|      [0.025      0.975]\n",
              "-----------------------------------------------------------------------------------------\n",
              "trans_date_set        -2.956e+04   2476.047    -11.937      0.000   -3.44e+04   -2.47e+04\n",
              "trans_year               89.6343     10.936      8.196      0.000      68.189     111.080\n",
              "prevweek_mean             0.6457      0.023     28.553      0.000       0.601       0.690\n",
              "weekday_MONDAY         3.776e+04   2.09e+04      1.811      0.070   -3135.043    7.87e+04\n",
              "weekday_SATURDAY       1.718e+05   2.32e+04      7.417      0.000    1.26e+05    2.17e+05\n",
              "weekday_WEDNESDAY      1.316e+04   1.44e+04      0.916      0.360    -1.5e+04    4.13e+04\n",
              "festival_religion_H    -1.14e+05   2.72e+04     -4.187      0.000   -1.67e+05   -6.06e+04\n",
              "festival_religion_M     2.04e+04   3.57e+04      0.572      0.567   -4.96e+04    9.04e+04\n",
              "working_day_W          7.387e+04   1.86e+04      3.980      0.000    3.75e+04     1.1e+05\n",
              "previousday_holiday_W  2.496e+04   1.77e+04      1.407      0.160   -9826.674    5.97e+04\n",
              "nextday_holiday_W      3.173e+04    1.3e+04      2.433      0.015    6152.491    5.73e+04\n",
              "==============================================================================\n",
              "Omnibus:                       40.931   Durbin-Watson:                   1.266\n",
              "Prob(Omnibus):                  0.000   Jarque-Bera (JB):               49.474\n",
              "Skew:                           0.258   Prob(JB):                     1.81e-11\n",
              "Kurtosis:                       3.513   Cond. No.                     5.20e+06\n",
              "==============================================================================\n",
              "\n",
              "Notes:\n",
              "[1] R² is computed without centering (uncentered) since the model does not contain a constant.\n",
              "[2] Standard Errors assume that the covariance matrix of the errors is correctly specified.\n",
              "[3] The condition number is large, 5.2e+06. This might indicate that there are\n",
              "strong multicollinearity or other numerical problems.\n",
              "\"\"\""
            ]
          },
          "metadata": {
            "tags": []
          },
          "execution_count": 331
        }
      ]
    },
    {
      "cell_type": "code",
      "metadata": {
        "id": "w2wpZwMMdUAY"
      },
      "source": [
        "x = x.drop(columns= 'festival_religion_M')"
      ],
      "execution_count": null,
      "outputs": []
    },
    {
      "cell_type": "code",
      "metadata": {
        "id": "6rtAzvk6dX2F",
        "colab": {
          "base_uri": "https://localhost:8080/",
          "height": 636
        },
        "outputId": "6e0ccf15-e8c5-402c-d7dc-01bd5ed7d2e1"
      },
      "source": [
        "selc = sm.OLS(y,x).fit()\n",
        "selc.summary()"
      ],
      "execution_count": null,
      "outputs": [
        {
          "output_type": "execute_result",
          "data": {
            "text/html": [
              "<table class=\"simpletable\">\n",
              "<caption>OLS Regression Results</caption>\n",
              "<tr>\n",
              "  <th>Dep. Variable:</th>    <td>total_amount_withdrawn</td> <th>  R-squared (uncentered):</th>      <td>   0.874</td> \n",
              "</tr>\n",
              "<tr>\n",
              "  <th>Model:</th>                      <td>OLS</td>          <th>  Adj. R-squared (uncentered):</th> <td>   0.873</td> \n",
              "</tr>\n",
              "<tr>\n",
              "  <th>Method:</th>                <td>Least Squares</td>     <th>  F-statistic:       </th>          <td>   1547.</td> \n",
              "</tr>\n",
              "<tr>\n",
              "  <th>Date:</th>                <td>Wed, 23 Sep 2020</td>    <th>  Prob (F-statistic):</th>           <td>  0.00</td>  \n",
              "</tr>\n",
              "<tr>\n",
              "  <th>Time:</th>                    <td>16:53:22</td>        <th>  Log-Likelihood:    </th>          <td> -30574.</td> \n",
              "</tr>\n",
              "<tr>\n",
              "  <th>No. Observations:</th>         <td>  2241</td>         <th>  AIC:               </th>          <td>6.117e+04</td>\n",
              "</tr>\n",
              "<tr>\n",
              "  <th>Df Residuals:</th>             <td>  2231</td>         <th>  BIC:               </th>          <td>6.123e+04</td>\n",
              "</tr>\n",
              "<tr>\n",
              "  <th>Df Model:</th>                 <td>    10</td>         <th>                     </th>              <td> </td>    \n",
              "</tr>\n",
              "<tr>\n",
              "  <th>Covariance Type:</th>         <td>nonrobust</td>       <th>                     </th>              <td> </td>    \n",
              "</tr>\n",
              "</table>\n",
              "<table class=\"simpletable\">\n",
              "<tr>\n",
              "            <td></td>               <th>coef</th>     <th>std err</th>      <th>t</th>      <th>P>|t|</th>  <th>[0.025</th>    <th>0.975]</th>  \n",
              "</tr>\n",
              "<tr>\n",
              "  <th>trans_date_set</th>        <td>-2.954e+04</td> <td> 2475.488</td> <td>  -11.933</td> <td> 0.000</td> <td>-3.44e+04</td> <td>-2.47e+04</td>\n",
              "</tr>\n",
              "<tr>\n",
              "  <th>trans_year</th>            <td>   90.2278</td> <td>   10.885</td> <td>    8.289</td> <td> 0.000</td> <td>   68.882</td> <td>  111.573</td>\n",
              "</tr>\n",
              "<tr>\n",
              "  <th>prevweek_mean</th>         <td>    0.6454</td> <td>    0.023</td> <td>   28.553</td> <td> 0.000</td> <td>    0.601</td> <td>    0.690</td>\n",
              "</tr>\n",
              "<tr>\n",
              "  <th>weekday_MONDAY</th>        <td> 3.997e+04</td> <td> 2.05e+04</td> <td>    1.951</td> <td> 0.051</td> <td> -214.584</td> <td> 8.01e+04</td>\n",
              "</tr>\n",
              "<tr>\n",
              "  <th>weekday_SATURDAY</th>      <td> 1.692e+05</td> <td> 2.27e+04</td> <td>    7.445</td> <td> 0.000</td> <td> 1.25e+05</td> <td> 2.14e+05</td>\n",
              "</tr>\n",
              "<tr>\n",
              "  <th>weekday_WEDNESDAY</th>     <td> 1.342e+04</td> <td> 1.43e+04</td> <td>    0.935</td> <td> 0.350</td> <td>-1.47e+04</td> <td> 4.16e+04</td>\n",
              "</tr>\n",
              "<tr>\n",
              "  <th>festival_religion_H</th>   <td>-1.159e+05</td> <td>  2.7e+04</td> <td>   -4.291</td> <td> 0.000</td> <td>-1.69e+05</td> <td>-6.29e+04</td>\n",
              "</tr>\n",
              "<tr>\n",
              "  <th>working_day_W</th>         <td> 7.105e+04</td> <td> 1.79e+04</td> <td>    3.972</td> <td> 0.000</td> <td>  3.6e+04</td> <td> 1.06e+05</td>\n",
              "</tr>\n",
              "<tr>\n",
              "  <th>previousday_holiday_W</th> <td> 2.675e+04</td> <td> 1.75e+04</td> <td>    1.533</td> <td> 0.125</td> <td>-7472.625</td> <td>  6.1e+04</td>\n",
              "</tr>\n",
              "<tr>\n",
              "  <th>nextday_holiday_W</th>     <td> 3.157e+04</td> <td>  1.3e+04</td> <td>    2.421</td> <td> 0.016</td> <td> 6000.833</td> <td> 5.71e+04</td>\n",
              "</tr>\n",
              "</table>\n",
              "<table class=\"simpletable\">\n",
              "<tr>\n",
              "  <th>Omnibus:</th>       <td>40.645</td> <th>  Durbin-Watson:     </th> <td>   1.266</td>\n",
              "</tr>\n",
              "<tr>\n",
              "  <th>Prob(Omnibus):</th> <td> 0.000</td> <th>  Jarque-Bera (JB):  </th> <td>  49.051</td>\n",
              "</tr>\n",
              "<tr>\n",
              "  <th>Skew:</th>          <td> 0.258</td> <th>  Prob(JB):          </th> <td>2.23e-11</td>\n",
              "</tr>\n",
              "<tr>\n",
              "  <th>Kurtosis:</th>      <td> 3.510</td> <th>  Cond. No.          </th> <td>4.65e+06</td>\n",
              "</tr>\n",
              "</table><br/><br/>Notes:<br/>[1] R² is computed without centering (uncentered) since the model does not contain a constant.<br/>[2] Standard Errors assume that the covariance matrix of the errors is correctly specified.<br/>[3] The condition number is large, 4.65e+06. This might indicate that there are<br/>strong multicollinearity or other numerical problems."
            ],
            "text/plain": [
              "<class 'statsmodels.iolib.summary.Summary'>\n",
              "\"\"\"\n",
              "                                   OLS Regression Results                                  \n",
              "===========================================================================================\n",
              "Dep. Variable:     total_amount_withdrawn   R-squared (uncentered):                   0.874\n",
              "Model:                                OLS   Adj. R-squared (uncentered):              0.873\n",
              "Method:                     Least Squares   F-statistic:                              1547.\n",
              "Date:                    Wed, 23 Sep 2020   Prob (F-statistic):                        0.00\n",
              "Time:                            16:53:22   Log-Likelihood:                         -30574.\n",
              "No. Observations:                    2241   AIC:                                  6.117e+04\n",
              "Df Residuals:                        2231   BIC:                                  6.123e+04\n",
              "Df Model:                              10                                                  \n",
              "Covariance Type:                nonrobust                                                  \n",
              "=========================================================================================\n",
              "                            coef    std err          t      P>|t|      [0.025      0.975]\n",
              "-----------------------------------------------------------------------------------------\n",
              "trans_date_set        -2.954e+04   2475.488    -11.933      0.000   -3.44e+04   -2.47e+04\n",
              "trans_year               90.2278     10.885      8.289      0.000      68.882     111.573\n",
              "prevweek_mean             0.6454      0.023     28.553      0.000       0.601       0.690\n",
              "weekday_MONDAY         3.997e+04   2.05e+04      1.951      0.051    -214.584    8.01e+04\n",
              "weekday_SATURDAY       1.692e+05   2.27e+04      7.445      0.000    1.25e+05    2.14e+05\n",
              "weekday_WEDNESDAY      1.342e+04   1.43e+04      0.935      0.350   -1.47e+04    4.16e+04\n",
              "festival_religion_H   -1.159e+05    2.7e+04     -4.291      0.000   -1.69e+05   -6.29e+04\n",
              "working_day_W          7.105e+04   1.79e+04      3.972      0.000     3.6e+04    1.06e+05\n",
              "previousday_holiday_W  2.675e+04   1.75e+04      1.533      0.125   -7472.625     6.1e+04\n",
              "nextday_holiday_W      3.157e+04    1.3e+04      2.421      0.016    6000.833    5.71e+04\n",
              "==============================================================================\n",
              "Omnibus:                       40.645   Durbin-Watson:                   1.266\n",
              "Prob(Omnibus):                  0.000   Jarque-Bera (JB):               49.051\n",
              "Skew:                           0.258   Prob(JB):                     2.23e-11\n",
              "Kurtosis:                       3.510   Cond. No.                     4.65e+06\n",
              "==============================================================================\n",
              "\n",
              "Notes:\n",
              "[1] R² is computed without centering (uncentered) since the model does not contain a constant.\n",
              "[2] Standard Errors assume that the covariance matrix of the errors is correctly specified.\n",
              "[3] The condition number is large, 4.65e+06. This might indicate that there are\n",
              "strong multicollinearity or other numerical problems.\n",
              "\"\"\""
            ]
          },
          "metadata": {
            "tags": []
          },
          "execution_count": 333
        }
      ]
    },
    {
      "cell_type": "code",
      "metadata": {
        "id": "9VuOh72QdqMh"
      },
      "source": [
        "x = x.drop(columns= 'weekday_WEDNESDAY')"
      ],
      "execution_count": null,
      "outputs": []
    },
    {
      "cell_type": "code",
      "metadata": {
        "id": "0TsaGPMGdyUk",
        "colab": {
          "base_uri": "https://localhost:8080/",
          "height": 616
        },
        "outputId": "7a252b88-92e3-4999-c2df-febfdc92a516"
      },
      "source": [
        "selc = sm.OLS(y,x).fit()\n",
        "selc.summary()"
      ],
      "execution_count": null,
      "outputs": [
        {
          "output_type": "execute_result",
          "data": {
            "text/html": [
              "<table class=\"simpletable\">\n",
              "<caption>OLS Regression Results</caption>\n",
              "<tr>\n",
              "  <th>Dep. Variable:</th>    <td>total_amount_withdrawn</td> <th>  R-squared (uncentered):</th>      <td>   0.874</td> \n",
              "</tr>\n",
              "<tr>\n",
              "  <th>Model:</th>                      <td>OLS</td>          <th>  Adj. R-squared (uncentered):</th> <td>   0.873</td> \n",
              "</tr>\n",
              "<tr>\n",
              "  <th>Method:</th>                <td>Least Squares</td>     <th>  F-statistic:       </th>          <td>   1719.</td> \n",
              "</tr>\n",
              "<tr>\n",
              "  <th>Date:</th>                <td>Wed, 23 Sep 2020</td>    <th>  Prob (F-statistic):</th>           <td>  0.00</td>  \n",
              "</tr>\n",
              "<tr>\n",
              "  <th>Time:</th>                    <td>16:53:23</td>        <th>  Log-Likelihood:    </th>          <td> -30575.</td> \n",
              "</tr>\n",
              "<tr>\n",
              "  <th>No. Observations:</th>         <td>  2241</td>         <th>  AIC:               </th>          <td>6.117e+04</td>\n",
              "</tr>\n",
              "<tr>\n",
              "  <th>Df Residuals:</th>             <td>  2232</td>         <th>  BIC:               </th>          <td>6.122e+04</td>\n",
              "</tr>\n",
              "<tr>\n",
              "  <th>Df Model:</th>                 <td>     9</td>         <th>                     </th>              <td> </td>    \n",
              "</tr>\n",
              "<tr>\n",
              "  <th>Covariance Type:</th>         <td>nonrobust</td>       <th>                     </th>              <td> </td>    \n",
              "</tr>\n",
              "</table>\n",
              "<table class=\"simpletable\">\n",
              "<tr>\n",
              "            <td></td>               <th>coef</th>     <th>std err</th>      <th>t</th>      <th>P>|t|</th>  <th>[0.025</th>    <th>0.975]</th>  \n",
              "</tr>\n",
              "<tr>\n",
              "  <th>trans_date_set</th>        <td>-2.952e+04</td> <td> 2475.334</td> <td>  -11.926</td> <td> 0.000</td> <td>-3.44e+04</td> <td>-2.47e+04</td>\n",
              "</tr>\n",
              "<tr>\n",
              "  <th>trans_year</th>            <td>   88.9382</td> <td>   10.797</td> <td>    8.237</td> <td> 0.000</td> <td>   67.765</td> <td>  110.111</td>\n",
              "</tr>\n",
              "<tr>\n",
              "  <th>prevweek_mean</th>         <td>    0.6451</td> <td>    0.023</td> <td>   28.543</td> <td> 0.000</td> <td>    0.601</td> <td>    0.689</td>\n",
              "</tr>\n",
              "<tr>\n",
              "  <th>weekday_MONDAY</th>        <td> 3.758e+04</td> <td> 2.03e+04</td> <td>    1.848</td> <td> 0.065</td> <td>-2289.209</td> <td> 7.74e+04</td>\n",
              "</tr>\n",
              "<tr>\n",
              "  <th>weekday_SATURDAY</th>      <td> 1.703e+05</td> <td> 2.27e+04</td> <td>    7.500</td> <td> 0.000</td> <td> 1.26e+05</td> <td> 2.15e+05</td>\n",
              "</tr>\n",
              "<tr>\n",
              "  <th>festival_religion_H</th>   <td>-1.131e+05</td> <td> 2.68e+04</td> <td>   -4.214</td> <td> 0.000</td> <td>-1.66e+05</td> <td>-6.05e+04</td>\n",
              "</tr>\n",
              "<tr>\n",
              "  <th>working_day_W</th>         <td> 7.329e+04</td> <td> 1.77e+04</td> <td>    4.134</td> <td> 0.000</td> <td> 3.85e+04</td> <td> 1.08e+05</td>\n",
              "</tr>\n",
              "<tr>\n",
              "  <th>previousday_holiday_W</th> <td> 2.845e+04</td> <td> 1.74e+04</td> <td>    1.639</td> <td> 0.101</td> <td>-5585.045</td> <td> 6.25e+04</td>\n",
              "</tr>\n",
              "<tr>\n",
              "  <th>nextday_holiday_W</th>     <td> 3.466e+04</td> <td> 1.26e+04</td> <td>    2.748</td> <td> 0.006</td> <td> 9926.354</td> <td> 5.94e+04</td>\n",
              "</tr>\n",
              "</table>\n",
              "<table class=\"simpletable\">\n",
              "<tr>\n",
              "  <th>Omnibus:</th>       <td>41.156</td> <th>  Durbin-Watson:     </th> <td>   1.267</td>\n",
              "</tr>\n",
              "<tr>\n",
              "  <th>Prob(Omnibus):</th> <td> 0.000</td> <th>  Jarque-Bera (JB):  </th> <td>  49.472</td>\n",
              "</tr>\n",
              "<tr>\n",
              "  <th>Skew:</th>          <td> 0.261</td> <th>  Prob(JB):          </th> <td>1.81e-11</td>\n",
              "</tr>\n",
              "<tr>\n",
              "  <th>Kurtosis:</th>      <td> 3.507</td> <th>  Cond. No.          </th> <td>4.63e+06</td>\n",
              "</tr>\n",
              "</table><br/><br/>Notes:<br/>[1] R² is computed without centering (uncentered) since the model does not contain a constant.<br/>[2] Standard Errors assume that the covariance matrix of the errors is correctly specified.<br/>[3] The condition number is large, 4.63e+06. This might indicate that there are<br/>strong multicollinearity or other numerical problems."
            ],
            "text/plain": [
              "<class 'statsmodels.iolib.summary.Summary'>\n",
              "\"\"\"\n",
              "                                   OLS Regression Results                                  \n",
              "===========================================================================================\n",
              "Dep. Variable:     total_amount_withdrawn   R-squared (uncentered):                   0.874\n",
              "Model:                                OLS   Adj. R-squared (uncentered):              0.873\n",
              "Method:                     Least Squares   F-statistic:                              1719.\n",
              "Date:                    Wed, 23 Sep 2020   Prob (F-statistic):                        0.00\n",
              "Time:                            16:53:23   Log-Likelihood:                         -30575.\n",
              "No. Observations:                    2241   AIC:                                  6.117e+04\n",
              "Df Residuals:                        2232   BIC:                                  6.122e+04\n",
              "Df Model:                               9                                                  \n",
              "Covariance Type:                nonrobust                                                  \n",
              "=========================================================================================\n",
              "                            coef    std err          t      P>|t|      [0.025      0.975]\n",
              "-----------------------------------------------------------------------------------------\n",
              "trans_date_set        -2.952e+04   2475.334    -11.926      0.000   -3.44e+04   -2.47e+04\n",
              "trans_year               88.9382     10.797      8.237      0.000      67.765     110.111\n",
              "prevweek_mean             0.6451      0.023     28.543      0.000       0.601       0.689\n",
              "weekday_MONDAY         3.758e+04   2.03e+04      1.848      0.065   -2289.209    7.74e+04\n",
              "weekday_SATURDAY       1.703e+05   2.27e+04      7.500      0.000    1.26e+05    2.15e+05\n",
              "festival_religion_H   -1.131e+05   2.68e+04     -4.214      0.000   -1.66e+05   -6.05e+04\n",
              "working_day_W          7.329e+04   1.77e+04      4.134      0.000    3.85e+04    1.08e+05\n",
              "previousday_holiday_W  2.845e+04   1.74e+04      1.639      0.101   -5585.045    6.25e+04\n",
              "nextday_holiday_W      3.466e+04   1.26e+04      2.748      0.006    9926.354    5.94e+04\n",
              "==============================================================================\n",
              "Omnibus:                       41.156   Durbin-Watson:                   1.267\n",
              "Prob(Omnibus):                  0.000   Jarque-Bera (JB):               49.472\n",
              "Skew:                           0.261   Prob(JB):                     1.81e-11\n",
              "Kurtosis:                       3.507   Cond. No.                     4.63e+06\n",
              "==============================================================================\n",
              "\n",
              "Notes:\n",
              "[1] R² is computed without centering (uncentered) since the model does not contain a constant.\n",
              "[2] Standard Errors assume that the covariance matrix of the errors is correctly specified.\n",
              "[3] The condition number is large, 4.63e+06. This might indicate that there are\n",
              "strong multicollinearity or other numerical problems.\n",
              "\"\"\""
            ]
          },
          "metadata": {
            "tags": []
          },
          "execution_count": 335
        }
      ]
    },
    {
      "cell_type": "code",
      "metadata": {
        "id": "y89GaXygd_oe"
      },
      "source": [
        "x = x.drop(columns= 'previousday_holiday_W')"
      ],
      "execution_count": null,
      "outputs": []
    },
    {
      "cell_type": "code",
      "metadata": {
        "id": "YLWnd67meMvb",
        "colab": {
          "base_uri": "https://localhost:8080/",
          "height": 596
        },
        "outputId": "153ce972-9060-43d2-c500-e11a88a998d8"
      },
      "source": [
        "selc = sm.OLS(y,x).fit()\n",
        "selc.summary()"
      ],
      "execution_count": null,
      "outputs": [
        {
          "output_type": "execute_result",
          "data": {
            "text/html": [
              "<table class=\"simpletable\">\n",
              "<caption>OLS Regression Results</caption>\n",
              "<tr>\n",
              "  <th>Dep. Variable:</th>    <td>total_amount_withdrawn</td> <th>  R-squared (uncentered):</th>      <td>   0.874</td> \n",
              "</tr>\n",
              "<tr>\n",
              "  <th>Model:</th>                      <td>OLS</td>          <th>  Adj. R-squared (uncentered):</th> <td>   0.873</td> \n",
              "</tr>\n",
              "<tr>\n",
              "  <th>Method:</th>                <td>Least Squares</td>     <th>  F-statistic:       </th>          <td>   1932.</td> \n",
              "</tr>\n",
              "<tr>\n",
              "  <th>Date:</th>                <td>Wed, 23 Sep 2020</td>    <th>  Prob (F-statistic):</th>           <td>  0.00</td>  \n",
              "</tr>\n",
              "<tr>\n",
              "  <th>Time:</th>                    <td>16:53:23</td>        <th>  Log-Likelihood:    </th>          <td> -30576.</td> \n",
              "</tr>\n",
              "<tr>\n",
              "  <th>No. Observations:</th>         <td>  2241</td>         <th>  AIC:               </th>          <td>6.117e+04</td>\n",
              "</tr>\n",
              "<tr>\n",
              "  <th>Df Residuals:</th>             <td>  2233</td>         <th>  BIC:               </th>          <td>6.121e+04</td>\n",
              "</tr>\n",
              "<tr>\n",
              "  <th>Df Model:</th>                 <td>     8</td>         <th>                     </th>              <td> </td>    \n",
              "</tr>\n",
              "<tr>\n",
              "  <th>Covariance Type:</th>         <td>nonrobust</td>       <th>                     </th>              <td> </td>    \n",
              "</tr>\n",
              "</table>\n",
              "<table class=\"simpletable\">\n",
              "<tr>\n",
              "           <td></td>              <th>coef</th>     <th>std err</th>      <th>t</th>      <th>P>|t|</th>  <th>[0.025</th>    <th>0.975]</th>  \n",
              "</tr>\n",
              "<tr>\n",
              "  <th>trans_date_set</th>      <td>-2.953e+04</td> <td> 2476.264</td> <td>  -11.925</td> <td> 0.000</td> <td>-3.44e+04</td> <td>-2.47e+04</td>\n",
              "</tr>\n",
              "<tr>\n",
              "  <th>trans_year</th>          <td>   91.4373</td> <td>   10.693</td> <td>    8.551</td> <td> 0.000</td> <td>   70.469</td> <td>  112.406</td>\n",
              "</tr>\n",
              "<tr>\n",
              "  <th>prevweek_mean</th>       <td>    0.6443</td> <td>    0.023</td> <td>   28.504</td> <td> 0.000</td> <td>    0.600</td> <td>    0.689</td>\n",
              "</tr>\n",
              "<tr>\n",
              "  <th>weekday_MONDAY</th>      <td> 1.314e+04</td> <td> 1.38e+04</td> <td>    0.950</td> <td> 0.342</td> <td> -1.4e+04</td> <td> 4.02e+04</td>\n",
              "</tr>\n",
              "<tr>\n",
              "  <th>weekday_SATURDAY</th>    <td> 1.921e+05</td> <td> 1.84e+04</td> <td>   10.444</td> <td> 0.000</td> <td> 1.56e+05</td> <td> 2.28e+05</td>\n",
              "</tr>\n",
              "<tr>\n",
              "  <th>festival_religion_H</th> <td>-1.016e+05</td> <td> 2.59e+04</td> <td>   -3.920</td> <td> 0.000</td> <td>-1.52e+05</td> <td>-5.08e+04</td>\n",
              "</tr>\n",
              "<tr>\n",
              "  <th>working_day_W</th>       <td> 9.638e+04</td> <td> 1.08e+04</td> <td>    8.948</td> <td> 0.000</td> <td> 7.53e+04</td> <td> 1.18e+05</td>\n",
              "</tr>\n",
              "<tr>\n",
              "  <th>nextday_holiday_W</th>   <td> 3.318e+04</td> <td> 1.26e+04</td> <td>    2.636</td> <td> 0.008</td> <td> 8498.272</td> <td> 5.79e+04</td>\n",
              "</tr>\n",
              "</table>\n",
              "<table class=\"simpletable\">\n",
              "<tr>\n",
              "  <th>Omnibus:</th>       <td>41.294</td> <th>  Durbin-Watson:     </th> <td>   1.261</td>\n",
              "</tr>\n",
              "<tr>\n",
              "  <th>Prob(Omnibus):</th> <td> 0.000</td> <th>  Jarque-Bera (JB):  </th> <td>  50.014</td>\n",
              "</tr>\n",
              "<tr>\n",
              "  <th>Skew:</th>          <td> 0.259</td> <th>  Prob(JB):          </th> <td>1.38e-11</td>\n",
              "</tr>\n",
              "<tr>\n",
              "  <th>Kurtosis:</th>      <td> 3.516</td> <th>  Cond. No.          </th> <td>3.45e+06</td>\n",
              "</tr>\n",
              "</table><br/><br/>Notes:<br/>[1] R² is computed without centering (uncentered) since the model does not contain a constant.<br/>[2] Standard Errors assume that the covariance matrix of the errors is correctly specified.<br/>[3] The condition number is large, 3.45e+06. This might indicate that there are<br/>strong multicollinearity or other numerical problems."
            ],
            "text/plain": [
              "<class 'statsmodels.iolib.summary.Summary'>\n",
              "\"\"\"\n",
              "                                   OLS Regression Results                                  \n",
              "===========================================================================================\n",
              "Dep. Variable:     total_amount_withdrawn   R-squared (uncentered):                   0.874\n",
              "Model:                                OLS   Adj. R-squared (uncentered):              0.873\n",
              "Method:                     Least Squares   F-statistic:                              1932.\n",
              "Date:                    Wed, 23 Sep 2020   Prob (F-statistic):                        0.00\n",
              "Time:                            16:53:23   Log-Likelihood:                         -30576.\n",
              "No. Observations:                    2241   AIC:                                  6.117e+04\n",
              "Df Residuals:                        2233   BIC:                                  6.121e+04\n",
              "Df Model:                               8                                                  \n",
              "Covariance Type:                nonrobust                                                  \n",
              "=======================================================================================\n",
              "                          coef    std err          t      P>|t|      [0.025      0.975]\n",
              "---------------------------------------------------------------------------------------\n",
              "trans_date_set      -2.953e+04   2476.264    -11.925      0.000   -3.44e+04   -2.47e+04\n",
              "trans_year             91.4373     10.693      8.551      0.000      70.469     112.406\n",
              "prevweek_mean           0.6443      0.023     28.504      0.000       0.600       0.689\n",
              "weekday_MONDAY       1.314e+04   1.38e+04      0.950      0.342    -1.4e+04    4.02e+04\n",
              "weekday_SATURDAY     1.921e+05   1.84e+04     10.444      0.000    1.56e+05    2.28e+05\n",
              "festival_religion_H -1.016e+05   2.59e+04     -3.920      0.000   -1.52e+05   -5.08e+04\n",
              "working_day_W        9.638e+04   1.08e+04      8.948      0.000    7.53e+04    1.18e+05\n",
              "nextday_holiday_W    3.318e+04   1.26e+04      2.636      0.008    8498.272    5.79e+04\n",
              "==============================================================================\n",
              "Omnibus:                       41.294   Durbin-Watson:                   1.261\n",
              "Prob(Omnibus):                  0.000   Jarque-Bera (JB):               50.014\n",
              "Skew:                           0.259   Prob(JB):                     1.38e-11\n",
              "Kurtosis:                       3.516   Cond. No.                     3.45e+06\n",
              "==============================================================================\n",
              "\n",
              "Notes:\n",
              "[1] R² is computed without centering (uncentered) since the model does not contain a constant.\n",
              "[2] Standard Errors assume that the covariance matrix of the errors is correctly specified.\n",
              "[3] The condition number is large, 3.45e+06. This might indicate that there are\n",
              "strong multicollinearity or other numerical problems.\n",
              "\"\"\""
            ]
          },
          "metadata": {
            "tags": []
          },
          "execution_count": 337
        }
      ]
    },
    {
      "cell_type": "code",
      "metadata": {
        "id": "Zr2Qv7JyeS7G"
      },
      "source": [
        "x = x.drop(columns= 'weekday_MONDAY')"
      ],
      "execution_count": null,
      "outputs": []
    },
    {
      "cell_type": "code",
      "metadata": {
        "id": "MG8HmBWveX6n",
        "colab": {
          "base_uri": "https://localhost:8080/",
          "height": 576
        },
        "outputId": "52cba31b-09bc-4058-f7c8-69db445d53a0"
      },
      "source": [
        "selc = sm.OLS(y,x).fit()\n",
        "selc.summary()\n",
        "#We have all the variables whose p value is below the level of significance"
      ],
      "execution_count": null,
      "outputs": [
        {
          "output_type": "execute_result",
          "data": {
            "text/html": [
              "<table class=\"simpletable\">\n",
              "<caption>OLS Regression Results</caption>\n",
              "<tr>\n",
              "  <th>Dep. Variable:</th>    <td>total_amount_withdrawn</td> <th>  R-squared (uncentered):</th>      <td>   0.874</td> \n",
              "</tr>\n",
              "<tr>\n",
              "  <th>Model:</th>                      <td>OLS</td>          <th>  Adj. R-squared (uncentered):</th> <td>   0.873</td> \n",
              "</tr>\n",
              "<tr>\n",
              "  <th>Method:</th>                <td>Least Squares</td>     <th>  F-statistic:       </th>          <td>   2208.</td> \n",
              "</tr>\n",
              "<tr>\n",
              "  <th>Date:</th>                <td>Wed, 23 Sep 2020</td>    <th>  Prob (F-statistic):</th>           <td>  0.00</td>  \n",
              "</tr>\n",
              "<tr>\n",
              "  <th>Time:</th>                    <td>16:53:23</td>        <th>  Log-Likelihood:    </th>          <td> -30576.</td> \n",
              "</tr>\n",
              "<tr>\n",
              "  <th>No. Observations:</th>         <td>  2241</td>         <th>  AIC:               </th>          <td>6.117e+04</td>\n",
              "</tr>\n",
              "<tr>\n",
              "  <th>Df Residuals:</th>             <td>  2234</td>         <th>  BIC:               </th>          <td>6.121e+04</td>\n",
              "</tr>\n",
              "<tr>\n",
              "  <th>Df Model:</th>                 <td>     7</td>         <th>                     </th>              <td> </td>    \n",
              "</tr>\n",
              "<tr>\n",
              "  <th>Covariance Type:</th>         <td>nonrobust</td>       <th>                     </th>              <td> </td>    \n",
              "</tr>\n",
              "</table>\n",
              "<table class=\"simpletable\">\n",
              "<tr>\n",
              "           <td></td>              <th>coef</th>     <th>std err</th>      <th>t</th>      <th>P>|t|</th>  <th>[0.025</th>    <th>0.975]</th>  \n",
              "</tr>\n",
              "<tr>\n",
              "  <th>trans_date_set</th>      <td>-2.951e+04</td> <td> 2476.087</td> <td>  -11.916</td> <td> 0.000</td> <td>-3.44e+04</td> <td>-2.47e+04</td>\n",
              "</tr>\n",
              "<tr>\n",
              "  <th>trans_year</th>          <td>   90.5130</td> <td>   10.648</td> <td>    8.500</td> <td> 0.000</td> <td>   69.632</td> <td>  111.394</td>\n",
              "</tr>\n",
              "<tr>\n",
              "  <th>prevweek_mean</th>       <td>    0.6442</td> <td>    0.023</td> <td>   28.500</td> <td> 0.000</td> <td>    0.600</td> <td>    0.689</td>\n",
              "</tr>\n",
              "<tr>\n",
              "  <th>weekday_SATURDAY</th>    <td> 1.939e+05</td> <td> 1.83e+04</td> <td>   10.598</td> <td> 0.000</td> <td> 1.58e+05</td> <td>  2.3e+05</td>\n",
              "</tr>\n",
              "<tr>\n",
              "  <th>festival_religion_H</th> <td>-9.948e+04</td> <td> 2.58e+04</td> <td>   -3.852</td> <td> 0.000</td> <td> -1.5e+05</td> <td>-4.88e+04</td>\n",
              "</tr>\n",
              "<tr>\n",
              "  <th>working_day_W</th>       <td> 9.904e+04</td> <td> 1.04e+04</td> <td>    9.522</td> <td> 0.000</td> <td> 7.86e+04</td> <td> 1.19e+05</td>\n",
              "</tr>\n",
              "<tr>\n",
              "  <th>nextday_holiday_W</th>   <td> 3.551e+04</td> <td> 1.23e+04</td> <td>    2.877</td> <td> 0.004</td> <td> 1.13e+04</td> <td> 5.97e+04</td>\n",
              "</tr>\n",
              "</table>\n",
              "<table class=\"simpletable\">\n",
              "<tr>\n",
              "  <th>Omnibus:</th>       <td>41.977</td> <th>  Durbin-Watson:     </th> <td>   1.267</td>\n",
              "</tr>\n",
              "<tr>\n",
              "  <th>Prob(Omnibus):</th> <td> 0.000</td> <th>  Jarque-Bera (JB):  </th> <td>  51.114</td>\n",
              "</tr>\n",
              "<tr>\n",
              "  <th>Skew:</th>          <td> 0.261</td> <th>  Prob(JB):          </th> <td>7.96e-12</td>\n",
              "</tr>\n",
              "<tr>\n",
              "  <th>Kurtosis:</th>      <td> 3.525</td> <th>  Cond. No.          </th> <td>3.41e+06</td>\n",
              "</tr>\n",
              "</table><br/><br/>Notes:<br/>[1] R² is computed without centering (uncentered) since the model does not contain a constant.<br/>[2] Standard Errors assume that the covariance matrix of the errors is correctly specified.<br/>[3] The condition number is large, 3.41e+06. This might indicate that there are<br/>strong multicollinearity or other numerical problems."
            ],
            "text/plain": [
              "<class 'statsmodels.iolib.summary.Summary'>\n",
              "\"\"\"\n",
              "                                   OLS Regression Results                                  \n",
              "===========================================================================================\n",
              "Dep. Variable:     total_amount_withdrawn   R-squared (uncentered):                   0.874\n",
              "Model:                                OLS   Adj. R-squared (uncentered):              0.873\n",
              "Method:                     Least Squares   F-statistic:                              2208.\n",
              "Date:                    Wed, 23 Sep 2020   Prob (F-statistic):                        0.00\n",
              "Time:                            16:53:23   Log-Likelihood:                         -30576.\n",
              "No. Observations:                    2241   AIC:                                  6.117e+04\n",
              "Df Residuals:                        2234   BIC:                                  6.121e+04\n",
              "Df Model:                               7                                                  \n",
              "Covariance Type:                nonrobust                                                  \n",
              "=======================================================================================\n",
              "                          coef    std err          t      P>|t|      [0.025      0.975]\n",
              "---------------------------------------------------------------------------------------\n",
              "trans_date_set      -2.951e+04   2476.087    -11.916      0.000   -3.44e+04   -2.47e+04\n",
              "trans_year             90.5130     10.648      8.500      0.000      69.632     111.394\n",
              "prevweek_mean           0.6442      0.023     28.500      0.000       0.600       0.689\n",
              "weekday_SATURDAY     1.939e+05   1.83e+04     10.598      0.000    1.58e+05     2.3e+05\n",
              "festival_religion_H -9.948e+04   2.58e+04     -3.852      0.000    -1.5e+05   -4.88e+04\n",
              "working_day_W        9.904e+04   1.04e+04      9.522      0.000    7.86e+04    1.19e+05\n",
              "nextday_holiday_W    3.551e+04   1.23e+04      2.877      0.004    1.13e+04    5.97e+04\n",
              "==============================================================================\n",
              "Omnibus:                       41.977   Durbin-Watson:                   1.267\n",
              "Prob(Omnibus):                  0.000   Jarque-Bera (JB):               51.114\n",
              "Skew:                           0.261   Prob(JB):                     7.96e-12\n",
              "Kurtosis:                       3.525   Cond. No.                     3.41e+06\n",
              "==============================================================================\n",
              "\n",
              "Notes:\n",
              "[1] R² is computed without centering (uncentered) since the model does not contain a constant.\n",
              "[2] Standard Errors assume that the covariance matrix of the errors is correctly specified.\n",
              "[3] The condition number is large, 3.41e+06. This might indicate that there are\n",
              "strong multicollinearity or other numerical problems.\n",
              "\"\"\""
            ]
          },
          "metadata": {
            "tags": []
          },
          "execution_count": 339
        }
      ]
    },
    {
      "cell_type": "markdown",
      "metadata": {
        "id": "AwY8ifIAehj_"
      },
      "source": [
        "These are the features that we select for our further analysis "
      ]
    },
    {
      "cell_type": "code",
      "metadata": {
        "id": "nRRhw33ueyda",
        "colab": {
          "base_uri": "https://localhost:8080/",
          "height": 422
        },
        "outputId": "658c8d58-d7b7-460c-c065-ecefb303d3a8"
      },
      "source": [
        "atm4 = pd.concat([x,y],axis = 1)\n",
        "atm4"
      ],
      "execution_count": null,
      "outputs": [
        {
          "output_type": "execute_result",
          "data": {
            "text/html": [
              "<div>\n",
              "<style scoped>\n",
              "    .dataframe tbody tr th:only-of-type {\n",
              "        vertical-align: middle;\n",
              "    }\n",
              "\n",
              "    .dataframe tbody tr th {\n",
              "        vertical-align: top;\n",
              "    }\n",
              "\n",
              "    .dataframe thead th {\n",
              "        text-align: right;\n",
              "    }\n",
              "</style>\n",
              "<table border=\"1\" class=\"dataframe\">\n",
              "  <thead>\n",
              "    <tr style=\"text-align: right;\">\n",
              "      <th></th>\n",
              "      <th>trans_date_set</th>\n",
              "      <th>trans_year</th>\n",
              "      <th>prevweek_mean</th>\n",
              "      <th>weekday_SATURDAY</th>\n",
              "      <th>festival_religion_H</th>\n",
              "      <th>working_day_W</th>\n",
              "      <th>nextday_holiday_W</th>\n",
              "      <th>total_amount_withdrawn</th>\n",
              "    </tr>\n",
              "  </thead>\n",
              "  <tbody>\n",
              "    <tr>\n",
              "      <th>0</th>\n",
              "      <td>1</td>\n",
              "      <td>2011</td>\n",
              "      <td>648600</td>\n",
              "      <td>0</td>\n",
              "      <td>0</td>\n",
              "      <td>1</td>\n",
              "      <td>1</td>\n",
              "      <td>897100</td>\n",
              "    </tr>\n",
              "    <tr>\n",
              "      <th>1</th>\n",
              "      <td>1</td>\n",
              "      <td>2011</td>\n",
              "      <td>648600</td>\n",
              "      <td>0</td>\n",
              "      <td>0</td>\n",
              "      <td>1</td>\n",
              "      <td>1</td>\n",
              "      <td>826000</td>\n",
              "    </tr>\n",
              "    <tr>\n",
              "      <th>2</th>\n",
              "      <td>1</td>\n",
              "      <td>2011</td>\n",
              "      <td>648600</td>\n",
              "      <td>0</td>\n",
              "      <td>0</td>\n",
              "      <td>1</td>\n",
              "      <td>1</td>\n",
              "      <td>754400</td>\n",
              "    </tr>\n",
              "    <tr>\n",
              "      <th>3</th>\n",
              "      <td>2</td>\n",
              "      <td>2011</td>\n",
              "      <td>648600</td>\n",
              "      <td>0</td>\n",
              "      <td>0</td>\n",
              "      <td>1</td>\n",
              "      <td>1</td>\n",
              "      <td>834200</td>\n",
              "    </tr>\n",
              "    <tr>\n",
              "      <th>4</th>\n",
              "      <td>2</td>\n",
              "      <td>2011</td>\n",
              "      <td>648600</td>\n",
              "      <td>0</td>\n",
              "      <td>0</td>\n",
              "      <td>1</td>\n",
              "      <td>1</td>\n",
              "      <td>575300</td>\n",
              "    </tr>\n",
              "    <tr>\n",
              "      <th>...</th>\n",
              "      <td>...</td>\n",
              "      <td>...</td>\n",
              "      <td>...</td>\n",
              "      <td>...</td>\n",
              "      <td>...</td>\n",
              "      <td>...</td>\n",
              "      <td>...</td>\n",
              "      <td>...</td>\n",
              "    </tr>\n",
              "    <tr>\n",
              "      <th>2239</th>\n",
              "      <td>5</td>\n",
              "      <td>2017</td>\n",
              "      <td>276058</td>\n",
              "      <td>0</td>\n",
              "      <td>0</td>\n",
              "      <td>1</td>\n",
              "      <td>1</td>\n",
              "      <td>447400</td>\n",
              "    </tr>\n",
              "    <tr>\n",
              "      <th>2240</th>\n",
              "      <td>6</td>\n",
              "      <td>2017</td>\n",
              "      <td>276058</td>\n",
              "      <td>0</td>\n",
              "      <td>0</td>\n",
              "      <td>1</td>\n",
              "      <td>1</td>\n",
              "      <td>153800</td>\n",
              "    </tr>\n",
              "    <tr>\n",
              "      <th>2241</th>\n",
              "      <td>6</td>\n",
              "      <td>2017</td>\n",
              "      <td>276058</td>\n",
              "      <td>0</td>\n",
              "      <td>0</td>\n",
              "      <td>1</td>\n",
              "      <td>1</td>\n",
              "      <td>167100</td>\n",
              "    </tr>\n",
              "    <tr>\n",
              "      <th>2242</th>\n",
              "      <td>6</td>\n",
              "      <td>2017</td>\n",
              "      <td>276058</td>\n",
              "      <td>0</td>\n",
              "      <td>0</td>\n",
              "      <td>1</td>\n",
              "      <td>0</td>\n",
              "      <td>317400</td>\n",
              "    </tr>\n",
              "    <tr>\n",
              "      <th>2243</th>\n",
              "      <td>6</td>\n",
              "      <td>2017</td>\n",
              "      <td>276058</td>\n",
              "      <td>0</td>\n",
              "      <td>1</td>\n",
              "      <td>0</td>\n",
              "      <td>0</td>\n",
              "      <td>305100</td>\n",
              "    </tr>\n",
              "  </tbody>\n",
              "</table>\n",
              "<p>2241 rows × 8 columns</p>\n",
              "</div>"
            ],
            "text/plain": [
              "      trans_date_set  trans_year  ...  nextday_holiday_W  total_amount_withdrawn\n",
              "0                  1        2011  ...                  1                  897100\n",
              "1                  1        2011  ...                  1                  826000\n",
              "2                  1        2011  ...                  1                  754400\n",
              "3                  2        2011  ...                  1                  834200\n",
              "4                  2        2011  ...                  1                  575300\n",
              "...              ...         ...  ...                ...                     ...\n",
              "2239               5        2017  ...                  1                  447400\n",
              "2240               6        2017  ...                  1                  153800\n",
              "2241               6        2017  ...                  1                  167100\n",
              "2242               6        2017  ...                  0                  317400\n",
              "2243               6        2017  ...                  0                  305100\n",
              "\n",
              "[2241 rows x 8 columns]"
            ]
          },
          "metadata": {
            "tags": []
          },
          "execution_count": 340
        }
      ]
    },
    {
      "cell_type": "markdown",
      "metadata": {
        "id": "l1-ubSQJgH0u"
      },
      "source": [
        "*Splitting the data into Train and test data*"
      ]
    },
    {
      "cell_type": "code",
      "metadata": {
        "id": "xr_-EGUPgGZv"
      },
      "source": [
        "from sklearn.model_selection import train_test_split\n",
        "xtrain,xtest,ytrain,ytest = train_test_split(x,y,test_size = 0.2, random_state = 0)"
      ],
      "execution_count": null,
      "outputs": []
    },
    {
      "cell_type": "markdown",
      "metadata": {
        "id": "bGHY2NJ88Jac"
      },
      "source": [
        "***Multiple Linear Regression***"
      ]
    },
    {
      "cell_type": "markdown",
      "metadata": {
        "id": "pgNWykkiuBdf"
      },
      "source": [
        "*Fitting Multiple Regression Model*"
      ]
    },
    {
      "cell_type": "code",
      "metadata": {
        "id": "bM0M5bS7uAIb",
        "colab": {
          "base_uri": "https://localhost:8080/",
          "height": 84
        },
        "outputId": "c340a4a1-2aa7-4179-ab9f-c012620efef3"
      },
      "source": [
        "from sklearn.linear_model import  LinearRegression\n",
        "from sklearn.metrics import mean_absolute_error,mean_squared_error,r2_score\n",
        "from math import sqrt\n",
        "\n",
        "regmodel = LinearRegression()\n",
        "regmodel.fit(xtrain,ytrain)\n",
        "\n",
        "ypred = regmodel.predict(xtest)\n",
        "\n",
        "print('R square:', r2_score(ytest,ypred))\n",
        "mse = mean_squared_error(ytest,ypred)\n",
        "print('Mean Square Error',mse)\n",
        "rmse = sqrt(mse)\n",
        "print('Root mean square error:',rmse)\n",
        "\n",
        "print('Mean Absolute Error:',mean_absolute_error(ytest,ypred))"
      ],
      "execution_count": null,
      "outputs": [
        {
          "output_type": "stream",
          "text": [
            "R square: 0.35752843558497005\n",
            "Mean Square Error 40908407407.77196\n",
            "Root mean square error: 202258.2690714324\n",
            "Mean Absolute Error: 157232.89289760627\n"
          ],
          "name": "stdout"
        }
      ]
    },
    {
      "cell_type": "markdown",
      "metadata": {
        "id": "buHs7NI5k-Zq"
      },
      "source": [
        "*Scaling the dataset*"
      ]
    },
    {
      "cell_type": "code",
      "metadata": {
        "id": "E4LGmMCTlD1s"
      },
      "source": [
        "from sklearn.preprocessing import StandardScaler\n",
        "sc_x = StandardScaler()\n",
        "sc_y = StandardScaler()\n",
        "\n",
        "xtrain1 = sc_x.fit_transform(xtrain)\n",
        "xtest1 = sc_x.transform(xtest)\n",
        "\n",
        "ytrain1 = sc_y.fit_transform(ytrain.values.reshape(-1,1))\n",
        "ytest1 = sc_y.transform(ytest.values.reshape(-1,1))"
      ],
      "execution_count": null,
      "outputs": []
    },
    {
      "cell_type": "markdown",
      "metadata": {
        "id": "aWqb4Ay7nBpR"
      },
      "source": [
        "*Linear Regression on Scaled Data*"
      ]
    },
    {
      "cell_type": "code",
      "metadata": {
        "id": "-nU00EbKl-rj",
        "colab": {
          "base_uri": "https://localhost:8080/",
          "height": 84
        },
        "outputId": "7bda25cf-c2e7-42aa-fd14-f0a77b36ae85"
      },
      "source": [
        "regmodel1 = LinearRegression()\n",
        "regmodel1.fit(xtrain1,ytrain1)\n",
        "\n",
        "ypred1 = regmodel1.predict(xtest1)\n",
        "\n",
        "print('R square:', r2_score(ytest1,ypred1))\n",
        "mse = mean_squared_error(ytest1,ypred1)\n",
        "print('Mean Square Error',mse)\n",
        "rmse = sqrt(mse)\n",
        "print('Root mean square error:',rmse)\n",
        "\n",
        "print('Mean Absolute Error:',mean_absolute_error(ytest1,ypred1))"
      ],
      "execution_count": null,
      "outputs": [
        {
          "output_type": "stream",
          "text": [
            "R square: 0.35752843557893466\n",
            "Mean Square Error 0.6360764829787335\n",
            "Root mean square error: 0.7975440319999476\n",
            "Mean Absolute Error: 0.6200001411087102\n"
          ],
          "name": "stdout"
        }
      ]
    },
    {
      "cell_type": "markdown",
      "metadata": {
        "id": "ac7rHlBE8NS9"
      },
      "source": [
        "**Polynomial Regression**"
      ]
    },
    {
      "cell_type": "code",
      "metadata": {
        "id": "uXXlRPQP8NqF",
        "colab": {
          "base_uri": "https://localhost:8080/",
          "height": 84
        },
        "outputId": "abbd3877-4075-4f29-ebc2-f7a21928fe9f"
      },
      "source": [
        "from sklearn.preprocessing import PolynomialFeatures\n",
        "from sklearn.pipeline import Pipeline\n",
        "\n",
        "#Fitting a Polynomial Regression of Degree 2\n",
        "Input=[('polynomial',PolynomialFeatures(degree=2)),('Linear',LinearRegression())]\n",
        "pipe=Pipeline(Input)\n",
        "pipe.fit(xtrain1,ytrain1.reshape(-1,1))\n",
        "polypred = pipe.predict(xtest1)\n",
        "\n",
        "print('R square:', r2_score(ytest1,polypred))\n",
        "mse = mean_squared_error(ytest1,polypred)\n",
        "print('Mean Square Error',mse)\n",
        "rmse = sqrt(mse)\n",
        "print('Root mean square error:',rmse)\n",
        "\n",
        "print('Mean Absolute Error:',mean_absolute_error(ytest1,polypred))\n"
      ],
      "execution_count": null,
      "outputs": [
        {
          "output_type": "stream",
          "text": [
            "R square: 0.45544976737896037\n",
            "Mean Square Error 0.5391298478446483\n",
            "Root mean square error: 0.7342546205810682\n",
            "Mean Absolute Error: 0.5532581912600947\n"
          ],
          "name": "stdout"
        }
      ]
    },
    {
      "cell_type": "markdown",
      "metadata": {
        "id": "PscX-BdKncnh"
      },
      "source": [
        "***Random Forest Regression***"
      ]
    },
    {
      "cell_type": "code",
      "metadata": {
        "id": "VpMJHbDDnUHx",
        "colab": {
          "base_uri": "https://localhost:8080/",
          "height": 138
        },
        "outputId": "d5154001-f1cf-4a38-e1d8-672ece1d54db"
      },
      "source": [
        "from sklearn.ensemble import RandomForestRegressor\n",
        "\n",
        "rfreg = RandomForestRegressor(n_estimators = 100, random_state = 0)\n",
        "rfreg.fit(xtrain1,ytrain1)\n",
        "\n",
        "rfpred = rfreg.predict(xtest1)\n",
        "\n",
        "print('R square:', r2_score(ytest1,rfpred))\n",
        "mse = mean_squared_error(ytest1,rfpred)\n",
        "print('Mean Square Error',mse)\n",
        "rmse = sqrt(mse)\n",
        "print('Root mean square error:',rmse)\n",
        "\n",
        "print('Mean Absolute Error:',mean_absolute_error(ytest1,rfpred))"
      ],
      "execution_count": null,
      "outputs": [
        {
          "output_type": "stream",
          "text": [
            "/usr/local/lib/python3.6/dist-packages/ipykernel_launcher.py:4: DataConversionWarning: A column-vector y was passed when a 1d array was expected. Please change the shape of y to (n_samples,), for example using ravel().\n",
            "  after removing the cwd from sys.path.\n"
          ],
          "name": "stderr"
        },
        {
          "output_type": "stream",
          "text": [
            "R square: 0.4528694254040868\n",
            "Mean Square Error 0.5416845054188538\n",
            "Root mean square error: 0.7359921911398611\n",
            "Mean Absolute Error: 0.5523105654598204\n"
          ],
          "name": "stdout"
        }
      ]
    },
    {
      "cell_type": "markdown",
      "metadata": {
        "id": "49zu82c0STGk"
      },
      "source": [
        "![r1.PNG](data:image/png;base64,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)"
      ]
    },
    {
      "cell_type": "markdown",
      "metadata": {
        "id": "RI6K2VtVSyix"
      },
      "source": [
        "Since the Root mean square error (RMSE) is less of Polynomial Regression is less than the other models along with high R square we go wit it."
      ]
    },
    {
      "cell_type": "markdown",
      "metadata": {
        "id": "zQ83KSkvcGIn"
      },
      "source": [
        "**Time Series**"
      ]
    },
    {
      "cell_type": "markdown",
      "metadata": {
        "id": "MVSMrcZ8c48Y"
      },
      "source": [
        "*Making Time series Data*"
      ]
    },
    {
      "cell_type": "code",
      "metadata": {
        "id": "Iu6injuCcR3f",
        "colab": {
          "base_uri": "https://localhost:8080/",
          "height": 402
        },
        "outputId": "31e0fea7-7f42-4ddd-9dbb-493e33276b3c"
      },
      "source": [
        "tsdata = atm.loc[:,['trans_month','trans_year','total_amount_withdrawn']]\n",
        "tsdata"
      ],
      "execution_count": null,
      "outputs": [
        {
          "output_type": "execute_result",
          "data": {
            "text/html": [
              "<div>\n",
              "<style scoped>\n",
              "    .dataframe tbody tr th:only-of-type {\n",
              "        vertical-align: middle;\n",
              "    }\n",
              "\n",
              "    .dataframe tbody tr th {\n",
              "        vertical-align: top;\n",
              "    }\n",
              "\n",
              "    .dataframe thead th {\n",
              "        text-align: right;\n",
              "    }\n",
              "</style>\n",
              "<table border=\"1\" class=\"dataframe\">\n",
              "  <thead>\n",
              "    <tr style=\"text-align: right;\">\n",
              "      <th></th>\n",
              "      <th>trans_month</th>\n",
              "      <th>trans_year</th>\n",
              "      <th>total_amount_withdrawn</th>\n",
              "    </tr>\n",
              "  </thead>\n",
              "  <tbody>\n",
              "    <tr>\n",
              "      <th>0</th>\n",
              "      <td>1</td>\n",
              "      <td>2011</td>\n",
              "      <td>897100</td>\n",
              "    </tr>\n",
              "    <tr>\n",
              "      <th>1</th>\n",
              "      <td>1</td>\n",
              "      <td>2011</td>\n",
              "      <td>826000</td>\n",
              "    </tr>\n",
              "    <tr>\n",
              "      <th>2</th>\n",
              "      <td>1</td>\n",
              "      <td>2011</td>\n",
              "      <td>754400</td>\n",
              "    </tr>\n",
              "    <tr>\n",
              "      <th>3</th>\n",
              "      <td>1</td>\n",
              "      <td>2011</td>\n",
              "      <td>834200</td>\n",
              "    </tr>\n",
              "    <tr>\n",
              "      <th>4</th>\n",
              "      <td>1</td>\n",
              "      <td>2011</td>\n",
              "      <td>575300</td>\n",
              "    </tr>\n",
              "    <tr>\n",
              "      <th>...</th>\n",
              "      <td>...</td>\n",
              "      <td>...</td>\n",
              "      <td>...</td>\n",
              "    </tr>\n",
              "    <tr>\n",
              "      <th>2239</th>\n",
              "      <td>9</td>\n",
              "      <td>2017</td>\n",
              "      <td>447400</td>\n",
              "    </tr>\n",
              "    <tr>\n",
              "      <th>2240</th>\n",
              "      <td>9</td>\n",
              "      <td>2017</td>\n",
              "      <td>153800</td>\n",
              "    </tr>\n",
              "    <tr>\n",
              "      <th>2241</th>\n",
              "      <td>9</td>\n",
              "      <td>2017</td>\n",
              "      <td>167100</td>\n",
              "    </tr>\n",
              "    <tr>\n",
              "      <th>2242</th>\n",
              "      <td>9</td>\n",
              "      <td>2017</td>\n",
              "      <td>317400</td>\n",
              "    </tr>\n",
              "    <tr>\n",
              "      <th>2243</th>\n",
              "      <td>9</td>\n",
              "      <td>2017</td>\n",
              "      <td>305100</td>\n",
              "    </tr>\n",
              "  </tbody>\n",
              "</table>\n",
              "<p>2244 rows × 3 columns</p>\n",
              "</div>"
            ],
            "text/plain": [
              "      trans_month  trans_year  total_amount_withdrawn\n",
              "0               1        2011                  897100\n",
              "1               1        2011                  826000\n",
              "2               1        2011                  754400\n",
              "3               1        2011                  834200\n",
              "4               1        2011                  575300\n",
              "...           ...         ...                     ...\n",
              "2239            9        2017                  447400\n",
              "2240            9        2017                  153800\n",
              "2241            9        2017                  167100\n",
              "2242            9        2017                  317400\n",
              "2243            9        2017                  305100\n",
              "\n",
              "[2244 rows x 3 columns]"
            ]
          },
          "metadata": {
            "tags": []
          },
          "execution_count": 346
        }
      ]
    },
    {
      "cell_type": "code",
      "metadata": {
        "id": "87w0kNEoiol2",
        "colab": {
          "base_uri": "https://localhost:8080/",
          "height": 402
        },
        "outputId": "505ba2d4-dce3-4513-a9c3-da0bbd73d16b"
      },
      "source": [
        "tsmean = tsdata.groupby(['trans_year','trans_month']).sum() #Cummulative amunt withdrawn in a month\n",
        "tsmean = pd.DataFrame(tsmean['total_amount_withdrawn'])\n",
        "tsmean\n",
        "tsmean1 = tsmean.values.astype('int')\n",
        "tsmean1\n",
        "tsmean1 = pd.DataFrame(tsmean1)\n",
        "tsmean1"
      ],
      "execution_count": null,
      "outputs": [
        {
          "output_type": "execute_result",
          "data": {
            "text/html": [
              "<div>\n",
              "<style scoped>\n",
              "    .dataframe tbody tr th:only-of-type {\n",
              "        vertical-align: middle;\n",
              "    }\n",
              "\n",
              "    .dataframe tbody tr th {\n",
              "        vertical-align: top;\n",
              "    }\n",
              "\n",
              "    .dataframe thead th {\n",
              "        text-align: right;\n",
              "    }\n",
              "</style>\n",
              "<table border=\"1\" class=\"dataframe\">\n",
              "  <thead>\n",
              "    <tr style=\"text-align: right;\">\n",
              "      <th></th>\n",
              "      <th>0</th>\n",
              "    </tr>\n",
              "  </thead>\n",
              "  <tbody>\n",
              "    <tr>\n",
              "      <th>0</th>\n",
              "      <td>14870100</td>\n",
              "    </tr>\n",
              "    <tr>\n",
              "      <th>1</th>\n",
              "      <td>13852800</td>\n",
              "    </tr>\n",
              "    <tr>\n",
              "      <th>2</th>\n",
              "      <td>16366000</td>\n",
              "    </tr>\n",
              "    <tr>\n",
              "      <th>3</th>\n",
              "      <td>15391400</td>\n",
              "    </tr>\n",
              "    <tr>\n",
              "      <th>4</th>\n",
              "      <td>18080800</td>\n",
              "    </tr>\n",
              "    <tr>\n",
              "      <th>...</th>\n",
              "      <td>...</td>\n",
              "    </tr>\n",
              "    <tr>\n",
              "      <th>76</th>\n",
              "      <td>7458600</td>\n",
              "    </tr>\n",
              "    <tr>\n",
              "      <th>77</th>\n",
              "      <td>6811100</td>\n",
              "    </tr>\n",
              "    <tr>\n",
              "      <th>78</th>\n",
              "      <td>7415700</td>\n",
              "    </tr>\n",
              "    <tr>\n",
              "      <th>79</th>\n",
              "      <td>7100200</td>\n",
              "    </tr>\n",
              "    <tr>\n",
              "      <th>80</th>\n",
              "      <td>7633300</td>\n",
              "    </tr>\n",
              "  </tbody>\n",
              "</table>\n",
              "<p>81 rows × 1 columns</p>\n",
              "</div>"
            ],
            "text/plain": [
              "           0\n",
              "0   14870100\n",
              "1   13852800\n",
              "2   16366000\n",
              "3   15391400\n",
              "4   18080800\n",
              "..       ...\n",
              "76   7458600\n",
              "77   6811100\n",
              "78   7415700\n",
              "79   7100200\n",
              "80   7633300\n",
              "\n",
              "[81 rows x 1 columns]"
            ]
          },
          "metadata": {
            "tags": []
          },
          "execution_count": 347
        }
      ]
    },
    {
      "cell_type": "code",
      "metadata": {
        "id": "bHTzD46v90pR",
        "colab": {
          "base_uri": "https://localhost:8080/",
          "height": 218
        },
        "outputId": "02f8420e-0e3e-4c4e-9099-98f44a223d57"
      },
      "source": [
        "idx = pd.Series(pd.period_range('20110101', freq='M', periods=81))\n",
        "idx"
      ],
      "execution_count": null,
      "outputs": [
        {
          "output_type": "execute_result",
          "data": {
            "text/plain": [
              "0     2011-01\n",
              "1     2011-02\n",
              "2     2011-03\n",
              "3     2011-04\n",
              "4     2011-05\n",
              "       ...   \n",
              "76    2017-05\n",
              "77    2017-06\n",
              "78    2017-07\n",
              "79    2017-08\n",
              "80    2017-09\n",
              "Length: 81, dtype: period[M]"
            ]
          },
          "metadata": {
            "tags": []
          },
          "execution_count": 348
        }
      ]
    },
    {
      "cell_type": "code",
      "metadata": {
        "id": "eyMXf8Nd_eAY",
        "colab": {
          "base_uri": "https://localhost:8080/",
          "height": 402
        },
        "outputId": "5a596bf5-00f0-4bf6-989a-d85830ede429"
      },
      "source": [
        "dates = pd.to_datetime(idx.astype(str))\n",
        "dates\n",
        "dates = pd.DataFrame(dates)\n",
        "dates"
      ],
      "execution_count": null,
      "outputs": [
        {
          "output_type": "execute_result",
          "data": {
            "text/html": [
              "<div>\n",
              "<style scoped>\n",
              "    .dataframe tbody tr th:only-of-type {\n",
              "        vertical-align: middle;\n",
              "    }\n",
              "\n",
              "    .dataframe tbody tr th {\n",
              "        vertical-align: top;\n",
              "    }\n",
              "\n",
              "    .dataframe thead th {\n",
              "        text-align: right;\n",
              "    }\n",
              "</style>\n",
              "<table border=\"1\" class=\"dataframe\">\n",
              "  <thead>\n",
              "    <tr style=\"text-align: right;\">\n",
              "      <th></th>\n",
              "      <th>0</th>\n",
              "    </tr>\n",
              "  </thead>\n",
              "  <tbody>\n",
              "    <tr>\n",
              "      <th>0</th>\n",
              "      <td>2011-01-01</td>\n",
              "    </tr>\n",
              "    <tr>\n",
              "      <th>1</th>\n",
              "      <td>2011-02-01</td>\n",
              "    </tr>\n",
              "    <tr>\n",
              "      <th>2</th>\n",
              "      <td>2011-03-01</td>\n",
              "    </tr>\n",
              "    <tr>\n",
              "      <th>3</th>\n",
              "      <td>2011-04-01</td>\n",
              "    </tr>\n",
              "    <tr>\n",
              "      <th>4</th>\n",
              "      <td>2011-05-01</td>\n",
              "    </tr>\n",
              "    <tr>\n",
              "      <th>...</th>\n",
              "      <td>...</td>\n",
              "    </tr>\n",
              "    <tr>\n",
              "      <th>76</th>\n",
              "      <td>2017-05-01</td>\n",
              "    </tr>\n",
              "    <tr>\n",
              "      <th>77</th>\n",
              "      <td>2017-06-01</td>\n",
              "    </tr>\n",
              "    <tr>\n",
              "      <th>78</th>\n",
              "      <td>2017-07-01</td>\n",
              "    </tr>\n",
              "    <tr>\n",
              "      <th>79</th>\n",
              "      <td>2017-08-01</td>\n",
              "    </tr>\n",
              "    <tr>\n",
              "      <th>80</th>\n",
              "      <td>2017-09-01</td>\n",
              "    </tr>\n",
              "  </tbody>\n",
              "</table>\n",
              "<p>81 rows × 1 columns</p>\n",
              "</div>"
            ],
            "text/plain": [
              "            0\n",
              "0  2011-01-01\n",
              "1  2011-02-01\n",
              "2  2011-03-01\n",
              "3  2011-04-01\n",
              "4  2011-05-01\n",
              "..        ...\n",
              "76 2017-05-01\n",
              "77 2017-06-01\n",
              "78 2017-07-01\n",
              "79 2017-08-01\n",
              "80 2017-09-01\n",
              "\n",
              "[81 rows x 1 columns]"
            ]
          },
          "metadata": {
            "tags": []
          },
          "execution_count": 349
        }
      ]
    },
    {
      "cell_type": "code",
      "metadata": {
        "id": "sTfsHOzVht_O",
        "colab": {
          "base_uri": "https://localhost:8080/",
          "height": 402
        },
        "outputId": "cab85abe-8436-49c1-b5f6-60882605b10c"
      },
      "source": [
        "tsdata1 = pd.concat([dates,tsmean1],axis = 1)\n",
        "tsdata1.columns = ['date','total_amount_withdrawn']\n",
        "tsdata1"
      ],
      "execution_count": null,
      "outputs": [
        {
          "output_type": "execute_result",
          "data": {
            "text/html": [
              "<div>\n",
              "<style scoped>\n",
              "    .dataframe tbody tr th:only-of-type {\n",
              "        vertical-align: middle;\n",
              "    }\n",
              "\n",
              "    .dataframe tbody tr th {\n",
              "        vertical-align: top;\n",
              "    }\n",
              "\n",
              "    .dataframe thead th {\n",
              "        text-align: right;\n",
              "    }\n",
              "</style>\n",
              "<table border=\"1\" class=\"dataframe\">\n",
              "  <thead>\n",
              "    <tr style=\"text-align: right;\">\n",
              "      <th></th>\n",
              "      <th>date</th>\n",
              "      <th>total_amount_withdrawn</th>\n",
              "    </tr>\n",
              "  </thead>\n",
              "  <tbody>\n",
              "    <tr>\n",
              "      <th>0</th>\n",
              "      <td>2011-01-01</td>\n",
              "      <td>14870100</td>\n",
              "    </tr>\n",
              "    <tr>\n",
              "      <th>1</th>\n",
              "      <td>2011-02-01</td>\n",
              "      <td>13852800</td>\n",
              "    </tr>\n",
              "    <tr>\n",
              "      <th>2</th>\n",
              "      <td>2011-03-01</td>\n",
              "      <td>16366000</td>\n",
              "    </tr>\n",
              "    <tr>\n",
              "      <th>3</th>\n",
              "      <td>2011-04-01</td>\n",
              "      <td>15391400</td>\n",
              "    </tr>\n",
              "    <tr>\n",
              "      <th>4</th>\n",
              "      <td>2011-05-01</td>\n",
              "      <td>18080800</td>\n",
              "    </tr>\n",
              "    <tr>\n",
              "      <th>...</th>\n",
              "      <td>...</td>\n",
              "      <td>...</td>\n",
              "    </tr>\n",
              "    <tr>\n",
              "      <th>76</th>\n",
              "      <td>2017-05-01</td>\n",
              "      <td>7458600</td>\n",
              "    </tr>\n",
              "    <tr>\n",
              "      <th>77</th>\n",
              "      <td>2017-06-01</td>\n",
              "      <td>6811100</td>\n",
              "    </tr>\n",
              "    <tr>\n",
              "      <th>78</th>\n",
              "      <td>2017-07-01</td>\n",
              "      <td>7415700</td>\n",
              "    </tr>\n",
              "    <tr>\n",
              "      <th>79</th>\n",
              "      <td>2017-08-01</td>\n",
              "      <td>7100200</td>\n",
              "    </tr>\n",
              "    <tr>\n",
              "      <th>80</th>\n",
              "      <td>2017-09-01</td>\n",
              "      <td>7633300</td>\n",
              "    </tr>\n",
              "  </tbody>\n",
              "</table>\n",
              "<p>81 rows × 2 columns</p>\n",
              "</div>"
            ],
            "text/plain": [
              "         date  total_amount_withdrawn\n",
              "0  2011-01-01                14870100\n",
              "1  2011-02-01                13852800\n",
              "2  2011-03-01                16366000\n",
              "3  2011-04-01                15391400\n",
              "4  2011-05-01                18080800\n",
              "..        ...                     ...\n",
              "76 2017-05-01                 7458600\n",
              "77 2017-06-01                 6811100\n",
              "78 2017-07-01                 7415700\n",
              "79 2017-08-01                 7100200\n",
              "80 2017-09-01                 7633300\n",
              "\n",
              "[81 rows x 2 columns]"
            ]
          },
          "metadata": {
            "tags": []
          },
          "execution_count": 350
        }
      ]
    },
    {
      "cell_type": "code",
      "metadata": {
        "id": "f2sb1CzW-SRN",
        "colab": {
          "base_uri": "https://localhost:8080/",
          "height": 312
        },
        "outputId": "7b6c70de-b717-43ed-d30e-5b437f7ab5cf"
      },
      "source": [
        "plt.plot(tsdata1['date'],tsdata1['total_amount_withdrawn'])\n",
        "plt.xlabel('Time')\n",
        "plt.ylabel('Total Amount Withdrawn')\n",
        "plt.title('Total Amount Withdrawn Month-Wise ')"
      ],
      "execution_count": null,
      "outputs": [
        {
          "output_type": "execute_result",
          "data": {
            "text/plain": [
              "Text(0.5, 1.0, 'Total Amount Withdrawn Month-Wise ')"
            ]
          },
          "metadata": {
            "tags": []
          },
          "execution_count": 447
        },
        {
          "output_type": "display_data",
          "data": {
            "image/png": "[encoded data removed]",
            "text/plain": [
              "<Figure size 432x288 with 1 Axes>"
            ]
          },
          "metadata": {
            "tags": [],
            "needs_background": "light"
          }
        }
      ]
    },
    {
      "cell_type": "markdown",
      "metadata": {
        "id": "iGWM48iFNi5T"
      },
      "source": [
        "Here we can see that one point changes falls below the range of the other data points and hence can be said as an outlier."
      ]
    },
    {
      "cell_type": "code",
      "metadata": {
        "id": "wIFj_RaxOALa",
        "colab": {
          "base_uri": "https://localhost:8080/",
          "height": 373
        },
        "outputId": "d6cb22d8-4eff-4a0e-e527-cbf06c7f1e14"
      },
      "source": [
        "tsdata1[70:]"
      ],
      "execution_count": null,
      "outputs": [
        {
          "output_type": "execute_result",
          "data": {
            "text/html": [
              "<div>\n",
              "<style scoped>\n",
              "    .dataframe tbody tr th:only-of-type {\n",
              "        vertical-align: middle;\n",
              "    }\n",
              "\n",
              "    .dataframe tbody tr th {\n",
              "        vertical-align: top;\n",
              "    }\n",
              "\n",
              "    .dataframe thead th {\n",
              "        text-align: right;\n",
              "    }\n",
              "</style>\n",
              "<table border=\"1\" class=\"dataframe\">\n",
              "  <thead>\n",
              "    <tr style=\"text-align: right;\">\n",
              "      <th></th>\n",
              "      <th>date</th>\n",
              "      <th>total_amount_withdrawn</th>\n",
              "    </tr>\n",
              "  </thead>\n",
              "  <tbody>\n",
              "    <tr>\n",
              "      <th>70</th>\n",
              "      <td>2016-11-01</td>\n",
              "      <td>1468600</td>\n",
              "    </tr>\n",
              "    <tr>\n",
              "      <th>71</th>\n",
              "      <td>2016-12-01</td>\n",
              "      <td>100</td>\n",
              "    </tr>\n",
              "    <tr>\n",
              "      <th>72</th>\n",
              "      <td>2017-01-01</td>\n",
              "      <td>1719700</td>\n",
              "    </tr>\n",
              "    <tr>\n",
              "      <th>73</th>\n",
              "      <td>2017-02-01</td>\n",
              "      <td>8357800</td>\n",
              "    </tr>\n",
              "    <tr>\n",
              "      <th>74</th>\n",
              "      <td>2017-03-01</td>\n",
              "      <td>6076000</td>\n",
              "    </tr>\n",
              "    <tr>\n",
              "      <th>75</th>\n",
              "      <td>2017-04-01</td>\n",
              "      <td>11822400</td>\n",
              "    </tr>\n",
              "    <tr>\n",
              "      <th>76</th>\n",
              "      <td>2017-05-01</td>\n",
              "      <td>7458600</td>\n",
              "    </tr>\n",
              "    <tr>\n",
              "      <th>77</th>\n",
              "      <td>2017-06-01</td>\n",
              "      <td>6811100</td>\n",
              "    </tr>\n",
              "    <tr>\n",
              "      <th>78</th>\n",
              "      <td>2017-07-01</td>\n",
              "      <td>7415700</td>\n",
              "    </tr>\n",
              "    <tr>\n",
              "      <th>79</th>\n",
              "      <td>2017-08-01</td>\n",
              "      <td>7100200</td>\n",
              "    </tr>\n",
              "    <tr>\n",
              "      <th>80</th>\n",
              "      <td>2017-09-01</td>\n",
              "      <td>7633300</td>\n",
              "    </tr>\n",
              "  </tbody>\n",
              "</table>\n",
              "</div>"
            ],
            "text/plain": [
              "         date  total_amount_withdrawn\n",
              "70 2016-11-01                 1468600\n",
              "71 2016-12-01                     100\n",
              "72 2017-01-01                 1719700\n",
              "73 2017-02-01                 8357800\n",
              "74 2017-03-01                 6076000\n",
              "75 2017-04-01                11822400\n",
              "76 2017-05-01                 7458600\n",
              "77 2017-06-01                 6811100\n",
              "78 2017-07-01                 7415700\n",
              "79 2017-08-01                 7100200\n",
              "80 2017-09-01                 7633300"
            ]
          },
          "metadata": {
            "tags": []
          },
          "execution_count": 352
        }
      ]
    },
    {
      "cell_type": "code",
      "metadata": {
        "id": "EtxHWCMqR45F",
        "colab": {
          "base_uri": "https://localhost:8080/",
          "height": 34
        },
        "outputId": "87f06d05-8475-44cc-fb2a-44322d5c7872"
      },
      "source": [
        "tsdata1.iloc[70,1]"
      ],
      "execution_count": null,
      "outputs": [
        {
          "output_type": "execute_result",
          "data": {
            "text/plain": [
              "1468600"
            ]
          },
          "metadata": {
            "tags": []
          },
          "execution_count": 353
        }
      ]
    },
    {
      "cell_type": "markdown",
      "metadata": {
        "id": "mMujoXpmOD9c"
      },
      "source": [
        "Here we see that the total amount witrhdrawn for the month of December 2016 is far less than all the other values. Therefore we eliminate that value and impute it with the mean of of it's consecutive datapoints. "
      ]
    },
    {
      "cell_type": "code",
      "metadata": {
        "id": "akgedbETOxYK"
      },
      "source": [
        "from statistics import mean\n",
        "a = tsdata1.iloc[70,1]\n",
        "b = tsdata1.iloc[72,1]\n",
        "tsdata1.iloc[71,1] = mean([a,b])"
      ],
      "execution_count": null,
      "outputs": []
    },
    {
      "cell_type": "code",
      "metadata": {
        "id": "z5oFsYJcS0hL",
        "colab": {
          "base_uri": "https://localhost:8080/",
          "height": 373
        },
        "outputId": "d7e6de61-e3e5-4ca2-d7ad-997281fead7c"
      },
      "source": [
        "tsdata1[70:]"
      ],
      "execution_count": null,
      "outputs": [
        {
          "output_type": "execute_result",
          "data": {
            "text/html": [
              "<div>\n",
              "<style scoped>\n",
              "    .dataframe tbody tr th:only-of-type {\n",
              "        vertical-align: middle;\n",
              "    }\n",
              "\n",
              "    .dataframe tbody tr th {\n",
              "        vertical-align: top;\n",
              "    }\n",
              "\n",
              "    .dataframe thead th {\n",
              "        text-align: right;\n",
              "    }\n",
              "</style>\n",
              "<table border=\"1\" class=\"dataframe\">\n",
              "  <thead>\n",
              "    <tr style=\"text-align: right;\">\n",
              "      <th></th>\n",
              "      <th>date</th>\n",
              "      <th>total_amount_withdrawn</th>\n",
              "    </tr>\n",
              "  </thead>\n",
              "  <tbody>\n",
              "    <tr>\n",
              "      <th>70</th>\n",
              "      <td>2016-11-01</td>\n",
              "      <td>1468600</td>\n",
              "    </tr>\n",
              "    <tr>\n",
              "      <th>71</th>\n",
              "      <td>2016-12-01</td>\n",
              "      <td>1594150</td>\n",
              "    </tr>\n",
              "    <tr>\n",
              "      <th>72</th>\n",
              "      <td>2017-01-01</td>\n",
              "      <td>1719700</td>\n",
              "    </tr>\n",
              "    <tr>\n",
              "      <th>73</th>\n",
              "      <td>2017-02-01</td>\n",
              "      <td>8357800</td>\n",
              "    </tr>\n",
              "    <tr>\n",
              "      <th>74</th>\n",
              "      <td>2017-03-01</td>\n",
              "      <td>6076000</td>\n",
              "    </tr>\n",
              "    <tr>\n",
              "      <th>75</th>\n",
              "      <td>2017-04-01</td>\n",
              "      <td>11822400</td>\n",
              "    </tr>\n",
              "    <tr>\n",
              "      <th>76</th>\n",
              "      <td>2017-05-01</td>\n",
              "      <td>7458600</td>\n",
              "    </tr>\n",
              "    <tr>\n",
              "      <th>77</th>\n",
              "      <td>2017-06-01</td>\n",
              "      <td>6811100</td>\n",
              "    </tr>\n",
              "    <tr>\n",
              "      <th>78</th>\n",
              "      <td>2017-07-01</td>\n",
              "      <td>7415700</td>\n",
              "    </tr>\n",
              "    <tr>\n",
              "      <th>79</th>\n",
              "      <td>2017-08-01</td>\n",
              "      <td>7100200</td>\n",
              "    </tr>\n",
              "    <tr>\n",
              "      <th>80</th>\n",
              "      <td>2017-09-01</td>\n",
              "      <td>7633300</td>\n",
              "    </tr>\n",
              "  </tbody>\n",
              "</table>\n",
              "</div>"
            ],
            "text/plain": [
              "         date  total_amount_withdrawn\n",
              "70 2016-11-01                 1468600\n",
              "71 2016-12-01                 1594150\n",
              "72 2017-01-01                 1719700\n",
              "73 2017-02-01                 8357800\n",
              "74 2017-03-01                 6076000\n",
              "75 2017-04-01                11822400\n",
              "76 2017-05-01                 7458600\n",
              "77 2017-06-01                 6811100\n",
              "78 2017-07-01                 7415700\n",
              "79 2017-08-01                 7100200\n",
              "80 2017-09-01                 7633300"
            ]
          },
          "metadata": {
            "tags": []
          },
          "execution_count": 449
        }
      ]
    },
    {
      "cell_type": "code",
      "metadata": {
        "id": "2w1p9Ui0TBou",
        "colab": {
          "base_uri": "https://localhost:8080/",
          "height": 312
        },
        "outputId": "5782715d-32af-48fa-8125-28ec288cfe74"
      },
      "source": [
        "plt.plot(tsdata1['date'],tsdata1['total_amount_withdrawn'])\n",
        "plt.xlabel('Time')\n",
        "plt.ylabel('Total Amount Withdrawn')\n",
        "plt.title('Total Amount Withdrawn Month-Wise ')"
      ],
      "execution_count": null,
      "outputs": [
        {
          "output_type": "execute_result",
          "data": {
            "text/plain": [
              "Text(0.5, 1.0, 'Total Amount Withdrawn Month-Wise ')"
            ]
          },
          "metadata": {
            "tags": []
          },
          "execution_count": 450
        },
        {
          "output_type": "display_data",
          "data": {
            "image/png": "[encoded data removed]",
            "text/plain": [
              "<Figure size 432x288 with 1 Axes>"
            ]
          },
          "metadata": {
            "tags": [],
            "needs_background": "light"
          }
        }
      ]
    },
    {
      "cell_type": "code",
      "metadata": {
        "id": "fF2fWhddKimX",
        "colab": {
          "base_uri": "https://localhost:8080/",
          "height": 431
        },
        "outputId": "6fcb5688-8866-418c-f5dc-ad144e85271e"
      },
      "source": [
        "tsdata2 = tsdata1.set_index('date')\n",
        "tsdata2"
      ],
      "execution_count": null,
      "outputs": [
        {
          "output_type": "execute_result",
          "data": {
            "text/html": [
              "<div>\n",
              "<style scoped>\n",
              "    .dataframe tbody tr th:only-of-type {\n",
              "        vertical-align: middle;\n",
              "    }\n",
              "\n",
              "    .dataframe tbody tr th {\n",
              "        vertical-align: top;\n",
              "    }\n",
              "\n",
              "    .dataframe thead th {\n",
              "        text-align: right;\n",
              "    }\n",
              "</style>\n",
              "<table border=\"1\" class=\"dataframe\">\n",
              "  <thead>\n",
              "    <tr style=\"text-align: right;\">\n",
              "      <th></th>\n",
              "      <th>total_amount_withdrawn</th>\n",
              "    </tr>\n",
              "    <tr>\n",
              "      <th>date</th>\n",
              "      <th></th>\n",
              "    </tr>\n",
              "  </thead>\n",
              "  <tbody>\n",
              "    <tr>\n",
              "      <th>2011-01-01</th>\n",
              "      <td>14870100</td>\n",
              "    </tr>\n",
              "    <tr>\n",
              "      <th>2011-02-01</th>\n",
              "      <td>13852800</td>\n",
              "    </tr>\n",
              "    <tr>\n",
              "      <th>2011-03-01</th>\n",
              "      <td>16366000</td>\n",
              "    </tr>\n",
              "    <tr>\n",
              "      <th>2011-04-01</th>\n",
              "      <td>15391400</td>\n",
              "    </tr>\n",
              "    <tr>\n",
              "      <th>2011-05-01</th>\n",
              "      <td>18080800</td>\n",
              "    </tr>\n",
              "    <tr>\n",
              "      <th>...</th>\n",
              "      <td>...</td>\n",
              "    </tr>\n",
              "    <tr>\n",
              "      <th>2017-05-01</th>\n",
              "      <td>7458600</td>\n",
              "    </tr>\n",
              "    <tr>\n",
              "      <th>2017-06-01</th>\n",
              "      <td>6811100</td>\n",
              "    </tr>\n",
              "    <tr>\n",
              "      <th>2017-07-01</th>\n",
              "      <td>7415700</td>\n",
              "    </tr>\n",
              "    <tr>\n",
              "      <th>2017-08-01</th>\n",
              "      <td>7100200</td>\n",
              "    </tr>\n",
              "    <tr>\n",
              "      <th>2017-09-01</th>\n",
              "      <td>7633300</td>\n",
              "    </tr>\n",
              "  </tbody>\n",
              "</table>\n",
              "<p>81 rows × 1 columns</p>\n",
              "</div>"
            ],
            "text/plain": [
              "            total_amount_withdrawn\n",
              "date                              \n",
              "2011-01-01                14870100\n",
              "2011-02-01                13852800\n",
              "2011-03-01                16366000\n",
              "2011-04-01                15391400\n",
              "2011-05-01                18080800\n",
              "...                            ...\n",
              "2017-05-01                 7458600\n",
              "2017-06-01                 6811100\n",
              "2017-07-01                 7415700\n",
              "2017-08-01                 7100200\n",
              "2017-09-01                 7633300\n",
              "\n",
              "[81 rows x 1 columns]"
            ]
          },
          "metadata": {
            "tags": []
          },
          "execution_count": 451
        }
      ]
    },
    {
      "cell_type": "markdown",
      "metadata": {
        "id": "j53uLt3PMEo7"
      },
      "source": [
        "*Durbin Watson Test to Check AutoCorrelation*\n",
        "\n",
        "A test statistic of 2 indicates no serial correlation.\n",
        "The closer the test statistics is to 0, the more evidence of positive serial correlation.\n",
        "The closer the test statistics is to 4, the more evidence of negative serial correlation."
      ]
    },
    {
      "cell_type": "code",
      "metadata": {
        "id": "c45EV_NbJsUJ",
        "colab": {
          "base_uri": "https://localhost:8080/",
          "height": 34
        },
        "outputId": "44944014-217b-486c-f11b-bb5d87deb1f9"
      },
      "source": [
        "#Durbin Watson Test to Check Autocorrelation\n",
        "from statsmodels.stats.stattools import durbin_watson\n",
        "taw = tsdata2['total_amount_withdrawn'].values\n",
        "durbin_watson(taw)\n",
        "#Since the test statistic is closer to 0,it means that there is some positive autocorrelation "
      ],
      "execution_count": null,
      "outputs": [
        {
          "output_type": "execute_result",
          "data": {
            "text/plain": [
              "0.04739981889833792"
            ]
          },
          "metadata": {
            "tags": []
          },
          "execution_count": 452
        }
      ]
    },
    {
      "cell_type": "markdown",
      "metadata": {
        "id": "jEWnMs9xNeI4"
      },
      "source": [
        "*Looking for Trend and Seasonality in the data*"
      ]
    },
    {
      "cell_type": "code",
      "metadata": {
        "id": "GOO58RKKNdY8",
        "colab": {
          "base_uri": "https://localhost:8080/",
          "height": 297
        },
        "outputId": "876b3910-27b5-4d3e-eeb4-06c6a301434d"
      },
      "source": [
        "from statsmodels.tsa.seasonal import seasonal_decompose\n",
        "dec = seasonal_decompose(tsdata2,model = 'additive')\n",
        "dec.plot()\n",
        "plt.show()\n",
        "\n",
        "#This shows us that we have a trend and seasonality present in our data"
      ],
      "execution_count": null,
      "outputs": [
        {
          "output_type": "display_data",
          "data": {
            "image/png": "[encoded data removed]",
            "text/plain": [
              "<Figure size 432x288 with 4 Axes>"
            ]
          },
          "metadata": {
            "tags": [],
            "needs_background": "light"
          }
        }
      ]
    },
    {
      "cell_type": "markdown",
      "metadata": {
        "id": "idc6pFVpaENg"
      },
      "source": [
        "*Checking for Stationarity using ADF Test*"
      ]
    },
    {
      "cell_type": "code",
      "metadata": {
        "id": "3jbhFiMVZIN8",
        "colab": {
          "base_uri": "https://localhost:8080/",
          "height": 168
        },
        "outputId": "d42c441b-51be-444e-e792-030d7665d751"
      },
      "source": [
        "#Checking whether the data is Stationary using ADF test\n",
        "from statsmodels.tsa.stattools import adfuller\n",
        "print ('Results of Dickey-Fuller Test:')\n",
        "dftest = adfuller(tsdata1['total_amount_withdrawn'].values, autolag= 'AIC')\n",
        "dfoutput = pd.Series(dftest[0:4], index=['Test Statistic','p-value','#Lags Used','Number of Observations Used'])\n",
        "for key,value in dftest[4].items():\n",
        "   dfoutput['Critical Value (%s)'%key] = value\n",
        "print (dfoutput)"
      ],
      "execution_count": null,
      "outputs": [
        {
          "output_type": "stream",
          "text": [
            "Results of Dickey-Fuller Test:\n",
            "Test Statistic                 -2.436333\n",
            "p-value                         0.131743\n",
            "#Lags Used                      0.000000\n",
            "Number of Observations Used    80.000000\n",
            "Critical Value (1%)            -3.514869\n",
            "Critical Value (5%)            -2.898409\n",
            "Critical Value (10%)           -2.586439\n",
            "dtype: float64\n"
          ],
          "name": "stdout"
        }
      ]
    },
    {
      "cell_type": "markdown",
      "metadata": {
        "id": "TmJ-6pB08WRO"
      },
      "source": [
        "Since the pvalue is greater than 0.05 we fail to reject Ho and conclude that the series is non stationary."
      ]
    },
    {
      "cell_type": "markdown",
      "metadata": {
        "id": "LZggcYJlHs9Z"
      },
      "source": [
        "*Splitting the data into Training and Test data*"
      ]
    },
    {
      "cell_type": "code",
      "metadata": {
        "id": "emWxQgbBJAxJ",
        "colab": {
          "base_uri": "https://localhost:8080/",
          "height": 454
        },
        "outputId": "7b01dc87-6063-4f43-aeaa-4397fbfaa845"
      },
      "source": [
        "tsdata_train = tsdata2.iloc[0:72] #Considering all the data till 2016 as train data \n",
        "print(tsdata_train)\n",
        "tsdata_test = tsdata2.iloc[72:] #Considerng all the 2017 data as test data\n",
        "print(tsdata_test)"
      ],
      "execution_count": null,
      "outputs": [
        {
          "output_type": "stream",
          "text": [
            "            total_amount_withdrawn\n",
            "date                              \n",
            "2011-01-01                14870100\n",
            "2011-02-01                13852800\n",
            "2011-03-01                16366000\n",
            "2011-04-01                15391400\n",
            "2011-05-01                18080800\n",
            "...                            ...\n",
            "2016-08-01                 7817300\n",
            "2016-09-01                 6631200\n",
            "2016-10-01                 8659400\n",
            "2016-11-01                 1468600\n",
            "2016-12-01                 1594150\n",
            "\n",
            "[72 rows x 1 columns]\n",
            "            total_amount_withdrawn\n",
            "date                              \n",
            "2017-01-01                 1719700\n",
            "2017-02-01                 8357800\n",
            "2017-03-01                 6076000\n",
            "2017-04-01                11822400\n",
            "2017-05-01                 7458600\n",
            "2017-06-01                 6811100\n",
            "2017-07-01                 7415700\n",
            "2017-08-01                 7100200\n",
            "2017-09-01                 7633300\n"
          ],
          "name": "stdout"
        }
      ]
    },
    {
      "cell_type": "markdown",
      "metadata": {
        "id": "fJ-jpUa-8P0J"
      },
      "source": [
        "*Making the Data Stationary*"
      ]
    },
    {
      "cell_type": "code",
      "metadata": {
        "id": "VX06grcffX9U",
        "colab": {
          "base_uri": "https://localhost:8080/",
          "height": 282
        },
        "outputId": "84dadfcc-8708-4aaa-97a8-9bccbb66ae73"
      },
      "source": [
        "#Transforming the data to reduce the trend \n",
        "ts_log = np.log(tsdata_train)\n",
        "plt.plot(ts_log)      "
      ],
      "execution_count": null,
      "outputs": [
        {
          "output_type": "execute_result",
          "data": {
            "text/plain": [
              "[<matplotlib.lines.Line2D at 0x7f4c3c84f2b0>]"
            ]
          },
          "metadata": {
            "tags": []
          },
          "execution_count": 456
        },
        {
          "output_type": "display_data",
          "data": {
            "image/png": "[encoded data removed]",
            "text/plain": [
              "<Figure size 432x288 with 1 Axes>"
            ]
          },
          "metadata": {
            "tags": [],
            "needs_background": "light"
          }
        }
      ]
    },
    {
      "cell_type": "code",
      "metadata": {
        "id": "HkBB-P2jd8ES",
        "colab": {
          "base_uri": "https://localhost:8080/",
          "height": 297
        },
        "outputId": "5c863924-38ee-4a95-f544-d06d77319cda"
      },
      "source": [
        "dec = seasonal_decompose(ts_log,model = 'additive')\n",
        "dec.plot()\n",
        "plt.show()\n",
        "#We can see that the trend has been smoothened a bit"
      ],
      "execution_count": null,
      "outputs": [
        {
          "output_type": "display_data",
          "data": {
            "image/png": "[encoded data removed]",
            "text/plain": [
              "<Figure size 432x288 with 4 Axes>"
            ]
          },
          "metadata": {
            "tags": [],
            "needs_background": "light"
          }
        }
      ]
    },
    {
      "cell_type": "code",
      "metadata": {
        "id": "Rf5rWJGU8oLj",
        "colab": {
          "base_uri": "https://localhost:8080/",
          "height": 282
        },
        "outputId": "52db7188-7031-4377-e882-6be737f7dc5f"
      },
      "source": [
        "#Differencing the data \n",
        "tslog_diff = ts_log - ts_log.shift(1)\n",
        "tslog_diff\n",
        "plt.plot(tslog_diff)"
      ],
      "execution_count": null,
      "outputs": [
        {
          "output_type": "execute_result",
          "data": {
            "text/plain": [
              "[<matplotlib.lines.Line2D at 0x7f4c3c83e668>]"
            ]
          },
          "metadata": {
            "tags": []
          },
          "execution_count": 458
        },
        {
          "output_type": "display_data",
          "data": {
            "image/png": "[encoded data removed]",
            "text/plain": [
              "<Figure size 432x288 with 1 Axes>"
            ]
          },
          "metadata": {
            "tags": [],
            "needs_background": "light"
          }
        }
      ]
    },
    {
      "cell_type": "code",
      "metadata": {
        "id": "eVZwBtrD-I0c",
        "colab": {
          "base_uri": "https://localhost:8080/",
          "height": 431
        },
        "outputId": "40c2f213-8abf-4055-87d2-b3c12d8d619a"
      },
      "source": [
        "tslog_diff = tslog_diff.dropna(axis = 0)\n",
        "tslog_diff"
      ],
      "execution_count": null,
      "outputs": [
        {
          "output_type": "execute_result",
          "data": {
            "text/html": [
              "<div>\n",
              "<style scoped>\n",
              "    .dataframe tbody tr th:only-of-type {\n",
              "        vertical-align: middle;\n",
              "    }\n",
              "\n",
              "    .dataframe tbody tr th {\n",
              "        vertical-align: top;\n",
              "    }\n",
              "\n",
              "    .dataframe thead th {\n",
              "        text-align: right;\n",
              "    }\n",
              "</style>\n",
              "<table border=\"1\" class=\"dataframe\">\n",
              "  <thead>\n",
              "    <tr style=\"text-align: right;\">\n",
              "      <th></th>\n",
              "      <th>total_amount_withdrawn</th>\n",
              "    </tr>\n",
              "    <tr>\n",
              "      <th>date</th>\n",
              "      <th></th>\n",
              "    </tr>\n",
              "  </thead>\n",
              "  <tbody>\n",
              "    <tr>\n",
              "      <th>2011-02-01</th>\n",
              "      <td>-0.070865</td>\n",
              "    </tr>\n",
              "    <tr>\n",
              "      <th>2011-03-01</th>\n",
              "      <td>0.166719</td>\n",
              "    </tr>\n",
              "    <tr>\n",
              "      <th>2011-04-01</th>\n",
              "      <td>-0.061397</td>\n",
              "    </tr>\n",
              "    <tr>\n",
              "      <th>2011-05-01</th>\n",
              "      <td>0.161042</td>\n",
              "    </tr>\n",
              "    <tr>\n",
              "      <th>2011-06-01</th>\n",
              "      <td>-0.070286</td>\n",
              "    </tr>\n",
              "    <tr>\n",
              "      <th>...</th>\n",
              "      <td>...</td>\n",
              "    </tr>\n",
              "    <tr>\n",
              "      <th>2016-08-01</th>\n",
              "      <td>0.088682</td>\n",
              "    </tr>\n",
              "    <tr>\n",
              "      <th>2016-09-01</th>\n",
              "      <td>-0.164553</td>\n",
              "    </tr>\n",
              "    <tr>\n",
              "      <th>2016-10-01</th>\n",
              "      <td>0.266860</td>\n",
              "    </tr>\n",
              "    <tr>\n",
              "      <th>2016-11-01</th>\n",
              "      <td>-1.774336</td>\n",
              "    </tr>\n",
              "    <tr>\n",
              "      <th>2016-12-01</th>\n",
              "      <td>0.082031</td>\n",
              "    </tr>\n",
              "  </tbody>\n",
              "</table>\n",
              "<p>71 rows × 1 columns</p>\n",
              "</div>"
            ],
            "text/plain": [
              "            total_amount_withdrawn\n",
              "date                              \n",
              "2011-02-01               -0.070865\n",
              "2011-03-01                0.166719\n",
              "2011-04-01               -0.061397\n",
              "2011-05-01                0.161042\n",
              "2011-06-01               -0.070286\n",
              "...                            ...\n",
              "2016-08-01                0.088682\n",
              "2016-09-01               -0.164553\n",
              "2016-10-01                0.266860\n",
              "2016-11-01               -1.774336\n",
              "2016-12-01                0.082031\n",
              "\n",
              "[71 rows x 1 columns]"
            ]
          },
          "metadata": {
            "tags": []
          },
          "execution_count": 459
        }
      ]
    },
    {
      "cell_type": "code",
      "metadata": {
        "id": "byNt4Pxn9Oih",
        "colab": {
          "base_uri": "https://localhost:8080/",
          "height": 168
        },
        "outputId": "a2368b7b-273e-41b6-918a-51f3c7fa3890"
      },
      "source": [
        "#Checking whether the data is Stationary using ADF test\n",
        "print ('Results of Dickey-Fuller Test:')\n",
        "dftest = adfuller(tslog_diff['total_amount_withdrawn'].values, autolag= 'AIC')\n",
        "dfoutput = pd.Series(dftest[0:4], index=['Test Statistic','p-value','#Lags Used','Number of Observations Used'])\n",
        "for key,value in dftest[4].items():\n",
        "   dfoutput['Critical Value (%s)'%key] = value\n",
        "print (dfoutput)"
      ],
      "execution_count": null,
      "outputs": [
        {
          "output_type": "stream",
          "text": [
            "Results of Dickey-Fuller Test:\n",
            "Test Statistic                -7.647351e+00\n",
            "p-value                        1.827663e-11\n",
            "#Lags Used                     3.000000e+00\n",
            "Number of Observations Used    6.700000e+01\n",
            "Critical Value (1%)           -3.531955e+00\n",
            "Critical Value (5%)           -2.905755e+00\n",
            "Critical Value (10%)          -2.590357e+00\n",
            "dtype: float64\n"
          ],
          "name": "stdout"
        }
      ]
    },
    {
      "cell_type": "markdown",
      "metadata": {
        "id": "5gblHxwZK21j"
      },
      "source": [
        "Since the pvalue is less than 0.05 we reject Ho and conclude that the series is stationary."
      ]
    },
    {
      "cell_type": "code",
      "metadata": {
        "id": "PlytleX-LSpe",
        "colab": {
          "base_uri": "https://localhost:8080/",
          "height": 298
        },
        "outputId": "916af438-d971-437a-a7d4-236e25434df7"
      },
      "source": [
        "dec = seasonal_decompose(tslog_diff,model = 'additive')\n",
        "dec.plot()\n",
        "plt.show()"
      ],
      "execution_count": null,
      "outputs": [
        {
          "output_type": "display_data",
          "data": {
            "image/png": "[encoded data removed]",
            "text/plain": [
              "<Figure size 432x288 with 4 Axes>"
            ]
          },
          "metadata": {
            "tags": [],
            "needs_background": "light"
          }
        }
      ]
    },
    {
      "cell_type": "markdown",
      "metadata": {
        "id": "Bv9PCtslLCI1"
      },
      "source": [
        "*Making ACF And PACF plots*"
      ]
    },
    {
      "cell_type": "code",
      "metadata": {
        "id": "yjvkZjKIUYl6",
        "colab": {
          "base_uri": "https://localhost:8080/",
          "height": 545
        },
        "outputId": "55c99c7c-85f2-47c6-fcb0-2423b28c50de"
      },
      "source": [
        "#ACF and PACF plots\n",
        "from statsmodels.graphics.tsaplots import plot_acf,plot_pacf\n",
        "\n",
        "plot_acf(tslog_diff)\n",
        "plot_pacf(tslog_diff)\n",
        "plt.show()"
      ],
      "execution_count": null,
      "outputs": [
        {
          "output_type": "display_data",
          "data": {
            "image/png": "[encoded data removed]",
            "text/plain": [
              "<Figure size 432x288 with 1 Axes>"
            ]
          },
          "metadata": {
            "tags": [],
            "needs_background": "light"
          }
        },
        {
          "output_type": "display_data",
          "data": {
            "image/png": "[encoded data removed]",
            "text/plain": [
              "<Figure size 432x288 with 1 Axes>"
            ]
          },
          "metadata": {
            "tags": [],
            "needs_background": "light"
          }
        }
      ]
    },
    {
      "cell_type": "markdown",
      "metadata": {
        "id": "B1pjZ87kWan6"
      },
      "source": [
        "*Fitting Arima Model*"
      ]
    },
    {
      "cell_type": "code",
      "metadata": {
        "id": "5nwhtbY7Wf0-"
      },
      "source": [
        "from statsmodels.tsa.arima_model import ARIMA"
      ],
      "execution_count": null,
      "outputs": []
    },
    {
      "cell_type": "code",
      "metadata": {
        "id": "MrtJa4HF41gI",
        "colab": {
          "base_uri": "https://localhost:8080/",
          "height": 252
        },
        "outputId": "50439556-46e6-4915-caa9-b33d7060cf50"
      },
      "source": [
        "!pip3 install pmdarima"
      ],
      "execution_count": null,
      "outputs": [
        {
          "output_type": "stream",
          "text": [
            "Requirement already satisfied: pmdarima in /usr/local/lib/python3.6/dist-packages (1.7.1)\n",
            "Requirement already satisfied: numpy>=1.17.3 in /usr/local/lib/python3.6/dist-packages (from pmdarima) (1.18.5)\n",
            "Requirement already satisfied: statsmodels<0.12,>=0.11 in /usr/local/lib/python3.6/dist-packages (from pmdarima) (0.11.1)\n",
            "Requirement already satisfied: scikit-learn>=0.22 in /usr/local/lib/python3.6/dist-packages (from pmdarima) (0.22.2.post1)\n",
            "Requirement already satisfied: scipy>=1.3.2 in /usr/local/lib/python3.6/dist-packages (from pmdarima) (1.4.1)\n",
            "Requirement already satisfied: Cython<0.29.18,>=0.29 in /usr/local/lib/python3.6/dist-packages (from pmdarima) (0.29.17)\n",
            "Requirement already satisfied: pandas>=0.19 in /usr/local/lib/python3.6/dist-packages (from pmdarima) (1.0.5)\n",
            "Requirement already satisfied: setuptools<50.0.0 in /usr/local/lib/python3.6/dist-packages (from pmdarima) (49.6.0)\n",
            "Requirement already satisfied: joblib>=0.11 in /usr/local/lib/python3.6/dist-packages (from pmdarima) (0.16.0)\n",
            "Requirement already satisfied: urllib3 in /usr/local/lib/python3.6/dist-packages (from pmdarima) (1.24.3)\n",
            "Requirement already satisfied: patsy>=0.5 in /usr/local/lib/python3.6/dist-packages (from statsmodels<0.12,>=0.11->pmdarima) (0.5.1)\n",
            "Requirement already satisfied: pytz>=2017.2 in /usr/local/lib/python3.6/dist-packages (from pandas>=0.19->pmdarima) (2018.9)\n",
            "Requirement already satisfied: python-dateutil>=2.6.1 in /usr/local/lib/python3.6/dist-packages (from pandas>=0.19->pmdarima) (2.8.1)\n",
            "Requirement already satisfied: six in /usr/local/lib/python3.6/dist-packages (from patsy>=0.5->statsmodels<0.12,>=0.11->pmdarima) (1.15.0)\n"
          ],
          "name": "stdout"
        }
      ]
    },
    {
      "cell_type": "code",
      "metadata": {
        "id": "BrAH0OGX5i3v"
      },
      "source": [
        "from pmdarima.arima import auto_arima"
      ],
      "execution_count": null,
      "outputs": []
    },
    {
      "cell_type": "code",
      "metadata": {
        "id": "sRmBNV3qW3nI",
        "colab": {
          "base_uri": "https://localhost:8080/",
          "height": 422
        },
        "outputId": "43f4fd29-04cb-40f5-8067-9b1ab97b3fe5"
      },
      "source": [
        "model = auto_arima(tsdata_train,stepwise= True,stationary= True)\n",
        "model.fit(tsdata_train)\n",
        "model.summary()"
      ],
      "execution_count": null,
      "outputs": [
        {
          "output_type": "execute_result",
          "data": {
            "text/html": [
              "<table class=\"simpletable\">\n",
              "<caption>SARIMAX Results</caption>\n",
              "<tr>\n",
              "  <th>Dep. Variable:</th>           <td>y</td>        <th>  No. Observations:  </th>    <td>72</td>    \n",
              "</tr>\n",
              "<tr>\n",
              "  <th>Model:</th>           <td>SARIMAX(1, 0, 0)</td> <th>  Log Likelihood     </th> <td>-1183.293</td>\n",
              "</tr>\n",
              "<tr>\n",
              "  <th>Date:</th>            <td>Wed, 23 Sep 2020</td> <th>  AIC                </th> <td>2372.587</td> \n",
              "</tr>\n",
              "<tr>\n",
              "  <th>Time:</th>                <td>18:42:54</td>     <th>  BIC                </th> <td>2379.417</td> \n",
              "</tr>\n",
              "<tr>\n",
              "  <th>Sample:</th>                  <td>0</td>        <th>  HQIC               </th> <td>2375.306</td> \n",
              "</tr>\n",
              "<tr>\n",
              "  <th></th>                       <td> - 72</td>      <th>                     </th>     <td> </td>    \n",
              "</tr>\n",
              "<tr>\n",
              "  <th>Covariance Type:</th>        <td>opg</td>       <th>                     </th>     <td> </td>    \n",
              "</tr>\n",
              "</table>\n",
              "<table class=\"simpletable\">\n",
              "<tr>\n",
              "      <td></td>         <th>coef</th>     <th>std err</th>      <th>z</th>      <th>P>|z|</th>  <th>[0.025</th>    <th>0.975]</th>  \n",
              "</tr>\n",
              "<tr>\n",
              "  <th>intercept</th> <td> 1.982e+06</td> <td> 1.56e-09</td> <td> 1.27e+15</td> <td> 0.000</td> <td> 1.98e+06</td> <td> 1.98e+06</td>\n",
              "</tr>\n",
              "<tr>\n",
              "  <th>ar.L1</th>     <td>    0.8584</td> <td>    0.026</td> <td>   33.654</td> <td> 0.000</td> <td>    0.808</td> <td>    0.908</td>\n",
              "</tr>\n",
              "<tr>\n",
              "  <th>sigma2</th>    <td> 1.097e+13</td> <td> 3.25e-16</td> <td> 3.38e+28</td> <td> 0.000</td> <td>  1.1e+13</td> <td>  1.1e+13</td>\n",
              "</tr>\n",
              "</table>\n",
              "<table class=\"simpletable\">\n",
              "<tr>\n",
              "  <th>Ljung-Box (L1) (Q):</th>     <td>0.86</td> <th>  Jarque-Bera (JB):  </th> <td>73.63</td>\n",
              "</tr>\n",
              "<tr>\n",
              "  <th>Prob(Q):</th>                <td>0.35</td> <th>  Prob(JB):          </th> <td>0.00</td> \n",
              "</tr>\n",
              "<tr>\n",
              "  <th>Heteroskedasticity (H):</th> <td>4.51</td> <th>  Skew:              </th> <td>-1.32</td>\n",
              "</tr>\n",
              "<tr>\n",
              "  <th>Prob(H) (two-sided):</th>    <td>0.00</td> <th>  Kurtosis:          </th> <td>7.20</td> \n",
              "</tr>\n",
              "</table><br/><br/>Warnings:<br/>[1] Covariance matrix calculated using the outer product of gradients (complex-step).<br/>[2] Covariance matrix is singular or near-singular, with condition number    inf. Standard errors may be unstable."
            ],
            "text/plain": [
              "<class 'statsmodels.iolib.summary.Summary'>\n",
              "\"\"\"\n",
              "                               SARIMAX Results                                \n",
              "==============================================================================\n",
              "Dep. Variable:                      y   No. Observations:                   72\n",
              "Model:               SARIMAX(1, 0, 0)   Log Likelihood               -1183.293\n",
              "Date:                Wed, 23 Sep 2020   AIC                           2372.587\n",
              "Time:                        18:42:54   BIC                           2379.417\n",
              "Sample:                             0   HQIC                          2375.306\n",
              "                                 - 72                                         \n",
              "Covariance Type:                  opg                                         \n",
              "==============================================================================\n",
              "                 coef    std err          z      P>|z|      [0.025      0.975]\n",
              "------------------------------------------------------------------------------\n",
              "intercept   1.982e+06   1.56e-09   1.27e+15      0.000    1.98e+06    1.98e+06\n",
              "ar.L1          0.8584      0.026     33.654      0.000       0.808       0.908\n",
              "sigma2      1.097e+13   3.25e-16   3.38e+28      0.000     1.1e+13     1.1e+13\n",
              "===================================================================================\n",
              "Ljung-Box (L1) (Q):                   0.86   Jarque-Bera (JB):                73.63\n",
              "Prob(Q):                              0.35   Prob(JB):                         0.00\n",
              "Heteroskedasticity (H):               4.51   Skew:                            -1.32\n",
              "Prob(H) (two-sided):                  0.00   Kurtosis:                         7.20\n",
              "===================================================================================\n",
              "\n",
              "Warnings:\n",
              "[1] Covariance matrix calculated using the outer product of gradients (complex-step).\n",
              "[2] Covariance matrix is singular or near-singular, with condition number    inf. Standard errors may be unstable.\n",
              "\"\"\""
            ]
          },
          "metadata": {
            "tags": []
          },
          "execution_count": 499
        }
      ]
    },
    {
      "cell_type": "code",
      "metadata": {
        "id": "Pxe6MYNXZN9t",
        "colab": {
          "base_uri": "https://localhost:8080/",
          "height": 302
        },
        "outputId": "637c2d3c-f584-4567-d9fb-024347bc78d0"
      },
      "source": [
        "stepwise_model = auto_arima(tsdata_train,seasonal=True, trace=True,m = 12,\n",
        "                           error_action='ignore', stationary = True,\n",
        "                           suppress_warnings=True, \n",
        "                           stepwise=True)"
      ],
      "execution_count": null,
      "outputs": [
        {
          "output_type": "stream",
          "text": [
            "Performing stepwise search to minimize aic\n",
            " ARIMA(2,0,2)(1,0,1)[12] intercept   : AIC=2379.304, Time=0.96 sec\n",
            " ARIMA(0,0,0)(0,0,0)[12] intercept   : AIC=2451.583, Time=0.01 sec\n",
            " ARIMA(1,0,0)(1,0,0)[12] intercept   : AIC=2374.500, Time=0.11 sec\n",
            " ARIMA(0,0,1)(0,0,1)[12] intercept   : AIC=2422.018, Time=0.05 sec\n",
            " ARIMA(0,0,0)(0,0,0)[12]             : AIC=2597.510, Time=0.01 sec\n",
            " ARIMA(1,0,0)(0,0,0)[12] intercept   : AIC=2372.587, Time=0.02 sec\n",
            " ARIMA(1,0,0)(0,0,1)[12] intercept   : AIC=2374.544, Time=0.07 sec\n",
            " ARIMA(1,0,0)(1,0,1)[12] intercept   : AIC=2376.350, Time=0.11 sec\n",
            " ARIMA(2,0,0)(0,0,0)[12] intercept   : AIC=2373.502, Time=0.03 sec\n",
            " ARIMA(1,0,1)(0,0,0)[12] intercept   : AIC=2373.219, Time=0.03 sec\n",
            " ARIMA(0,0,1)(0,0,0)[12] intercept   : AIC=2420.024, Time=0.02 sec\n",
            " ARIMA(2,0,1)(0,0,0)[12] intercept   : AIC=2374.924, Time=0.05 sec\n",
            " ARIMA(1,0,0)(0,0,0)[12]             : AIC=2376.183, Time=0.01 sec\n",
            "\n",
            "Best model:  ARIMA(1,0,0)(0,0,0)[12] intercept\n",
            "Total fit time: 1.505 seconds\n"
          ],
          "name": "stdout"
        }
      ]
    },
    {
      "cell_type": "markdown",
      "metadata": {
        "id": "_HtMT7RtZvVv"
      },
      "source": [
        "Here we can see we get ARIMA(1,0,0)(0,0,0)[12] , SARIMA(1,0,0) with the least AIC value."
      ]
    },
    {
      "cell_type": "code",
      "metadata": {
        "id": "bwU9gGIqZuiF",
        "colab": {
          "base_uri": "https://localhost:8080/",
          "height": 377
        },
        "outputId": "702af229-70ae-4fd4-a87c-dc303d2738c4"
      },
      "source": [
        "forecast = model.predict(n_periods= len(tsdata_test))\n",
        "forecast\n",
        "forecast = forecast.astype('int')\n",
        "print(forecast)\n",
        "forecast = pd.DataFrame(forecast,index = tsdata_test.index,columns=['Prediction'])\n",
        "forecast"
      ],
      "execution_count": null,
      "outputs": [
        {
          "output_type": "stream",
          "text": [
            "[ 3350529  4858255  6152530  7263574  8217325  9036053  9738873 10342193\n",
            " 10860101]\n"
          ],
          "name": "stdout"
        },
        {
          "output_type": "execute_result",
          "data": {
            "text/html": [
              "<div>\n",
              "<style scoped>\n",
              "    .dataframe tbody tr th:only-of-type {\n",
              "        vertical-align: middle;\n",
              "    }\n",
              "\n",
              "    .dataframe tbody tr th {\n",
              "        vertical-align: top;\n",
              "    }\n",
              "\n",
              "    .dataframe thead th {\n",
              "        text-align: right;\n",
              "    }\n",
              "</style>\n",
              "<table border=\"1\" class=\"dataframe\">\n",
              "  <thead>\n",
              "    <tr style=\"text-align: right;\">\n",
              "      <th></th>\n",
              "      <th>Prediction</th>\n",
              "    </tr>\n",
              "    <tr>\n",
              "      <th>date</th>\n",
              "      <th></th>\n",
              "    </tr>\n",
              "  </thead>\n",
              "  <tbody>\n",
              "    <tr>\n",
              "      <th>2017-01-01</th>\n",
              "      <td>3350529</td>\n",
              "    </tr>\n",
              "    <tr>\n",
              "      <th>2017-02-01</th>\n",
              "      <td>4858255</td>\n",
              "    </tr>\n",
              "    <tr>\n",
              "      <th>2017-03-01</th>\n",
              "      <td>6152530</td>\n",
              "    </tr>\n",
              "    <tr>\n",
              "      <th>2017-04-01</th>\n",
              "      <td>7263574</td>\n",
              "    </tr>\n",
              "    <tr>\n",
              "      <th>2017-05-01</th>\n",
              "      <td>8217325</td>\n",
              "    </tr>\n",
              "    <tr>\n",
              "      <th>2017-06-01</th>\n",
              "      <td>9036053</td>\n",
              "    </tr>\n",
              "    <tr>\n",
              "      <th>2017-07-01</th>\n",
              "      <td>9738873</td>\n",
              "    </tr>\n",
              "    <tr>\n",
              "      <th>2017-08-01</th>\n",
              "      <td>10342193</td>\n",
              "    </tr>\n",
              "    <tr>\n",
              "      <th>2017-09-01</th>\n",
              "      <td>10860101</td>\n",
              "    </tr>\n",
              "  </tbody>\n",
              "</table>\n",
              "</div>"
            ],
            "text/plain": [
              "            Prediction\n",
              "date                  \n",
              "2017-01-01     3350529\n",
              "2017-02-01     4858255\n",
              "2017-03-01     6152530\n",
              "2017-04-01     7263574\n",
              "2017-05-01     8217325\n",
              "2017-06-01     9036053\n",
              "2017-07-01     9738873\n",
              "2017-08-01    10342193\n",
              "2017-09-01    10860101"
            ]
          },
          "metadata": {
            "tags": []
          },
          "execution_count": 503
        }
      ]
    },
    {
      "cell_type": "code",
      "metadata": {
        "id": "JuNuaHXIZuGx",
        "colab": {
          "base_uri": "https://localhost:8080/",
          "height": 276
        },
        "outputId": "d248dd54-0231-4153-a052-546c37514cd5"
      },
      "source": [
        "#plot the predictions for validation set\n",
        "plt.plot(tsdata_train, label='Train')\n",
        "plt.plot(tsdata_test, label='Test')\n",
        "plt.plot(forecast, label='Prediction')\n",
        "plt.show()"
      ],
      "execution_count": null,
      "outputs": [
        {
          "output_type": "display_data",
          "data": {
            "image/png": "[encoded data removed]",
            "text/plain": [
              "<Figure size 432x288 with 1 Axes>"
            ]
          },
          "metadata": {
            "tags": [],
            "needs_background": "light"
          }
        }
      ]
    },
    {
      "cell_type": "markdown",
      "metadata": {
        "id": "G5Zbmj1RbITz"
      },
      "source": [
        "*Evaluating the model*"
      ]
    },
    {
      "cell_type": "code",
      "metadata": {
        "id": "chTV83LOa8pJ",
        "colab": {
          "base_uri": "https://localhost:8080/",
          "height": 67
        },
        "outputId": "e3a61af4-293a-42f3-e0f6-f48b95bee7fa"
      },
      "source": [
        "#Calculating RMSE\n",
        "from math  import sqrt \n",
        "from sklearn.metrics import mean_squared_error\n",
        "\n",
        "mse = mean_squared_error(tsdata_test,forecast)\n",
        "print('Mean Square Error',mse)\n",
        "rmse = sqrt(mse)\n",
        "print('Root mean square error:',rmse)\n",
        "\n",
        "print('Mean Absolute Error:',mean_absolute_error(tsdata_test,forecast))\n"
      ],
      "execution_count": null,
      "outputs": [
        {
          "output_type": "stream",
          "text": [
            "Mean Square Error 7504571704983.889\n",
            "Root mean square error: 2739447.335683584\n",
            "Mean Absolute Error: 2393486.111111111\n"
          ],
          "name": "stdout"
        }
      ]
    }
  ]
}